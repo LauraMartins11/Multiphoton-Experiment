{
 "cells": [
  {
   "cell_type": "code",
   "execution_count": 1,
   "metadata": {},
   "outputs": [],
   "source": [
    "import numpy as np\n",
    "import scipy\n",
    "import time\n",
    "import math\n",
    "from scipy.stats import norm\n",
    "\n",
    "import mystic\n",
    "from mystic.solvers import DifferentialEvolutionSolver, diffev2\n",
    "from mystic.strategy import Best1Bin\n",
    "from mystic.monitors import Monitor,VerboseMonitor\n",
    "\n",
    "from copy import deepcopy\n",
    "\n",
    "\n",
    "from Tomography import *\n",
    "\n",
    "from NestedForLoop import get_iterator\n",
    "from pathlib import Path\n",
    "from scipy.linalg import sqrtm\n",
    "\n",
    "import matplotlib.pyplot as plt\n",
    "from scipy.optimize import curve_fit\n",
    "\n",
    "import os\n",
    "import glob\n",
    "\n",
    "import pandas as pd\n",
    "\n",
    "from scipy.optimize import least_squares\n",
    "\n",
    "import fnmatch\n",
    "from Efficiencies import finding_file, get_channels_eff, set_raw_counts\n",
    "from Optimization import Optimizer, function_fidelity, FidelityResults\n",
    "\n",
    "from DensityMatrix import DensityMatrix"
   ]
  },
  {
   "cell_type": "code",
   "execution_count": 2,
   "metadata": {},
   "outputs": [],
   "source": [
    "Pauli=np.asarray([\n",
    "        [[1,0],\n",
    "        [0,1]],\n",
    "\n",
    "\n",
    "        [[0,1],\n",
    "        [1,0]],\n",
    "\n",
    "\n",
    "        [[0,-1j],\n",
    "        [1j,0]],\n",
    "\n",
    "\n",
    "        [[1,0],\n",
    "        [0,-1]]])"
   ]
  },
  {
   "cell_type": "code",
   "execution_count": 3,
   "metadata": {
    "scrolled": true
   },
   "outputs": [],
   "source": [
    "### Counting files and printing them to make sure we are analysing the correct data ###\n",
    "n_files=0\n",
    "working_dir=r\"G:\\Other computers\\Mon ordinateur\\ChannelCertification\\SteeringHonest\"\n",
    "#working_dir=r\"G:\\Other computers\\Mon ordinateur\\ChannelCertification\\SteeringMaliciousBPF\\BPF202205262200\"\n",
    "os.chdir(working_dir)\n",
    "\n",
    "filenames = [i for i in glob.glob(\"Channel*\")]\n",
    "#filenames = [i for i in glob.glob(\"StateTomography*\")]\n",
    "filenames.sort(key=os.path.getmtime)\n",
    "\n",
    "index_to_file = {}\n",
    "\n",
    "for index, filename in enumerate(filenames):\n",
    "    os.chdir(working_dir+'\\\\'+filename)\n",
    "    filenames_aux=[i for i in glob.glob(\"StateTomography*\")]\n",
    "    for index_second, filenames_aux_second in enumerate(filenames_aux):\n",
    "        index_to_file[index] = f\"{filename}\\\\{filenames_aux_second}\"\n",
    "        n_files+=1\n",
    "os.chdir(working_dir)"
   ]
  },
  {
   "cell_type": "code",
   "execution_count": 10,
   "metadata": {},
   "outputs": [
    {
     "data": {
      "text/plain": [
       "'ChannelSTSteeringHonest202205241455\\\\StateTomography202205241431'"
      ]
     },
     "execution_count": 10,
     "metadata": {},
     "output_type": "execute_result"
    }
   ],
   "source": [
    "index_to_file[0]"
   ]
  },
  {
   "cell_type": "code",
   "execution_count": 5,
   "metadata": {
    "scrolled": true
   },
   "outputs": [],
   "source": [
    "working_dir=r\"G:\\Other computers\\Mon ordinateur\\ChannelCertification\\SteeringHonest\"\n",
    "#working_dir=r\"G:\\Other computers\\Mon ordinateur\\ChannelCertification\\SteeringMaliciousBPF\\BPF202205262200\"\n",
    "os.chdir(working_dir)\n",
    "\n",
    "filenames = [i for i in glob.glob(\"Channel*\")]\n",
    "#filenames = [i for i in glob.glob(\"StateTomography*\")]\n",
    "filenames.sort(key=os.path.getmtime)\n",
    "\n",
    "qubit_number=2\n",
    "\n",
    "state_after=[]#np.zeros((int(n_files/2),2**qubit_number,2**qubit_number), dtype=complex)\n",
    "state_before=[]#np.zeros((int(n_files/2),2**qubit_number,2**qubit_number), dtype=complex)\n",
    "\n",
    "#####################################################################\n",
    "#---------------------- STATE TOMOGRAPHY ----------------------------\n",
    "#####################################################################\n",
    "\n",
    "#for index in range(n_files):\n",
    "    \n",
    "for index, filename in enumerate(filenames):\n",
    "    os.chdir(working_dir+'\\\\'+filename)\n",
    "    filenames_aux=[i for i in glob.glob(\"StateTomography*\")]\n",
    "    for index_second, filenames_aux_second in enumerate(filenames_aux):\n",
    "        #print(index, filenames_aux_second)\n",
    "        os.chdir(working_dir+'\\\\'+filename+'\\\\'+filenames_aux_second+'\\\\'+'StateTomo')\n",
    "        datafiles=[i for i in glob.glob(\"*\")]\n",
    "                \n",
    "        ##Calculating the efficiencies of each detector\n",
    "        efficiencies=get_channels_eff(datafiles, os.getcwd())\n",
    "    \n",
    "        ### Opening the data files and writing the data in counts_aux array\n",
    "        counts_aux=set_raw_counts(datafiles, qubit_number, os.getcwd())\n",
    "        xp_counts=np.array(np.transpose(counts_aux))\n",
    "\n",
    "        statetomo=LRETomography(int(qubit_number), xp_counts, 'C:\\\\Users\\\\LauraMartins\\\\Documents\\\\PhD\\\\Lab\\\\Code\\\\Tomographies')\n",
    "        statetomo.run(correct_eff=efficiencies, print_nc=False)\n",
    "        statetomo.quantum_state.get_density_matrix()\n",
    "        \n",
    "        ### The 'e' and 'r' serve to distinguish between tomography before and after, respectively\n",
    "        ### We want to save them in different arrays because we need them for different things\n",
    "        if filenames_aux_second[-8]=='e':\n",
    "            state_before.append(DensityMatrix(statetomo.quantum_state.get_density_matrix()))\n",
    "            #print('\\n Fast maximum likelihood estimation: \\n', state_before[-1], '\\n')\n",
    "            \n",
    "        elif filenames_aux_second[-8]=='r':\n",
    "            state_after.append(DensityMatrix(statetomo.quantum_state.get_density_matrix()))\n",
    "            #print('\\n Fast maximum likelihood estimation: \\n', state_after[-1], '\\n')\n",
    "            "
   ]
  },
  {
   "cell_type": "code",
   "execution_count": 6,
   "metadata": {},
   "outputs": [],
   "source": [
    "#bell=(np.array([1,0,0,0])+np.array([0,0,0,1]))/np.sqrt(2)\n",
    "#bell=(np.array([1,0,0,0])-np.array([0,0,0,1]))/np.sqrt(2)\n",
    "bell=(np.array([0,1,0,0])+np.array([0,0,1,0]))/np.sqrt(2)\n",
    "#bell=(np.array([0,1,0,0])-np.array([0,0,1,0]))/np.sqrt(2)\n",
    "bellmatrix=np.array(np.outer(bell, np.conjugate(bell)))"
   ]
  },
  {
   "cell_type": "code",
   "execution_count": 14,
   "metadata": {
    "scrolled": true
   },
   "outputs": [
    {
     "name": "stdout",
     "output_type": "stream",
     "text": [
      "Generation 0 has ChiSquare: -0.999815\n",
      "Generation 50 has ChiSquare: -0.999944\n",
      "Generation 100 has ChiSquare: -0.999944\n",
      "Generation 150 has ChiSquare: -0.999944\n",
      "Generation 200 has ChiSquare: -0.999944\n",
      "Generation 250 has ChiSquare: -0.999944\n",
      "Generation 300 has ChiSquare: -0.999944\n",
      "Generation 350 has ChiSquare: -0.999944\n",
      "Generation 400 has ChiSquare: -0.999944\n",
      "STOP(\"ChangeOverGeneration with {'tolerance': 1e-20, 'generations': 100}\")\n",
      "Optimization terminated successfully.\n",
      "         Current function value: -0.999944\n",
      "         Iterations: 446\n",
      "         Function evaluations: 44700\n"
     ]
    }
   ],
   "source": [
    "### Optimization of the fidelities with the unitaries ###\n",
    "fid=np.zeros((n_files))\n",
    "optimized_matrix=np.zeros((n_files,2**qubit_number,2**qubit_number), dtype='complex')\n",
    "\n",
    "guess=np.array([0, 0, 0, 0, 0, 0])\n",
    "bounds=[(-np.pi,np.pi)]*6\n",
    "results = []\n",
    "\n",
    "opt=Optimizer(guess, function_fidelity, results=FidelityResults)\n",
    "\n",
    "for index in range(1):#int(n_files/2-1)):\n",
    "    result=opt.optimize(dirinv_after[index], bell, bounds=bounds)\n",
    "    results.append(result)"
   ]
  },
  {
   "cell_type": "code",
   "execution_count": 8,
   "metadata": {},
   "outputs": [
    {
     "name": "stdout",
     "output_type": "stream",
     "text": [
      "0.0037138439589008087 9.803876316165033e-05\n"
     ]
    },
    {
     "data": {
      "text/plain": [
       "9.803876316165033e-05"
      ]
     },
     "execution_count": 8,
     "metadata": {},
     "output_type": "execute_result"
    }
   ],
   "source": [
    "error_runs=5\n",
    "\n",
    "mu=np.zeros((n_files))\n",
    "std=np.zeros((n_files))\n",
    "\n",
    "\n",
    "dm = state_before[-1]\n",
    "dm.calculate_errors(xp_counts, error_runs, bell)\n",
    "dm.std"
   ]
  },
  {
   "cell_type": "code",
   "execution_count": 51,
   "metadata": {},
   "outputs": [],
   "source": [
    "import xlsxwriter\n",
    "working_dir=r\"G:\\Other computers\\Mon ordinateur\\ChannelCertification\\SteeringHonest\"\n",
    "os.chdir(working_dir)\n",
    "\n",
    "workbook = xlsxwriter.Workbook('fidelities_errors.xlsx') ### We should write this in another place\n",
    " \n",
    "worksheet = workbook.add_worksheet()\n",
    "\n",
    "worksheet.write('A1', 'Number')\n",
    "worksheet.write('B1', 'Folder')\n",
    "worksheet.write('C1', 'File')\n",
    "worksheet.write('D1', 'Fidelity')\n",
    "worksheet.write('E1', 'Uncertainty')\n",
    " \n",
    "# Finally, close the Excel file\n",
    "# via the close() method.\n",
    "\n",
    "counter=0\n",
    "filenames = [i for i in glob.glob(\"Channel*\")]\n",
    "#filenames.sort(key=os.path.getmtime)\n",
    "for index, filename in enumerate(filenames):\n",
    "    os.chdir(working_dir+'\\\\'+filename)\n",
    "    filenames_aux=[i for i in glob.glob(\"StateTomography*\")]\n",
    "    for index_second, filenames_aux_second in enumerate(filenames_aux):\n",
    "        worksheet.write('A'+str(counter+2), counter)\n",
    "        worksheet.write('B'+str(counter+2),filename)\n",
    "        worksheet.write('C'+str(counter+2),filenames_aux_second)\n",
    "        worksheet.write('D'+str(counter+2),np.round(mu[counter],5))\n",
    "        worksheet.write('E'+str(counter+2),np.round(std[counter],5))\n",
    "        counter+=1\n",
    "        \n",
    "workbook.close()"
   ]
  },
  {
   "cell_type": "code",
   "execution_count": 52,
   "metadata": {},
   "outputs": [
    {
     "name": "stdout",
     "output_type": "stream",
     "text": [
      "0.9902684777264444 0.00020653115021695384\n",
      "52.89906916890987 0.9901366785908849 0.00012899069168909808\n"
     ]
    },
    {
     "data": {
      "text/plain": [
       "<matplotlib.legend.Legend at 0x258d4031730>"
      ]
     },
     "execution_count": 52,
     "metadata": {},
     "output_type": "execute_result"
    },
    {
     "data": {
      "image/png": "[encoded data removed]",
      "text/plain": [
       "<Figure size 432x288 with 1 Axes>"
      ]
     },
     "metadata": {
      "needs_background": "light"
     },
     "output_type": "display_data"
    }
   ],
   "source": [
    "### IF WE WANT TO CHECK THE FIT TO THE UNCERTARTAINTY\n",
    "### Then we need to calculate the statistic on these simulated fidelities and calculate the standart deviation\n",
    "### This will be our uncertainty due to statistical errors\n",
    "def count_elements(seq) -> dict:\n",
    "    hist = {}\n",
    "    for i in seq:\n",
    "        hist[i] = hist.get(i, 0) + 1\n",
    "    return hist\n",
    "\n",
    "counted = count_elements(fidelity_sim)\n",
    "#print(counted)\n",
    "bin_numb = len(counted)\n",
    "errorbar_x=np.array(list(counted))\n",
    "errorbar_y=np.zeros((bin_numb), dtype=int)\n",
    "\n",
    "for i in range(bin_numb):\n",
    "    errorbar_y[i]=counted[errorbar_x[i]]\n",
    "    \n",
    "#print(errorbar_x)\n",
    "#print(errorbar_y)\n",
    "    \n",
    "def Gauss(x, A, mu, sigm):\n",
    "    y = A*np.exp(-((x-mu)/sigm)**2/2)\n",
    "    return y\n",
    "\n",
    "mu, std = norm.fit(fidelity_sim)\n",
    "print(mu, std)\n",
    "parameters, covariance = curve_fit(Gauss, xdata=errorbar_x[-1], ydata=errorbar_y[:-1], bounds=[(50,0.99007,1e-4),(60,0.9903,0.0002)])\n",
    "fit_A = parameters[0]\n",
    "fit_B = parameters[1]\n",
    "fit_C = parameters[2]\n",
    "print(fit_A, fit_B, fit_C)\n",
    "\n",
    "xdata= x = np.linspace(0.989, 0.991, 100)\n",
    "fit_y = Gauss(xdata, fit_A, fit_B, fit_C)\n",
    "plt.plot(errorbar_x[:-1], errorbar_y[:-1], 'o', label='data')\n",
    "plt.plot(xdata, fit_y, '-', label='fit')\n",
    "plt.legend()"
   ]
  },
  {
   "cell_type": "code",
   "execution_count": null,
   "metadata": {},
   "outputs": [],
   "source": []
  },
  {
   "cell_type": "code",
   "execution_count": null,
   "metadata": {},
   "outputs": [],
   "source": []
  },
  {
   "cell_type": "code",
   "execution_count": null,
   "metadata": {},
   "outputs": [],
   "source": []
  }
 ],
 "metadata": {
  "kernelspec": {
   "display_name": "Python 3 (ipykernel)",
   "language": "python",
   "name": "python3"
  },
  "language_info": {
   "codemirror_mode": {
    "name": "ipython",
    "version": 3
   },
   "file_extension": ".py",
   "mimetype": "text/x-python",
   "name": "python",
   "nbconvert_exporter": "python",
   "pygments_lexer": "ipython3",
   "version": "3.8.12"
  }
 },
 "nbformat": 4,
 "nbformat_minor": 4
}
