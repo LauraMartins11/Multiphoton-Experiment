{
 "cells": [
  {
   "cell_type": "code",
   "execution_count": 23,
   "metadata": {},
   "outputs": [],
   "source": [
    "import numpy as np\n",
    "import scipy.optimize as sp"
   ]
  },
  {
   "cell_type": "code",
   "execution_count": 25,
   "metadata": {},
   "outputs": [],
   "source": [
    "u1 = np.array([[ 0.8234528 +0.56259885j , 0.06999967-0.0225402j ],\n",
    " [-0.06999967-0.0225402j ,  0.8234528 -0.56259885j]])\n",
    "\n",
    "u2 = np.array([[-0.22732945-0.95592241j  ,0.16410186+0.08720236j],\n",
    " [-0.16410186+0.08720236j, -0.22732945+0.95592241j]])\n",
    "\n",
    "u3 = np.array([[ 0.82434297+0.53329889j , 0.18867697-0.02125947j],\n",
    " [-0.18867697-0.02125947j , 0.82434297-0.53329889j]])\n",
    "\n",
    "u4 = np.array([[ 0.74001482-0.64305896j , 0.15772342-0.11822252j],\n",
    " [-0.15772342-0.11822252j , 0.74001482+0.64305896j]])"
   ]
  },
  {
   "cell_type": "code",
   "execution_count": null,
   "metadata": {},
   "outputs": [],
   "source": [
    "# u1_2 = np.array([[-0.93979491-0.33752994j  ,0.0358928 +0.03963285j],\n",
    "#  [-0.0358928 +0.03963285j, -0.93979491+0.33752994j]])\n",
    "\n",
    "# u2_2 = np.array([[ 0.14177392+0.98980569j ,-0.0135115 +0.00151102j],\n",
    "#  [ 0.0135115 +0.00151102j , 0.14177392-0.98980569j]])\n",
    "\n",
    "# u3_2 = np.array([[ 0.69643541+0.71262468j , 0.08435237-0.00533496j],\n",
    "#  [-0.08435237-0.00533496j , 0.69643541-0.71262468j]])\n",
    "\n",
    "# u4_2 = np.array([[ 0.84339361+0.52769825j , 0.10062854+0.00978117j],\n",
    "#  [-0.10062854+0.00978117j , 0.84339361-0.52769825j]])"
   ]
  },
  {
   "cell_type": "code",
   "execution_count": null,
   "metadata": {},
   "outputs": [],
   "source": [
    "# u1_f=u1_2@u1\n",
    "# u2_f=u2_2@u2\n",
    "# u3_f=u3_2@u3\n",
    "# u4_f=u4_2@u4"
   ]
  },
  {
   "cell_type": "code",
   "execution_count": null,
   "metadata": {},
   "outputs": [],
   "source": [
    "def Unitary(angle, u):\n",
    "\n",
    "    a = angle[0]\n",
    "    b = angle[1]\n",
    "    y = angle[2]\n",
    "    \n",
    "    f = (1/2)*(-np.cos(2*(a-b))-np.cos(2*(b-y))) - np.real(u[0][0])\n",
    "    g = (1/2)*(np.sin(2*(a - b)) + np.sin(2*(b - y))) - np.real(u[0][1])\n",
    "    h = (1/2)*(-np.sin(2*(a - b)) - np.sin(2*(b - y))) - np.real(u[1][0])\n",
    "    v = (1/2)*(-np.cos(2*(a-b))- np.cos(2*(b - y))) - np.real(u[1][1])\n",
    "\n",
    "    K = (1/2)*(-np.cos(2*b) + np.cos(2*(a - b + y))) - np.imag(u[0][0])\n",
    "    m = (1/2)*(-np.sin(2*b) + np.sin(2*(a - b + y))) - np.imag(u[0][1])\n",
    "    z = (1/2)*(-np.sin(2*b) + np.sin(2*(a - b + y)))- np.imag(u[1][0])\n",
    "    e = (1/2)*(np.cos(2*b) - np.cos(2*(a - b + y))) - np.imag(u[1][1])\n",
    "\n",
    "    return  (f,g,h,v,K,m,z,e)\n",
    "\n",
    "def solving(angle, u):\n",
    "    result = sp.least_squares(Unitary,angle,method='trf',args=[u],max_nfev=1000000000)\n",
    "    QWP1 = result.x[0]\n",
    "    HWP1 = result.x[1]\n",
    "    QWP2 = result.x[2]\n",
    "    return([QWP2*180/np.pi,HWP1*180/np.pi,QWP1*180/np.pi])"
   ]
  },
  {
   "cell_type": "code",
   "execution_count": 29,
   "metadata": {},
   "outputs": [
    {
     "name": "stdout",
     "output_type": "stream",
     "text": [
      "arya.set_sample_anlges([46.282297250730494, 116.71935075047799, 41.42340727433868])\n",
      "bran.set_sample_anlges([24.481702600831554, 5.535044154126424, 60.30601589399454])\n",
      "cersei.set_sample_anlges([-39.69547157882599, 59.987239383378245, 127.41263673906985])\n",
      "dany.set_sample_anlges([-123.77555284080137, -19.375698630319153, 44.19271469899905])\n"
     ]
    }
   ],
   "source": [
    "a1 = solving([0,0,0], u1)\n",
    "a2 = solving([0,0,0], u2)\n",
    "a3 = solving([0,0,0], u3)\n",
    "a4 = solving([0,0,0], u4)\n",
    "\n",
    "print(f\"arya.set_sample_anlges({a1})\")\n",
    "print(f\"bran.set_sample_anlges({a2})\")\n",
    "print(f\"cersei.set_sample_anlges({a3})\")\n",
    "print(f\"dany.set_sample_anlges({a4})\")"
   ]
  },
  {
   "cell_type": "code",
   "execution_count": 30,
   "metadata": {},
   "outputs": [],
   "source": [
    "def U_wp(angle):\n",
    "\n",
    "    a = angle[0]\n",
    "    b = angle[1]\n",
    "    y = angle[2]\n",
    "    \n",
    "    f = (1/2)*(-np.cos(2*(a-b))-np.cos(2*(b-y)))\n",
    "    g = (1/2)*(np.sin(2*(a - b)) + np.sin(2*(b - y)))\n",
    "    h = (1/2)*(-np.sin(2*(a - b)) - np.sin(2*(b - y)))\n",
    "    v = (1/2)*(-np.cos(2*(a-b))- np.cos(2*(b - y)))\n",
    "\n",
    "    k = (1/2)*(-np.cos(2*b) + np.cos(2*(a - b + y)))\n",
    "    m = (1/2)*(-np.sin(2*b) + np.sin(2*(a - b + y)))\n",
    "    z = (1/2)*(-np.sin(2*b) + np.sin(2*(a - b + y)))\n",
    "    e = (1/2)*(np.cos(2*b) - np.cos(2*(a - b + y)))\n",
    "\n",
    "    U = np.array([[f+1j*k, g+1j*m],\n",
    "                  [h+1j*z, v+1j*e]])\n",
    "\n",
    "    return U"
   ]
  },
  {
   "cell_type": "code",
   "execution_count": null,
   "metadata": {},
   "outputs": [],
   "source": []
  }
 ],
 "metadata": {
  "kernelspec": {
   "display_name": "base",
   "language": "python",
   "name": "python3"
  },
  "language_info": {
   "codemirror_mode": {
    "name": "ipython",
    "version": 3
   },
   "file_extension": ".py",
   "mimetype": "text/x-python",
   "name": "python",
   "nbconvert_exporter": "python",
   "pygments_lexer": "ipython3",
   "version": "3.8.5"
  }
 },
 "nbformat": 4,
 "nbformat_minor": 4
}
