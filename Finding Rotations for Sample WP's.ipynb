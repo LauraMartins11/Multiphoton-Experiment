{
 "cells": [
  {
   "cell_type": "code",
   "execution_count": 1,
   "metadata": {},
   "outputs": [],
   "source": [
    "import numpy as np\n",
    "import scipy.optimize as sp"
   ]
  },
  {
   "cell_type": "code",
   "execution_count": 2,
   "metadata": {},
   "outputs": [],
   "source": [
    "# u2=np.array([[-0.51159055+0.85773527j,  0.03101176-0.0400449j ],\n",
    "#        [-0.03101176-0.0400449j , -0.51159055-0.85773527j]])\n",
    "\n",
    "# u3=np.array([[-0.99970894-0.0051427j , -0.00745428+0.02236105j],\n",
    "#        [ 0.00745428+0.02236105j, -0.99970894+0.0051427j ]])\n",
    "\n",
    "# u4=np.array([[ 0.97227778+0.22675776j,  0.05630766+0.00928931j],\n",
    "#        [-0.05630766+0.00928931j,  0.97227778-0.22675776j]])"
   ]
  },
  {
   "cell_type": "code",
   "execution_count": 16,
   "metadata": {},
   "outputs": [],
   "source": [
    "u2_2 = np.array([[ 0.26219846-0.96491482j,-0.01346069+0.00318916j],\n",
    "                 [ 0.01346069+0.00318916j , 0.26219846+0.96491482j]])\n",
    "\n",
    "u3_2 = np.array([[ 0.97282866-0.19482213j ,-0.0446893 -0.11684005j],\n",
    "                 [ 0.0446893 -0.11684005j , 0.97282866+0.19482213j]])\n",
    "\n",
    "u4_2 = np.array([[ 0.06210215+0.99791025j ,-0.01325031+0.0119538j ],\n",
    "                 [ 0.01325031+0.0119538j  , 0.06210215-0.99791025j]])"
   ]
  },
  {
   "cell_type": "code",
   "execution_count": 17,
   "metadata": {},
   "outputs": [],
   "source": [
    "u2=np.array([[ 0.55683908-0.82829196j ,-0.05611183-0.02672342j],\n",
    " [ 0.05611183-0.02672342j , 0.55683908+0.82829196j]])\n",
    "\n",
    "u3=np.array([[ 0.95275434+0.26891544j , 0.02297362+0.13934079j],\n",
    " [-0.02297362+0.13934079j , 0.95275434-0.26891544j]])\n",
    "\n",
    "u4=np.array([[-0.43712953+8.99025047e-01j , 0.02591634-2.90756390e-04j],\n",
    " [-0.02591634-2.90756390e-04j ,-0.43712953-8.99025047e-01j]])"
   ]
  },
  {
   "cell_type": "code",
   "execution_count": 18,
   "metadata": {},
   "outputs": [],
   "source": [
    "u2_f=u2_2@u2\n",
    "u3_f=u3_2@u3\n",
    "u4_f=u4_2@u4"
   ]
  },
  {
   "cell_type": "code",
   "execution_count": 12,
   "metadata": {},
   "outputs": [],
   "source": [
    "def Unitary(angle, u):\n",
    "\n",
    "    a = angle[0]\n",
    "    b = angle[1]\n",
    "    y = angle[2]\n",
    "    \n",
    "    f = (1/2)*(-np.cos(2*(a-b))-np.cos(2*(b-y))) - np.real(u[0][0])#- np.real(np.exp(-1j*angles/2))\n",
    "    g = (1/2)*(np.sin(2*(a - b)) + np.sin(2*(b - y))) - np.real(u[0][1])\n",
    "    h = (1/2)*(-np.sin(2*(a - b)) - np.sin(2*(b - y))) - np.real(u[1][0])\n",
    "    v = (1/2)*(-np.cos(2*(a-b))- np.cos(2*(b - y))) - np.real(u[1][1])#- np.real(np.exp(1j*angles/2))\n",
    "\n",
    "    K = (1/2)*(-np.cos(2*b) + np.cos(2*(a - b + y))) - np.imag(u[0][0])#- np.imag(np.exp(-1j*angles/2))\n",
    "    m = (1/2)*(-np.sin(2*b) + np.sin(2*(a - b + y))) - np.imag(u[0][1])\n",
    "    z = (1/2)*(-np.sin(2*b) + np.sin(2*(a - b + y)))- np.imag(u[1][0])\n",
    "    e = (1/2)*(np.cos(2*b) - np.cos(2*(a - b + y))) - np.imag(u[1][1])#- np.imag(np.exp(1j*angles/2))\n",
    "\n",
    "    return  (f,g,h,v,K,m,z,e)\n",
    "\n",
    "def solving(angle, u):\n",
    "    result = sp.least_squares(Unitary,angle,method='trf',args=[u],max_nfev=1000000000)\n",
    "    QWP1 = result.x[0]\n",
    "    HWP1 = result.x[1]\n",
    "    QWP2 = result.x[2]\n",
    "    return([QWP2*180/np.pi,HWP1*180/np.pi,QWP1*180/np.pi])"
   ]
  },
  {
   "cell_type": "code",
   "execution_count": 19,
   "metadata": {},
   "outputs": [
    {
     "data": {
      "text/plain": [
       "[45.78026274995648, 19.05861788018144, 41.35234860141521]"
      ]
     },
     "execution_count": 19,
     "metadata": {},
     "output_type": "execute_result"
    }
   ],
   "source": [
    "solving([0,0,0], u2_f)"
   ]
  },
  {
   "cell_type": "code",
   "execution_count": 20,
   "metadata": {},
   "outputs": [
    {
     "data": {
      "text/plain": [
       "[56.137231503957636, -35.427286939093186, -122.45435442606853]"
      ]
     },
     "execution_count": 20,
     "metadata": {},
     "output_type": "execute_result"
    }
   ],
   "source": [
    "solving([0,0,0], u3_f)"
   ]
  },
  {
   "cell_type": "code",
   "execution_count": 21,
   "metadata": {},
   "outputs": [
    {
     "data": {
      "text/plain": [
       "[41.98625880438878, 31.326657323798784, 43.129514519815515]"
      ]
     },
     "execution_count": 21,
     "metadata": {},
     "output_type": "execute_result"
    }
   ],
   "source": [
    "solving([0,0,0], u4_f)"
   ]
  },
  {
   "cell_type": "code",
   "execution_count": null,
   "metadata": {},
   "outputs": [],
   "source": []
  },
  {
   "cell_type": "code",
   "execution_count": null,
   "metadata": {},
   "outputs": [],
   "source": []
  },
  {
   "cell_type": "code",
   "execution_count": null,
   "metadata": {},
   "outputs": [],
   "source": [
    "u2=np.array([[-0.73891984+0.67250778j,  0.02138428+0.0356858j ],\n",
    "       [-0.02138428+0.0356858j , -0.73891984-0.67250778j]])"
   ]
  }
 ],
 "metadata": {
  "kernelspec": {
   "display_name": "Python 3",
   "language": "python",
   "name": "python3"
  },
  "language_info": {
   "codemirror_mode": {
    "name": "ipython",
    "version": 3
   },
   "file_extension": ".py",
   "mimetype": "text/x-python",
   "name": "python",
   "nbconvert_exporter": "python",
   "pygments_lexer": "ipython3",
   "version": "3.8.5"
  }
 },
 "nbformat": 4,
 "nbformat_minor": 4
}
