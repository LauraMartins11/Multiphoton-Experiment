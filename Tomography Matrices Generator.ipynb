{
 "cells": [
  {
   "cell_type": "code",
   "execution_count": 105,
   "id": "270083b2",
   "metadata": {},
   "outputs": [],
   "source": [
    "import numpy as np\n",
    "import functools as ft\n",
    "import itertools\n",
    "import os"
   ]
  },
  {
   "cell_type": "code",
   "execution_count": 106,
   "id": "62ff868e",
   "metadata": {},
   "outputs": [],
   "source": [
    "qubit_number=2\n",
    "Pauli=np.asarray([\n",
    "        [[1,0],\n",
    "        [0,1]],\n",
    "\n",
    "\n",
    "        [[0,1],\n",
    "        [1,0]],\n",
    "\n",
    "\n",
    "        [[0,-1j],\n",
    "        [1j,0]],\n",
    "\n",
    "\n",
    "        [[1,0],\n",
    "        [0,-1]]])\n",
    "\n",
    "\n",
    "states=np.asarray([\n",
    "    [1,1]/np.sqrt(2),\n",
    "    [1,-1]/np.sqrt(2),\n",
    "    [1,1j]/np.sqrt(2),\n",
    "    [1,-1j]/np.sqrt(2),\n",
    "    [1,0],\n",
    "    [0,1],\n",
    "])"
   ]
  },
  {
   "cell_type": "code",
   "execution_count": 107,
   "id": "ed0a8200",
   "metadata": {},
   "outputs": [],
   "source": [
    "projectors = []\n",
    "perm = itertools.product(states, repeat=qubit_number)\n",
    "for i in list(perm):\n",
    "    projectors.append(np.outer(ft.reduce(np.kron, i),np.conjugate(np.transpose(ft.reduce(np.kron, i)))))\n",
    "    \n",
    "observables = []\n",
    "perm = itertools.product(Pauli, repeat=qubit_number)\n",
    "for i in list(perm):\n",
    "    observables.append(ft.reduce(np.kron, i))"
   ]
  },
  {
   "cell_type": "code",
   "execution_count": 122,
   "id": "983021db",
   "metadata": {},
   "outputs": [
    {
     "name": "stderr",
     "output_type": "stream",
     "text": [
      "C:\\Users\\LauraMartins\\AppData\\Local\\Temp\\ipykernel_26864\\2317484810.py:6: ComplexWarning: Casting complex values to real discards the imaginary part\n",
      "  psi[i][j]=np.trace(projectors[j]@observables[i+1])/(2**qubit_number)\n",
      "C:\\Users\\LauraMartins\\AppData\\Local\\Temp\\ipykernel_26864\\2317484810.py:11: ComplexWarning: Casting complex values to real discards the imaginary part\n",
      "  psi_aux[int(b+c)][a][i]=np.trace(projectors[j]@observables[i+1])/(2**qubit_number)\n"
     ]
    }
   ],
   "source": [
    "psi=np.zeros((len(observables[1:]),len(projectors)))\n",
    "psi_aux=np.zeros((3**qubit_number,2**qubit_number,4**qubit_number-1))\n",
    "\n",
    "for i in range(len(observables[1:])):\n",
    "    for j in range(len(projectors)):\n",
    "        psi[i][j]=np.trace(projectors[j]@observables[i+1])/(2**qubit_number)\n",
    "        a=int(j%2+2*((int(j/6)%2)))\n",
    "        b=int(j/2)%3\n",
    "        c=3*int(j/12)\n",
    "#         print(i,j,b+c,a,i)\n",
    "        psi_aux[int(b+c)][a][i]=np.trace(projectors[j]@observables[i+1])/(2**qubit_number)"
   ]
  },
  {
   "cell_type": "code",
   "execution_count": 109,
   "id": "88b5c56f",
   "metadata": {},
   "outputs": [],
   "source": [
    "X=psi.transpose().reshape(4**qubit_number-1,2**qubit_number,3**qubit_number)\n",
    "X=psi.transpose().reshape(3**qubit_number,2**qubit_number,4**qubit_number-1)\n",
    "inv=np.linalg.inv(psi@np.transpose(psi))\n",
    "            \n",
    "working_dir = os.getcwd()\n",
    "np.save(working_dir+'\\SavedVariables\\X_matrix'+str(qubit_number)+'trial', X)\n",
    "np.save(working_dir+'\\SavedVariables\\invXtX_matrix'+str(qubit_number)+'trial', inv)"
   ]
  },
  {
   "cell_type": "code",
   "execution_count": 113,
   "id": "ae737988",
   "metadata": {},
   "outputs": [],
   "source": [
    "X=psi.transpose().reshape(4**qubit_number-1,2**qubit_number,3**qubit_number).transpose(2,1,0)\n",
    "# print(X)\n",
    "\n",
    "Y=psi.transpose().reshape(3**qubit_number,2**qubit_number,4**qubit_number-1)\n",
    "# print(Y)"
   ]
  },
  {
   "cell_type": "code",
   "execution_count": 121,
   "id": "7d0dbd09",
   "metadata": {
    "scrolled": true
   },
   "outputs": [
    {
     "name": "stdout",
     "output_type": "stream",
     "text": [
      "[[[0.+0.j 0.+0.j 0.+0.j 0.+0.j 0.+0.j 0.+0.j 0.+0.j 0.+0.j 0.+0.j 0.+0.j\n",
      "   0.+0.j 0.+0.j 0.+0.j 0.+0.j 0.+0.j]\n",
      "  [0.+0.j 0.+0.j 0.+0.j 0.+0.j 0.+0.j 0.+0.j 0.+0.j 0.+0.j 0.+0.j 0.+0.j\n",
      "   0.+0.j 0.+0.j 0.+0.j 0.+0.j 0.+0.j]\n",
      "  [0.+0.j 0.+0.j 0.+0.j 0.+0.j 0.+0.j 0.+0.j 0.+0.j 0.+0.j 0.+0.j 0.+0.j\n",
      "   0.+0.j 0.+0.j 0.+0.j 0.+0.j 0.+0.j]\n",
      "  [0.+0.j 0.+0.j 0.+0.j 0.+0.j 0.+0.j 0.+0.j 0.+0.j 0.+0.j 0.+0.j 0.+0.j\n",
      "   0.+0.j 0.+0.j 0.+0.j 0.+0.j 0.+0.j]]\n",
      "\n",
      " [[0.+0.j 0.+0.j 0.+0.j 0.+0.j 0.+0.j 0.+0.j 0.+0.j 0.+0.j 0.+0.j 0.+0.j\n",
      "   0.+0.j 0.+0.j 0.+0.j 0.+0.j 0.+0.j]\n",
      "  [0.+0.j 0.+0.j 0.+0.j 0.+0.j 0.+0.j 0.+0.j 0.+0.j 0.+0.j 0.+0.j 0.+0.j\n",
      "   0.+0.j 0.+0.j 0.+0.j 0.+0.j 0.+0.j]\n",
      "  [0.+0.j 0.+0.j 0.+0.j 0.+0.j 0.+0.j 0.+0.j 0.+0.j 0.+0.j 0.+0.j 0.+0.j\n",
      "   0.+0.j 0.+0.j 0.+0.j 0.+0.j 0.+0.j]\n",
      "  [0.+0.j 0.+0.j 0.+0.j 0.+0.j 0.+0.j 0.+0.j 0.+0.j 0.+0.j 0.+0.j 0.+0.j\n",
      "   0.+0.j 0.+0.j 0.+0.j 0.+0.j 0.+0.j]]\n",
      "\n",
      " [[0.+0.j 0.+0.j 0.+0.j 0.+0.j 0.+0.j 0.+0.j 0.+0.j 0.+0.j 0.+0.j 0.+0.j\n",
      "   0.+0.j 0.+0.j 0.+0.j 0.+0.j 0.+0.j]\n",
      "  [0.+0.j 0.+0.j 0.+0.j 0.+0.j 0.+0.j 0.+0.j 0.+0.j 0.+0.j 0.+0.j 0.+0.j\n",
      "   0.+0.j 0.+0.j 0.+0.j 0.+0.j 0.+0.j]\n",
      "  [0.+0.j 0.+0.j 0.+0.j 0.+0.j 0.+0.j 0.+0.j 0.+0.j 0.+0.j 0.+0.j 0.+0.j\n",
      "   0.+0.j 0.+0.j 0.+0.j 0.+0.j 0.+0.j]\n",
      "  [0.+0.j 0.+0.j 0.+0.j 0.+0.j 0.+0.j 0.+0.j 0.+0.j 0.+0.j 0.+0.j 0.+0.j\n",
      "   0.+0.j 0.+0.j 0.+0.j 0.+0.j 0.+0.j]]\n",
      "\n",
      " [[0.+0.j 0.+0.j 0.+0.j 0.+0.j 0.+0.j 0.+0.j 0.+0.j 0.+0.j 0.+0.j 0.+0.j\n",
      "   0.+0.j 0.+0.j 0.+0.j 0.+0.j 0.+0.j]\n",
      "  [0.+0.j 0.+0.j 0.+0.j 0.+0.j 0.+0.j 0.+0.j 0.+0.j 0.+0.j 0.+0.j 0.+0.j\n",
      "   0.+0.j 0.+0.j 0.+0.j 0.+0.j 0.+0.j]\n",
      "  [0.+0.j 0.+0.j 0.+0.j 0.+0.j 0.+0.j 0.+0.j 0.+0.j 0.+0.j 0.+0.j 0.+0.j\n",
      "   0.+0.j 0.+0.j 0.+0.j 0.+0.j 0.+0.j]\n",
      "  [0.+0.j 0.+0.j 0.+0.j 0.+0.j 0.+0.j 0.+0.j 0.+0.j 0.+0.j 0.+0.j 0.+0.j\n",
      "   0.+0.j 0.+0.j 0.+0.j 0.+0.j 0.+0.j]]\n",
      "\n",
      " [[0.+0.j 0.+0.j 0.+0.j 0.+0.j 0.+0.j 0.+0.j 0.+0.j 0.+0.j 0.+0.j 0.+0.j\n",
      "   0.+0.j 0.+0.j 0.+0.j 0.+0.j 0.+0.j]\n",
      "  [0.+0.j 0.+0.j 0.+0.j 0.+0.j 0.+0.j 0.+0.j 0.+0.j 0.+0.j 0.+0.j 0.+0.j\n",
      "   0.+0.j 0.+0.j 0.+0.j 0.+0.j 0.+0.j]\n",
      "  [0.+0.j 0.+0.j 0.+0.j 0.+0.j 0.+0.j 0.+0.j 0.+0.j 0.+0.j 0.+0.j 0.+0.j\n",
      "   0.+0.j 0.+0.j 0.+0.j 0.+0.j 0.+0.j]\n",
      "  [0.+0.j 0.+0.j 0.+0.j 0.+0.j 0.+0.j 0.+0.j 0.+0.j 0.+0.j 0.+0.j 0.+0.j\n",
      "   0.+0.j 0.+0.j 0.+0.j 0.+0.j 0.+0.j]]\n",
      "\n",
      " [[0.+0.j 0.+0.j 0.+0.j 0.+0.j 0.+0.j 0.+0.j 0.+0.j 0.+0.j 0.+0.j 0.+0.j\n",
      "   0.+0.j 0.+0.j 0.+0.j 0.+0.j 0.+0.j]\n",
      "  [0.+0.j 0.+0.j 0.+0.j 0.+0.j 0.+0.j 0.+0.j 0.+0.j 0.+0.j 0.+0.j 0.+0.j\n",
      "   0.+0.j 0.+0.j 0.+0.j 0.+0.j 0.+0.j]\n",
      "  [0.+0.j 0.+0.j 0.+0.j 0.+0.j 0.+0.j 0.+0.j 0.+0.j 0.+0.j 0.+0.j 0.+0.j\n",
      "   0.+0.j 0.+0.j 0.+0.j 0.+0.j 0.+0.j]\n",
      "  [0.+0.j 0.+0.j 0.+0.j 0.+0.j 0.+0.j 0.+0.j 0.+0.j 0.+0.j 0.+0.j 0.+0.j\n",
      "   0.+0.j 0.+0.j 0.+0.j 0.+0.j 0.+0.j]]\n",
      "\n",
      " [[0.+0.j 0.+0.j 0.+0.j 0.+0.j 0.+0.j 0.+0.j 0.+0.j 0.+0.j 0.+0.j 0.+0.j\n",
      "   0.+0.j 0.+0.j 0.+0.j 0.+0.j 0.+0.j]\n",
      "  [0.+0.j 0.+0.j 0.+0.j 0.+0.j 0.+0.j 0.+0.j 0.+0.j 0.+0.j 0.+0.j 0.+0.j\n",
      "   0.+0.j 0.+0.j 0.+0.j 0.+0.j 0.+0.j]\n",
      "  [0.+0.j 0.+0.j 0.+0.j 0.+0.j 0.+0.j 0.+0.j 0.+0.j 0.+0.j 0.+0.j 0.+0.j\n",
      "   0.+0.j 0.+0.j 0.+0.j 0.+0.j 0.+0.j]\n",
      "  [0.+0.j 0.+0.j 0.+0.j 0.+0.j 0.+0.j 0.+0.j 0.+0.j 0.+0.j 0.+0.j 0.+0.j\n",
      "   0.+0.j 0.+0.j 0.+0.j 0.+0.j 0.+0.j]]\n",
      "\n",
      " [[0.+0.j 0.+0.j 0.+0.j 0.+0.j 0.+0.j 0.+0.j 0.+0.j 0.+0.j 0.+0.j 0.+0.j\n",
      "   0.+0.j 0.+0.j 0.+0.j 0.+0.j 0.+0.j]\n",
      "  [0.+0.j 0.+0.j 0.+0.j 0.+0.j 0.+0.j 0.+0.j 0.+0.j 0.+0.j 0.+0.j 0.+0.j\n",
      "   0.+0.j 0.+0.j 0.+0.j 0.+0.j 0.+0.j]\n",
      "  [0.+0.j 0.+0.j 0.+0.j 0.+0.j 0.+0.j 0.+0.j 0.+0.j 0.+0.j 0.+0.j 0.+0.j\n",
      "   0.+0.j 0.+0.j 0.+0.j 0.+0.j 0.+0.j]\n",
      "  [0.+0.j 0.+0.j 0.+0.j 0.+0.j 0.+0.j 0.+0.j 0.+0.j 0.+0.j 0.+0.j 0.+0.j\n",
      "   0.+0.j 0.+0.j 0.+0.j 0.+0.j 0.+0.j]]\n",
      "\n",
      " [[0.+0.j 0.+0.j 0.+0.j 0.+0.j 0.+0.j 0.+0.j 0.+0.j 0.+0.j 0.+0.j 0.+0.j\n",
      "   0.+0.j 0.+0.j 0.+0.j 0.+0.j 0.+0.j]\n",
      "  [0.+0.j 0.+0.j 0.+0.j 0.+0.j 0.+0.j 0.+0.j 0.+0.j 0.+0.j 0.+0.j 0.+0.j\n",
      "   0.+0.j 0.+0.j 0.+0.j 0.+0.j 0.+0.j]\n",
      "  [0.+0.j 0.+0.j 0.+0.j 0.+0.j 0.+0.j 0.+0.j 0.+0.j 0.+0.j 0.+0.j 0.+0.j\n",
      "   0.+0.j 0.+0.j 0.+0.j 0.+0.j 0.+0.j]\n",
      "  [0.+0.j 0.+0.j 0.+0.j 0.+0.j 0.+0.j 0.+0.j 0.+0.j 0.+0.j 0.+0.j 0.+0.j\n",
      "   0.+0.j 0.+0.j 0.+0.j 0.+0.j 0.+0.j]]]\n"
     ]
    }
   ],
   "source": [
    "m=np.load(working_dir+'\\SavedVariables\\X_matrix2.npy')\n",
    "print(np.round(psi_aux-m,3))"
   ]
  },
  {
   "cell_type": "code",
   "execution_count": null,
   "id": "86d288af",
   "metadata": {},
   "outputs": [],
   "source": []
  }
 ],
 "metadata": {
  "kernelspec": {
   "display_name": "Python 3 (ipykernel)",
   "language": "python",
   "name": "python3"
  },
  "language_info": {
   "codemirror_mode": {
    "name": "ipython",
    "version": 3
   },
   "file_extension": ".py",
   "mimetype": "text/x-python",
   "name": "python",
   "nbconvert_exporter": "python",
   "pygments_lexer": "ipython3",
   "version": "3.8.12"
  }
 },
 "nbformat": 4,
 "nbformat_minor": 5
}
