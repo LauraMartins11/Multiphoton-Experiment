{
 "cells": [
  {
   "cell_type": "code",
   "execution_count": 1,
   "id": "b5255973",
   "metadata": {},
   "outputs": [],
   "source": [
    "import numpy as np\n",
    "import functools as ft\n",
    "import itertools\n",
    "import os\n",
    "from nestedforloop import get_iterator"
   ]
  },
  {
   "cell_type": "code",
   "execution_count": 2,
   "id": "6e0b96ca",
   "metadata": {},
   "outputs": [],
   "source": [
    "qubit_number=4\n",
    "Pauli=np.asarray([\n",
    "        [[1,0],\n",
    "        [0,1]],\n",
    "\n",
    "\n",
    "        [[0,1],\n",
    "        [1,0]],\n",
    "\n",
    "\n",
    "        [[0,-1j],\n",
    "        [1j,0]],\n",
    "\n",
    "\n",
    "        [[1,0],\n",
    "        [0,-1]]])\n",
    "\n",
    "\n",
    "states=np.asarray([\n",
    "    [1,1]/np.sqrt(2),\n",
    "    [1,-1]/np.sqrt(2),\n",
    "    [1,1j]/np.sqrt(2),\n",
    "    [1,-1j]/np.sqrt(2),\n",
    "    [1,0],\n",
    "    [0,1],\n",
    "])"
   ]
  },
  {
   "cell_type": "code",
   "execution_count": null,
   "id": "075d1d32",
   "metadata": {},
   "outputs": [],
   "source": [
    "def get_proj_iterator(N_qubit, basis):\n",
    "    d={\"x\": [[1,1]/np.sqrt(2),\n",
    "             [1,-1]/np.sqrt(2)],\n",
    "       \"y\": [[1,1j]/np.sqrt(2),\n",
    "            [1,-1j]/np.sqrt(2)],\n",
    "       \"z\": [[1,0],[0,1]]\n",
    "      }\n",
    "    \n",
    "    basis_order = get_iterator(3, N_qubit)\n",
    "    projectors_order = get_iterator(2, N_qubit)\n",
    "    columns=[]\n",
    "    \n",
    "    \n",
    "    character_matrix=[]\n",
    "    for i in basis_order:\n",
    "        string=\"\"\n",
    "        for j in i:\n",
    "            string=string+basis[j]\n",
    "        lines=[]    \n",
    "        for k in projectors_order:\n",
    "            o=0\n",
    "            vect=[]\n",
    "            for n in k:\n",
    "                vect.append(d[string[o]][n])\n",
    "                o=o+1\n",
    "            lines.append(vect)    \n",
    "        character_matrix.append(lines)         \n",
    "        columns.append(string)   \n",
    "        \n",
    "    return character_matrix "
   ]
  },
  {
   "cell_type": "code",
   "execution_count": 3,
   "id": "65464f64",
   "metadata": {},
   "outputs": [
    {
     "name": "stderr",
     "output_type": "stream",
     "text": [
      "C:\\Users\\LauraMartins\\AppData\\Local\\Temp\\ipykernel_20752\\4134055971.py:50: ComplexWarning: Casting complex values to real discards the imaginary part\n",
      "  psi[i][j]=np.trace(projectors2[j]@observables[i+1])/(2**qubit_number)\n"
     ]
    }
   ],
   "source": [
    "import numpy as np\n",
    "import itertools\n",
    "import functools as ft\n",
    "\n",
    "basis=[\"x\",\"y\",\"z\"]\n",
    "v = get_proj_iterator(4, basis)\n",
    "\n",
    "\n",
    "projectors2 = []\n",
    "v=np.reshape(v,[3**qubit_number*2**qubit_number,qubit_number,2])\n",
    "for i in list(v):\n",
    "    projectors2.append(np.outer(ft.reduce(np.kron, i),np.conjugate(np.transpose(ft.reduce(np.kron, i)))))\n",
    "    \n",
    "    \n",
    "observables = []\n",
    "perm = itertools.product(Pauli, repeat=qubit_number)\n",
    "for i in list(perm):\n",
    "    observables.append(ft.reduce(np.kron, i)) \n",
    "\n",
    "psi=np.zeros((len(observables[1:]),len(projectors2)))\n",
    "# psi_aux=np.zeros((3*qubit_number,2**qubit_number,4*qubit_number-1))\n",
    "\n",
    "for i in range(len(observables[1:])):\n",
    "    for j in range(len(projectors2)):\n",
    "        psi[i][j]=np.trace(projectors2[j]@observables[i+1])/(2**qubit_number)\n",
    "psi_aux=np.reshape(np.transpose(psi),[3**qubit_number,2**qubit_number,4**qubit_number-1]) \n",
    "\n",
    "invPSI=np.linalg.inv(psi@psi.transpose())    "
   ]
  },
  {
   "cell_type": "code",
   "execution_count": 4,
   "id": "87cc9561",
   "metadata": {},
   "outputs": [],
   "source": [
    "working_dir = os.getcwd()\n",
    "np.save(working_dir+'\\SavedVariables\\X_matrix'+str(qubit_number), psi_aux)\n",
    "np.save(working_dir+'\\SavedVariables\\invXtX_matrix'+str(qubit_number), invPSI)"
   ]
  },
  {
   "cell_type": "code",
   "execution_count": 28,
   "id": "869552b2",
   "metadata": {
    "scrolled": true
   },
   "outputs": [],
   "source": [
    "# m=np.load(working_dir+'\\SavedVariables\\X_matrix2.npy')\n",
    "# print(np.round(psi_aux-m,3))"
   ]
  }
 ],
 "metadata": {
  "kernelspec": {
   "display_name": "Python 3 (ipykernel)",
   "language": "python",
   "name": "python3"
  },
  "language_info": {
   "codemirror_mode": {
    "name": "ipython",
    "version": 3
   },
   "file_extension": ".py",
   "mimetype": "text/x-python",
   "name": "python",
   "nbconvert_exporter": "python",
   "pygments_lexer": "ipython3",
   "version": "3.8.12"
  }
 },
 "nbformat": 4,
 "nbformat_minor": 5
}
