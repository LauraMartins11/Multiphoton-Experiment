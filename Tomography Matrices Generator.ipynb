{
 "cells": [
  {
   "cell_type": "code",
   "execution_count": 2,
   "id": "b5255973",
   "metadata": {},
   "outputs": [],
   "source": [
    "import numpy as np\n",
    "import functools as ft\n",
    "import itertools\n",
    "import os\n",
    "from NestedForLoop import get_iterator\n"
   ]
  },
  {
   "cell_type": "code",
   "execution_count": 106,
   "id": "6e0b96ca",
   "metadata": {},
   "outputs": [],
   "source": [
    "qubit_number=4\n",
    "Pauli=np.asarray([\n",
    "        [[1,0],\n",
    "        [0,1]],\n",
    "\n",
    "\n",
    "        [[0,1],\n",
    "        [1,0]],\n",
    "\n",
    "\n",
    "        [[0,-1j],\n",
    "        [1j,0]],\n",
    "\n",
    "\n",
    "        [[1,0],\n",
    "        [0,-1]]])\n",
    "\n",
    "\n",
    "states=np.asarray([\n",
    "    [1,1]/np.sqrt(2),\n",
    "    [1,-1]/np.sqrt(2),\n",
    "    [1,1j]/np.sqrt(2),\n",
    "    [1,-1j]/np.sqrt(2),\n",
    "    [1,0],\n",
    "    [0,1],\n",
    "\n",
    "])"
   ]
  },
  {
   "cell_type": "code",
   "execution_count": 4,
   "id": "65464f64",
   "metadata": {},
   "outputs": [
    {
     "ename": "MemoryError",
     "evalue": "Unable to allocate 16.0 GiB for an array with shape (512, 1048576, 2) and data type complex128",
     "output_type": "error",
     "traceback": [
      "\u001b[1;31m---------------------------------------------------------------------------\u001b[0m",
      "\u001b[1;31mMemoryError\u001b[0m                               Traceback (most recent call last)",
      "\u001b[1;32mc:\\Users\\nicol\\Desktop\\Tomography\\Tomograph\\Tomography\\Tomography Matrices Generator.ipynb Cell 3\u001b[0m in \u001b[0;36m<cell line: 70>\u001b[1;34m()\u001b[0m\n\u001b[0;32m     <a href='vscode-notebook-cell:/c%3A/Users/nicol/Desktop/Tomography/Tomograph/Tomography/Tomography%20Matrices%20Generator.ipynb#X12sZmlsZQ%3D%3D?line=68'>69</a>\u001b[0m v\u001b[39m=\u001b[39mnp\u001b[39m.\u001b[39mreshape(v,[\u001b[39m3\u001b[39m\u001b[39m*\u001b[39m\u001b[39m*\u001b[39mqubit_number,\u001b[39m2\u001b[39m\u001b[39m*\u001b[39m\u001b[39m*\u001b[39mqubit_number,qubit_number,\u001b[39m2\u001b[39m])\n\u001b[0;32m     <a href='vscode-notebook-cell:/c%3A/Users/nicol/Desktop/Tomography/Tomograph/Tomography/Tomography%20Matrices%20Generator.ipynb#X12sZmlsZQ%3D%3D?line=69'>70</a>\u001b[0m \u001b[39mfor\u001b[39;00m i \u001b[39min\u001b[39;00m \u001b[39mlist\u001b[39m(v):\n\u001b[1;32m---> <a href='vscode-notebook-cell:/c%3A/Users/nicol/Desktop/Tomography/Tomograph/Tomography/Tomography%20Matrices%20Generator.ipynb#X12sZmlsZQ%3D%3D?line=70'>71</a>\u001b[0m     projectors2\u001b[39m.\u001b[39mappend(np\u001b[39m.\u001b[39mouter(ft\u001b[39m.\u001b[39;49mreduce(np\u001b[39m.\u001b[39;49mkron, i),np\u001b[39m.\u001b[39mconjugate(np\u001b[39m.\u001b[39mtranspose(ft\u001b[39m.\u001b[39mreduce(np\u001b[39m.\u001b[39mkron, i)))))\n\u001b[0;32m     <a href='vscode-notebook-cell:/c%3A/Users/nicol/Desktop/Tomography/Tomograph/Tomography/Tomography%20Matrices%20Generator.ipynb#X12sZmlsZQ%3D%3D?line=74'>75</a>\u001b[0m observables \u001b[39m=\u001b[39m []\n\u001b[0;32m     <a href='vscode-notebook-cell:/c%3A/Users/nicol/Desktop/Tomography/Tomograph/Tomography/Tomography%20Matrices%20Generator.ipynb#X12sZmlsZQ%3D%3D?line=75'>76</a>\u001b[0m perm \u001b[39m=\u001b[39m itertools\u001b[39m.\u001b[39mproduct(Pauli, repeat\u001b[39m=\u001b[39mqubit_number)\n",
      "File \u001b[1;32m<__array_function__ internals>:5\u001b[0m, in \u001b[0;36mkron\u001b[1;34m(*args, **kwargs)\u001b[0m\n",
      "File \u001b[1;32mc:\\Users\\nicol\\anaconda3\\lib\\site-packages\\numpy\\lib\\shape_base.py:1157\u001b[0m, in \u001b[0;36mkron\u001b[1;34m(a, b)\u001b[0m\n\u001b[0;32m   1155\u001b[0m axis \u001b[39m=\u001b[39m nd\u001b[39m-\u001b[39m\u001b[39m1\u001b[39m\n\u001b[0;32m   1156\u001b[0m \u001b[39mfor\u001b[39;00m _ \u001b[39min\u001b[39;00m \u001b[39mrange\u001b[39m(nd):\n\u001b[1;32m-> 1157\u001b[0m     result \u001b[39m=\u001b[39m concatenate(result, axis\u001b[39m=\u001b[39;49maxis)\n\u001b[0;32m   1158\u001b[0m wrapper \u001b[39m=\u001b[39m get_array_prepare(a, b)\n\u001b[0;32m   1159\u001b[0m \u001b[39mif\u001b[39;00m wrapper \u001b[39mis\u001b[39;00m \u001b[39mnot\u001b[39;00m \u001b[39mNone\u001b[39;00m:\n",
      "File \u001b[1;32m<__array_function__ internals>:5\u001b[0m, in \u001b[0;36mconcatenate\u001b[1;34m(*args, **kwargs)\u001b[0m\n",
      "\u001b[1;31mMemoryError\u001b[0m: Unable to allocate 16.0 GiB for an array with shape (512, 1048576, 2) and data type complex128"
     ]
    }
   ],
   "source": [
    "def get_proj_iterator(N_qubit):\n",
    "    d={\"x\": [[1/np.sqrt(2),1/np.sqrt(2)],[1/np.sqrt(2),-1/np.sqrt(2)]], \"y\":[[1/np.sqrt(2),complex(0,1/np.sqrt(2))],[1/np.sqrt(2),complex(0,-1/np.sqrt(2))]], \"z\":[[1,0],[0,1]] }\n",
    "    basis_order= get_iterator(3,N_qubit)\n",
    "    basis=[\"x\",\"y\",\"z\"]\n",
    "    projectors_order=get_iterator(2,N_qubit)\n",
    "    columns=[]\n",
    "    \n",
    "    \n",
    "    character_Matrix=[]\n",
    "    for i in basis_order:\n",
    "        string=\"\"\n",
    "        for j in i:\n",
    "            string=string+basis[j]\n",
    "        lines=[]    \n",
    "        for k in projectors_order:\n",
    "            o=0\n",
    "            vect=[]\n",
    "            for n in k:\n",
    "                \n",
    "                vect.append(d[string[o]][n])\n",
    "                o=o+1\n",
    "            lines.append(vect)    \n",
    "        character_Matrix.append(lines)         \n",
    "        columns.append(string)   \n",
    "        \n",
    "    return character_Matrix \n",
    "v=  get_proj_iterator(4)\n",
    "\n",
    "\n",
    "\n",
    "\n",
    "\n",
    "qubit_number=4\n",
    "Pauli=np.asarray([\n",
    "        [[1,0],\n",
    "        [0,1]],\n",
    "\n",
    "\n",
    "        [[0,1],\n",
    "        [1,0]],\n",
    "\n",
    "\n",
    "        [[0,-1j],\n",
    "        [1j,0]],\n",
    "\n",
    "\n",
    "        [[1,0],\n",
    "        [0,-1]]])\n",
    "\n",
    "\n",
    "states=np.asarray([\n",
    "    [1,1]/np.sqrt(2),\n",
    "    [1,-1]/np.sqrt(2),\n",
    "    [1,1j]/np.sqrt(2),\n",
    "    [1,-1j]/np.sqrt(2),\n",
    "    [1,0],\n",
    "    [0,1],\n",
    "\n",
    "])\n",
    "\n",
    "\n",
    "\n",
    "    \n",
    "observables = []\n",
    "perm = itertools.product(Pauli, repeat=qubit_number)\n",
    "for i in list(perm):\n",
    "    observables.append(ft.reduce(np.kron, i)) \n",
    "\n",
    "psi=np.zeros((len(observables[1:]),len(projectors2)))\n",
    "# psi_aux=np.zeros((3*qubit_number,2**qubit_number,4*qubit_number-1))\n",
    "\n",
    "for i in range(len(observables[1:])):\n",
    "    for j in range(len(projectors2)):\n",
    "        psi[i][j]=np.trace(projectors2[j]@observables[i+1])/(2**qubit_number)\n",
    "psi_aux=np.reshape(np.transpose(psi),[3**qubit_number,2**qubit_number,4*qubit_number-1]) \n",
    "\n",
    "invPSI=np.linalg.inv(psi@psi.transpose())\n"
   ]
  },
  {
   "cell_type": "code",
   "execution_count": 107,
   "id": "8b0b8cd4",
   "metadata": {},
   "outputs": [],
   "source": [
    "projectors = []\n",
    "perm = itertools.product(states, repeat=qubit_number)\n",
    "for i in list(perm):\n",
    "    projectors.append(np.outer(ft.reduce(np.kron, i),np.conjugate(np.transpose(ft.reduce(np.kron, i)))))\n",
    "    \n",
    "observables = []\n",
    "perm = itertools.product(Pauli, repeat=qubit_number)\n",
    "for i in list(perm):\n",
    "    observables.append(ft.reduce(np.kron, i))"
   ]
  },
  {
   "cell_type": "code",
   "execution_count": 108,
   "id": "802e0a4e",
   "metadata": {},
   "outputs": [
    {
     "name": "stderr",
     "output_type": "stream",
     "text": [
      "C:\\Users\\nicol\\AppData\\Local\\Temp\\ipykernel_13340\\3891056298.py:6: ComplexWarning: Casting complex values to real discards the imaginary part\n",
      "  psi[i][j]=np.trace(projectors[j]@observables[i+1])/(2**qubit_number)\n",
      "C:\\Users\\nicol\\AppData\\Local\\Temp\\ipykernel_13340\\3891056298.py:11: ComplexWarning: Casting complex values to real discards the imaginary part\n",
      "  psi_aux[int(b+c)][a][i]=np.trace(projectors[j]@observables[i+1])/(2**qubit_number)\n"
     ]
    }
   ],
   "source": [
    "psi=np.zeros((len(observables[1:]),len(projectors)))\n",
    "psi_aux=np.zeros((3**qubit_number,2**qubit_number,4**qubit_number-1))\n",
    "\n",
    "for i in range(len(observables[1:])):\n",
    "    for j in range(len(projectors)):\n",
    "        psi[i][j]=np.trace(projectors[j]@observables[i+1])/(2**qubit_number)\n",
    "        a=int(j%2+2*((int(j/6)%(2**(qubit_number-1)))))\n",
    "        b=int(j/2)%3\n",
    "        c=3*int(j/(6*2**(qubit_number-1)))\n",
    "#       print(i,j,b+c,a,i)\n",
    "        psi_aux[int(b+c)][a][i]=np.trace(projectors[j]@observables[i+1])/(2**qubit_number)\n"
   ]
  },
  {
   "cell_type": "code",
   "execution_count": 8,
   "id": "87cc9561",
   "metadata": {},
   "outputs": [],
   "source": [
    "inv=np.linalg.inv(psi@np.transpose(psi))\n",
    "            \n",
    "working_dir = os.getcwd()\n",
    "np.save(working_dir+'\\SavedVariables\\X_matrix'+str(qubit_number), psi_aux)\n",
    "np.save(working_dir+'\\SavedVariables\\invXtX_matrix'+str(qubit_number), inv)"
   ]
  },
  {
   "cell_type": "code",
   "execution_count": 28,
   "id": "869552b2",
   "metadata": {
    "scrolled": true
   },
   "outputs": [],
   "source": [
    "# m=np.load(working_dir+'\\SavedVariables\\X_matrix2.npy')\n",
    "# print(np.round(psi_aux-m,3))"
   ]
  }
 ],
 "metadata": {
  "kernelspec": {
   "display_name": "Python 3 (ipykernel)",
   "language": "python",
   "name": "python3"
  },
  "language_info": {
   "codemirror_mode": {
    "name": "ipython",
    "version": 3
   },
   "file_extension": ".py",
   "mimetype": "text/x-python",
   "name": "python",
   "nbconvert_exporter": "python",
   "pygments_lexer": "ipython3",
   "version": "3.9.12"
  }
 },
 "nbformat": 4,
 "nbformat_minor": 5
}
