{
 "cells": [
  {
   "cell_type": "code",
   "execution_count": 129,
   "id": "b5255973",
   "metadata": {},
   "outputs": [],
   "source": [
    "import numpy as np\n",
    "import functools as ft\n",
    "import itertools\n",
    "import os"
   ]
  },
  {
   "cell_type": "code",
   "execution_count": 184,
   "id": "6e0b96ca",
   "metadata": {},
   "outputs": [],
   "source": [
    "qubit_number=4\n",
    "Pauli=np.asarray([\n",
    "        [[1,0],\n",
    "        [0,1]],\n",
    "\n",
    "\n",
    "        [[0,1],\n",
    "        [1,0]],\n",
    "\n",
    "\n",
    "        [[0,-1j],\n",
    "        [1j,0]],\n",
    "\n",
    "\n",
    "        [[1,0],\n",
    "        [0,-1]]])\n",
    "\n",
    "\n",
    "states=np.asarray([\n",
    "    [1,1]/np.sqrt(2),\n",
    "    [1,-1]/np.sqrt(2),\n",
    "    [1,1j]/np.sqrt(2),\n",
    "    [1,-1j]/np.sqrt(2),\n",
    "    [1,0],\n",
    "    [0,1],\n",
    "])"
   ]
  },
  {
   "cell_type": "code",
   "execution_count": 185,
   "id": "8b0b8cd4",
   "metadata": {},
   "outputs": [],
   "source": [
    "projectors = []\n",
    "perm = itertools.product(states, repeat=qubit_number)\n",
    "for i in list(perm):\n",
    "    projectors.append(np.outer(ft.reduce(np.kron, i),np.conjugate(np.transpose(ft.reduce(np.kron, i)))))\n",
    "    \n",
    "observables = []\n",
    "perm = itertools.product(Pauli, repeat=qubit_number)\n",
    "for i in list(perm):\n",
    "    observables.append(ft.reduce(np.kron, i))"
   ]
  },
  {
   "cell_type": "code",
   "execution_count": 186,
   "id": "802e0a4e",
   "metadata": {},
   "outputs": [
    {
     "name": "stderr",
     "output_type": "stream",
     "text": [
      "C:\\Users\\LauraMartins\\AppData\\Local\\Temp\\ipykernel_26864\\3723427908.py:6: ComplexWarning: Casting complex values to real discards the imaginary part\n",
      "  psi[i][j]=np.trace(projectors[j]@observables[i+1])/(2**qubit_number)\n",
      "C:\\Users\\LauraMartins\\AppData\\Local\\Temp\\ipykernel_26864\\3723427908.py:11: ComplexWarning: Casting complex values to real discards the imaginary part\n",
      "  psi_aux[int(b+c)][a][i]=np.trace(projectors[j]@observables[i+1])/(2**qubit_number)\n"
     ]
    }
   ],
   "source": [
    "psi=np.zeros((len(observables[1:]),len(projectors)))\n",
    "psi_aux=np.zeros((3**qubit_number,2**qubit_number,4**qubit_number-1))\n",
    "\n",
    "for i in range(len(observables[1:])):\n",
    "    for j in range(len(projectors)):\n",
    "        psi[i][j]=np.trace(projectors[j]@observables[i+1])/(2**qubit_number)\n",
    "        a=int(j%2+2*((int(j/6)%(2**(qubit_number-1)))))\n",
    "        b=int(j/2)%3\n",
    "        c=3*int(j/(6*2**(qubit_number-1)))\n",
    "#         print(i,j,b+c,a,i)\n",
    "        psi_aux[int(b+c)][a][i]=np.trace(projectors[j]@observables[i+1])/(2**qubit_number)"
   ]
  },
  {
   "cell_type": "code",
   "execution_count": 187,
   "id": "87cc9561",
   "metadata": {},
   "outputs": [],
   "source": [
    "inv=np.linalg.inv(psi@np.transpose(psi))\n",
    "            \n",
    "working_dir = os.getcwd()\n",
    "np.save(working_dir+'\\SavedVariables\\X_matrix'+str(qubit_number)+'trial', psi_aux)\n",
    "np.save(working_dir+'\\SavedVariables\\invXtX_matrix'+str(qubit_number)+'trial', inv)"
   ]
  },
  {
   "cell_type": "code",
   "execution_count": 188,
   "id": "869552b2",
   "metadata": {
    "scrolled": true
   },
   "outputs": [],
   "source": [
    "# m=np.load(working_dir+'\\SavedVariables\\X_matrix2.npy')\n",
    "# print(np.round(psi_aux-m,3))"
   ]
  },
  {
   "cell_type": "code",
   "execution_count": null,
   "id": "5eea5ea8",
   "metadata": {},
   "outputs": [],
   "source": []
  }
 ],
 "metadata": {
  "kernelspec": {
   "display_name": "Python 3 (ipykernel)",
   "language": "python",
   "name": "python3"
  },
  "language_info": {
   "codemirror_mode": {
    "name": "ipython",
    "version": 3
   },
   "file_extension": ".py",
   "mimetype": "text/x-python",
   "name": "python",
   "nbconvert_exporter": "python",
   "pygments_lexer": "ipython3",
   "version": "3.8.12"
  }
 },
 "nbformat": 4,
 "nbformat_minor": 5
}
