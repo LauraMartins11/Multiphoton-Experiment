{
 "cells": [
  {
   "cell_type": "code",
   "execution_count": 15,
   "metadata": {},
   "outputs": [],
   "source": [
    "import numpy as np\n",
    "import scipy\n",
    "import time\n",
    "import math\n",
    "import itertools\n",
    "from scipy.stats import norm\n",
    "\n",
    "import mystic\n",
    "from mystic.solvers import DifferentialEvolutionSolver, diffev2\n",
    "from mystic.strategy import Best1Bin\n",
    "from mystic.monitors import Monitor,VerboseMonitor\n",
    "\n",
    "from copy import deepcopy\n",
    "\n",
    "from tomography import *\n",
    "\n",
    "from NestedForLoop import get_iterator\n",
    "from pathlib import Path\n",
    "from scipy.linalg import sqrtm\n",
    "\n",
    "import matplotlib.pyplot as plt\n",
    "from scipy.optimize import curve_fit\n",
    "\n",
    "import os\n",
    "import glob\n",
    "\n",
    "import pandas as pd\n",
    "\n",
    "from scipy.optimize import least_squares\n",
    "\n",
    "import fnmatch\n",
    "from efficiencies import finding_file, get_channels_eff, set_raw_counts\n",
    "from optimization import *\n",
    "from constants import *\n",
    "\n",
    "from densitymatrix import DensityMatrix, apply_unitary_to_dm\n",
    "\n",
    "from pathlib import Path\n",
    "import fnmatch"
   ]
  },
  {
   "cell_type": "code",
   "execution_count": 16,
   "metadata": {},
   "outputs": [],
   "source": [
    "working_dir = os.getcwd()\n",
    "# os.getcwd()+'\\StateTomoData'\n",
    "working_dir_data = r\"C:\\Users\\Experience\\Desktop\\Multipartite Entanglement Experiment\\Data\\QST\"\n",
    "file=\"QST_Double_Layer_20231117182811\""
   ]
  },
  {
   "cell_type": "code",
   "execution_count": 17,
   "metadata": {
    "scrolled": true
   },
   "outputs": [
    {
     "name": "stdout",
     "output_type": "stream",
     "text": [
      "Analyse Files:  ['counts']\n"
     ]
    }
   ],
   "source": [
    "######################################################################################################\n",
    "#----- COUNTING THE FILES AND SAVING THEM IN AN ARRAY TO MAKES THE REST OF THE ANALYSIS EASIER -------\n",
    "######################################################################################################\n",
    "\n",
    "n_files=0\n",
    "os.chdir(working_dir_data)\n",
    "\n",
    "filenames = [i for i in glob.glob(file)]\n",
    "filenames.sort(key=os.path.getmtime)\n",
    "\n",
    "index_to_file = {}\n",
    "\n",
    "for index, filename in enumerate(filenames):\n",
    "    os.chdir(f\"{working_dir_data}\\\\{filename}\")\n",
    "    filenames_aux=[i for i in glob.glob(\"counts*\")]\n",
    "    for index_second, filenames_aux_second in enumerate(filenames_aux):\n",
    "        index_to_file[n_files] = f\"{filename}\\\\{filenames_aux_second}\"\n",
    "        n_files+=1\n",
    "os.chdir(working_dir)\n",
    "print(\"Analyse Files: \", filenames_aux)"
   ]
  },
  {
   "cell_type": "code",
   "execution_count": 18,
   "metadata": {},
   "outputs": [],
   "source": [
    "#####################################################################\n",
    "#---------------------- DEFINING PARAMS ----------------------------#\n",
    "#####################################################################\n",
    "os.chdir(working_dir)\n",
    "qubit_number=2\n",
    "\n",
    "## Defining the columns of the data file we want to use as data to reconstruct the density matrix (eg.: HH HV VH and VV basis)\n",
    "BASIS_TO_CHANNEL={\n",
    "    \"HA\": 1,\n",
    "    \"VA\": 2,\n",
    "    \"HB\": 3,\n",
    "    \"VB\": 4,\n",
    "    \"HC\": 5,\n",
    "    \"VC\": 6,\n",
    "    \"HD\": 7,\n",
    "    \"VD\": 8,\n",
    "    }\n",
    "\n",
    "### Bell state ###\n",
    "eigenstates = [['HA','HB'],['HA','VB'],['VA','HB'],['VA','VB']]\n",
    "\n",
    "### 4 qubits GHZ ###\n",
    "# eigenstates = [['HA','HB','HC','HD'],['HA','HB','HC','VD'],['HA','HB','VC','HD'],['HA','HB','VC','VD'],\n",
    "#                ['HA','VB','HC','HD'],['HA','VB','HC','VD'],['HA','VB','VC','HD'],['HA','VB','VC','VD'],\n",
    "#                ['VA','HB','HC','HD'],['VA','HB','HC','VD'],['VA','HB','VC','HD'],['VA','HB','VC','VD'],\n",
    "#                ['VA','VB','HC','HD'],['VA','VB','HC','VD'],['VA','VB','VC','HD'],['VA','VB','VC','VD']]\n",
    "\n",
    "fold = four_fold=[[BASIS_TO_CHANNEL[eigenstates[i][j]] for j in range(qubit_number)] for i in range(len(eigenstates))]"
   ]
  },
  {
   "cell_type": "code",
   "execution_count": 19,
   "metadata": {},
   "outputs": [],
   "source": [
    "datafile_channels = fold.copy()\n",
    "\n",
    "for clicks in fold:\n",
    "    not_in_clicks = list(set(range(1, 2*qubit_number+1)) - set(clicks))\n",
    "    not_in_clicks.sort()\n",
    "    for rep in range(1, len(not_in_clicks)+1):\n",
    "        for combo in itertools.combinations(not_in_clicks, rep):\n",
    "            new_clicks = clicks + list(combo)\n",
    "            new_clicks.sort()\n",
    "            datafile_channels.append(new_clicks)\n",
    "            \n",
    "datafile_channels = np.array(list(set(map(tuple, datafile_channels))), dtype=object)\n",
    "first_order = list(map(len, datafile_channels)) \n",
    "order = np.lexsort((datafile_channels, first_order))\n",
    "datafile_channels = list(datafile_channels[order])\n",
    "datafile_channels = [list(t) for t in datafile_channels]"
   ]
  },
  {
   "cell_type": "code",
   "execution_count": 20,
   "metadata": {},
   "outputs": [],
   "source": [
    "# print(datafile_channels)"
   ]
  },
  {
   "cell_type": "code",
   "execution_count": 21,
   "metadata": {},
   "outputs": [
    {
     "name": "stdout",
     "output_type": "stream",
     "text": [
      "Coincidences column_start: 0 ; column_stop:  4\n",
      "Double emission column_start: 8 ; column_stop:  12\n"
     ]
    }
   ],
   "source": [
    "single_channels_offset = 4\n",
    "coincidences_columns = []\n",
    "double_emission_columns = []\n",
    "\n",
    "for i, iter in enumerate(eigenstates):\n",
    "    proj = [BASIS_TO_CHANNEL[iter[m]] for m in range(qubit_number)]\n",
    "    coincidences_columns.append(datafile_channels.index(proj))\n",
    "    double_emission_columns.append([datafile_channels.index(d) for d in datafile_channels if set(proj).issubset(set(d))])\n",
    "    double_emission_columns[-1].remove(coincidences_columns[-1])\n",
    "\n",
    "column_start = np.min(coincidences_columns) + single_channels_offset\n",
    "column_stop = np.max(coincidences_columns) + 1 + single_channels_offset\n",
    "print(\"Coincidences column_start:\", column_start,\"; column_stop: \", column_stop)\n",
    "\n",
    "### NEED TO UPDATE IF ANALYSING A FILE BEFORE 03/01/2024 (to 8 - 12 and 13 - 17)\n",
    "\n",
    "column_start_2_emissions = np.min(double_emission_columns) + 4 + single_channels_offset\n",
    "column_stop_2_emissions = np.max(double_emission_columns) + 4 + single_channels_offset \n",
    "print(\"Double emission column_start:\", column_start_2_emissions, \"; column_stop: \", column_stop_2_emissions)\n",
    "\n",
    "### NEED TO UPDATE IF ANALYSING A FILE BEFORE 03/01/2024 (to 12 - 13 and 17 - 18)\n",
    "\n",
    "if single_channels_offset == 0: \n",
    "\n",
    "    column_start_4_emissions = 16 \n",
    "    column_stop_4_emissions = 17\n",
    "    print(\"Four emission column_start:\", column_start_4_emissions, \"; column_stop: \", column_stop_4_emissions)\n",
    "else : \n",
    "\n",
    "    column_start_4_emissions = 17\n",
    "    column_stop_4_emissions = 18\n",
    "    print(\"Four emission column_start:\", column_start_4_emissions, \"; column_stop: \", column_stop_4_emissions)\n"
   ]
  },
  {
   "cell_type": "code",
   "execution_count": 22,
   "metadata": {},
   "outputs": [
    {
     "name": "stdout",
     "output_type": "stream",
     "text": [
      "Channels efficiencies:  [0.92147496 1.         0.91379271 0.9939457 ]\n",
      "Channels efficiencies (double emission):  [0.91371385 0.990543   1.         0.99348784]\n"
     ]
    }
   ],
   "source": [
    "statetomo = []\n",
    "state = []\n",
    "state_file = []\n",
    "\n",
    "xp_counts_corrected_with_eff=[]\n",
    "\n",
    "#####################################################################\n",
    "#---------------------- STATE TOMOGRAPHY ----------------------------\n",
    "#####################################################################\n",
    "for index in range(len(index_to_file)):\n",
    "    os.chdir(f\"{working_dir_data}\\\\{index_to_file[index]}\\\\\")\n",
    "    datafiles=[i for i in glob.glob(\"*\")]\n",
    "    \n",
    "    ### Calculating the efficiencies of each detector\n",
    "    efficiencies=get_channels_eff(datafiles, qubit_number, column_start, column_stop, os.getcwd())\n",
    "    efficiencies_2_emissions=get_channels_eff(datafiles, qubit_number, column_start_2_emissions, column_stop_2_emissions, os.getcwd())\n",
    "    print(\"Channels efficiencies: \", efficiencies)\n",
    "    print(\"Channels efficiencies (double emission): \", efficiencies_2_emissions)\n",
    "\n",
    "    four_fold_efficiencies = efficiencies[0]*efficiencies[2]\n",
    "\n",
    "    ### Opening the data files and writing the data in counts_aux array\n",
    "    counts_aux=set_raw_counts(datafiles, qubit_number, column_start, column_stop, os.getcwd()) \n",
    "    xp_counts=np.array(np.transpose(counts_aux))\n",
    "    total_per_basis=np.sum(xp_counts, axis=1)\n",
    "\n",
    "    counts_aux_2_emissions=set_raw_counts(datafiles, qubit_number, column_start_2_emissions, column_stop_2_emissions, os.getcwd())\n",
    "    xp_counts_2_emissions=np.array(np.transpose(counts_aux_2_emissions))\n",
    "\n",
    "    counts_aux_4_emsissions= set_raw_counts_double_emissions(datafiles, qubit_number, 17, 18, os.getcwd())\n",
    "    xp_counts_4_emissions=np.array(np.round((np.transpose(counts_aux_4_emsissions))/four_fold_efficiencies,0))\n",
    "\n",
    "    statetomo.append(LRETomography(int(qubit_number), xp_counts, xp_counts_2_emissions,xp_counts_4_emissions))\n",
    "    statetomo[-1].run(correct_eff=efficiencies, correct_double_emission_eff=efficiencies_2_emissions, correct_double_emission=double_emission_columns)\n",
    "    xp_counts_corrected_with_eff.append(statetomo[-1].xp_counts)\n",
    "        \n",
    "    state.append(statetomo[-1])\n",
    "    state_file.append(index_to_file[index])"
   ]
  },
  {
   "cell_type": "code",
   "execution_count": 23,
   "metadata": {},
   "outputs": [],
   "source": [
    "######################################\n",
    "#-- DEFINING THE TARGET BELL STATE ---\n",
    "######################################\n",
    "\n",
    "bell=(np.array([1,0,0,0])+np.array([0,0,0,1]))/np.sqrt(2)\n",
    "# bell=(np.array([1,0,0,0])-np.array([0,0,0,1]))/np.sqrt(2)\n",
    "#bell=(np.array([0,1,0,0])+np.array([0,0,1,0]))/np.sqrt(2)\n",
    "# bell=(np.array([0,1,0,0])+np.array([0,0,1,0]))/np.sqrt(2)\n",
    "# bell=(np.array([1,0,0,0,0,0,0,0,0,0,0,0,0,0,0,0])+np.array([0,0,0,0,0,0,0,0,0,0,0,0,0,0,0,1]))/np.sqrt(2)\n",
    "bellmatrix=np.array(np.outer(bell, np.conjugate(bell)))\n",
    "\n",
    "# states=state\n",
    "# for index in range(len(states)):\n",
    "#     print(np.real(np.round(states[index].state.fidelity(bell),5)))"
   ]
  },
  {
   "cell_type": "code",
   "execution_count": 25,
   "metadata": {},
   "outputs": [],
   "source": [
    "##########################################################\n",
    "#----- OPTIMIZATION OF MAX FIDELITY UP TO UNITARIES ------\n",
    "##########################################################\n",
    "states=state\n",
    "fid=np.zeros((n_files))\n",
    "optimized_matrix=np.zeros((n_files,2**qubit_number,2**qubit_number), dtype='complex')\n",
    "\n",
    "guess=np.zeros(3*(qubit_number-1))\n",
    "bounds=[(-np.pi,np.pi)]*3*(qubit_number-1)\n",
    "results = []\n",
    "\n",
    "opt=Optimizer(guess, function_fidelity_U, results=FidelityResults)\n",
    "for index in range(len(states)):\n",
    "    result=opt.optimize_fmin(qubit_number,states[index].state, bell, bounds=bounds)\n",
    "    results.append(result)"
   ]
  },
  {
   "cell_type": "code",
   "execution_count": 26,
   "metadata": {
    "scrolled": false
   },
   "outputs": [
    {
     "name": "stdout",
     "output_type": "stream",
     "text": [
      "Simulating new states considering the uncertainties\n",
      "Optimizing the fidelity between input and target up to a unitary\n",
      "file, fidelity, fidelity_mean, fidelity_std:  QST_Double_Layer_20231117182811\\counts (0.98803+0j) 0.98772 0.0002 \n",
      "\n"
     ]
    }
   ],
   "source": [
    "##########################################################\n",
    "#------------ ERRORS Input with BELL STATE---------------#\n",
    "##########################################################\n",
    "error_runs=5\n",
    "\n",
    "U=[]\n",
    "bell_aux=[]\n",
    "target_ini=[]\n",
    "\n",
    "states=state\n",
    "states_file=state_file\n",
    "players=[\"Arya\", \"Bran\",\"Cersei\",\"Dany\"]\n",
    "\n",
    "for index in range(len(states)):\n",
    "    target=bellmatrix\n",
    "    U.append(results[index].u)\n",
    "    target_ini.append(np.transpose(np.conjugate(U[-1]))@bellmatrix@U[-1])    \n",
    "    \n",
    "    states[index].calculate_fidelity_error(players, error_runs, opt, target, optimization=True, bounds=bounds)\n",
    "    \n",
    "    print('file, fidelity, fidelity_mean, fidelity_std: ',\n",
    "          states_file[index], np.round(states[index].state.fidelity(target_ini[-1]),5), -np.round(states[index].fidelity_mu,5),\n",
    "          np.round(states[index].fidelity_std,5), '\\n')"
   ]
  },
  {
   "cell_type": "code",
   "execution_count": 12,
   "metadata": {},
   "outputs": [
    {
     "name": "stdout",
     "output_type": "stream",
     "text": [
      "filename: QST_Double_Layer_20231122142331\n",
      "Average Rate: (128528.87407407406 +/- 4058.1286685263563) Hz\n"
     ]
    },
    {
     "data": {
      "image/png": "[encoded data removed]",
      "text/plain": [
       "<Figure size 576x432 with 2 Axes>"
      ]
     },
     "metadata": {
      "needs_background": "light"
     },
     "output_type": "display_data"
    },
    {
     "data": {
      "image/png": "[encoded data removed]",
      "text/plain": [
       "<Figure size 576x432 with 2 Axes>"
      ]
     },
     "metadata": {
      "needs_background": "light"
     },
     "output_type": "display_data"
    }
   ],
   "source": [
    "##########################################################\n",
    "#--------------- PLOTTING DENSITY MATRIX-----------------#\n",
    "##########################################################\n",
    "print(f\"filename: {file}\")\n",
    "aq_time=30 #in seconds\n",
    "print(f\"Average Rate: ({np.average(total_per_basis)/aq_time} +/- {np.std(total_per_basis)/aq_time}) Hz\")\n",
    "results[-1].optimized_state.plot_dm()"
   ]
  },
  {
   "cell_type": "code",
   "execution_count": 13,
   "metadata": {},
   "outputs": [
    {
     "data": {
      "text/plain": [
       "array([[ 0.46225764-7.11236625e-17j,  0.00064152+4.58523643e-03j,\n",
       "         0.00131994-4.28647568e-03j,  0.48826182+7.65213972e-09j],\n",
       "       [ 0.00064152-4.58523643e-03j,  0.00609474-1.27935856e-17j,\n",
       "        -0.00193906-3.60926998e-03j,  0.00129955+2.22808882e-04j],\n",
       "       [ 0.00131994+4.28647568e-03j, -0.00193906+3.60926998e-03j,\n",
       "         0.00540157+1.00288701e-18j,  0.00062114+7.59507531e-05j],\n",
       "       [ 0.48826182-7.65213974e-09j,  0.00129955-2.22808882e-04j,\n",
       "         0.00062114-7.59507531e-05j,  0.52624605+7.00665654e-17j]])"
      ]
     },
     "execution_count": 13,
     "metadata": {},
     "output_type": "execute_result"
    }
   ],
   "source": [
    "results[-1].optimized_state.state"
   ]
  },
  {
   "cell_type": "code",
   "execution_count": null,
   "metadata": {},
   "outputs": [],
   "source": []
  },
  {
   "cell_type": "code",
   "execution_count": null,
   "metadata": {},
   "outputs": [],
   "source": []
  },
  {
   "cell_type": "code",
   "execution_count": null,
   "metadata": {},
   "outputs": [],
   "source": []
  },
  {
   "cell_type": "code",
   "execution_count": null,
   "metadata": {},
   "outputs": [],
   "source": []
  },
  {
   "cell_type": "code",
   "execution_count": 14,
   "metadata": {},
   "outputs": [],
   "source": [
    "#### Everything under this line was used to analyse the quantum transmission certification"
   ]
  },
  {
   "cell_type": "code",
   "execution_count": 15,
   "metadata": {},
   "outputs": [
    {
     "ename": "NameError",
     "evalue": "name 'state_before' is not defined",
     "output_type": "error",
     "traceback": [
      "\u001b[1;31m---------------------------------------------------------------------------\u001b[0m",
      "\u001b[1;31mNameError\u001b[0m                                 Traceback (most recent call last)",
      "\u001b[1;32m<ipython-input-15-d58304aed6a6>\u001b[0m in \u001b[0;36m<module>\u001b[1;34m\u001b[0m\n\u001b[0;32m      6\u001b[0m \u001b[0mtarget_ini\u001b[0m\u001b[1;33m=\u001b[0m\u001b[1;33m[\u001b[0m\u001b[1;33m]\u001b[0m\u001b[1;33m\u001b[0m\u001b[1;33m\u001b[0m\u001b[0m\n\u001b[0;32m      7\u001b[0m \u001b[1;33m\u001b[0m\u001b[0m\n\u001b[1;32m----> 8\u001b[1;33m \u001b[0mstates\u001b[0m\u001b[1;33m=\u001b[0m\u001b[0mstate_before\u001b[0m\u001b[1;33m\u001b[0m\u001b[1;33m\u001b[0m\u001b[0m\n\u001b[0m\u001b[0;32m      9\u001b[0m \u001b[1;33m\u001b[0m\u001b[0m\n\u001b[0;32m     10\u001b[0m \u001b[1;32mfor\u001b[0m \u001b[0mindex\u001b[0m \u001b[1;32min\u001b[0m \u001b[0mrange\u001b[0m\u001b[1;33m(\u001b[0m\u001b[0mlen\u001b[0m\u001b[1;33m(\u001b[0m\u001b[0mstates\u001b[0m\u001b[1;33m)\u001b[0m\u001b[1;33m)\u001b[0m\u001b[1;33m:\u001b[0m\u001b[1;33m\u001b[0m\u001b[1;33m\u001b[0m\u001b[0m\n",
      "\u001b[1;31mNameError\u001b[0m: name 'state_before' is not defined"
     ]
    }
   ],
   "source": [
    "##########################################################\n",
    "#--------------- ERRORS OUTPUT TO INTPUT ----------------#\n",
    "##########################################################\n",
    "U=[]\n",
    "bell_aux=[]\n",
    "target_ini=[]\n",
    "\n",
    "states=state_before\n",
    "\n",
    "for index in range(len(states)):\n",
    "    target=state_after[index]\n",
    "    U.append(np.kron(results[index].u1,results[index].u2))\n",
    "    target_ini.append(np.transpose(np.conjugate(U[-1]))@state_after[index].state.state@U[-1])\n",
    "    \n",
    "    states[index].calculate_fidelity_error_between_2_experimental_matrices(error_runs, players, target, apply_unitary_to_input=True)\n",
    "    \n",
    "    print('file, fidelity, fidelity_mean, fidelity_std: ',\n",
    "          state_after_file[index], np.round(states[index].state.fidelity(target_ini[-1]),5), -np.round(states[index].fidelity_2_experimental_dms_mu,5),\n",
    "          np.round(states[index].fidelity_2_experimental_dms_std,5), \"\\n\")"
   ]
  },
  {
   "cell_type": "code",
   "execution_count": null,
   "metadata": {},
   "outputs": [],
   "source": [
    "bell=(np.array([0,1,0,0])-np.array([0,0,1,0]))/np.sqrt(2)\n",
    "bellmatrix=np.array(np.outer(bell, np.conjugate(bell)))\n",
    "\n",
    "result=opt.optimize(state_before[2].state, bell, bounds=bounds)\n",
    "U[2]=np.kron(result.u1,result.u2)\n",
    "\n",
    "t=state_after[2].state.state\n",
    "\n",
    "t_ini=np.linalg.inv(U[2])@state_after[2].state.state@np.linalg.inv(np.transpose(np.conjugate(U[2])))\n",
    "\n",
    "states[2].calculate_fidelity_error(players, error_runs, opt, t, bounds=bounds)\n",
    "\n",
    "print('index, fidelity, fidelity_mean, fidelity_std: ',\n",
    "        state_before_file[index], np.round(states[2].state.fidelity(t_ini),5), np.round(states[2].fidelity_mu,5),\n",
    "        np.round(states[2].fidelity_std,5))"
   ]
  },
  {
   "cell_type": "code",
   "execution_count": null,
   "metadata": {},
   "outputs": [],
   "source": []
  },
  {
   "cell_type": "code",
   "execution_count": null,
   "metadata": {},
   "outputs": [],
   "source": []
  },
  {
   "cell_type": "code",
   "execution_count": null,
   "metadata": {},
   "outputs": [],
   "source": [
    "##########################################################\n",
    "#------------ ERRORS OUTPUT with BELL STATE--------------#\n",
    "##########################################################\n",
    "bell=(np.array([0,1,0,0])+np.array([0,0,1,0]))/np.sqrt(2)\n",
    "bellmatrix=np.array(np.outer(bell, np.conjugate(bell)))\n",
    "error_runs=30\n",
    "\n",
    "U=[]\n",
    "bell_aux=[]\n",
    "target_ini=[]\n",
    "\n",
    "states=state_after\n",
    "players=[\"Arya\", \"Cersei\"]\n",
    "\n",
    "guess=np.array([0, 0, 0])\n",
    "bounds=[(-np.pi,np.pi)]*3\n",
    "opt=Optimizer(guess, function_fidelity, results=FidelityResults)\n",
    "\n",
    "for index in range(len(states)):\n",
    "    target=bellmatrix\n",
    "    #U.append(results[index].u)\n",
    "    #target_ini.append(np.transpose(np.conjugate(U[-1]))@bellmatrix@U[-1])    \n",
    "    \n",
    "    states[index].calculate_fidelity_error(players, error_runs, opt, target, bounds=bounds)\n",
    "    \n",
    "    print('index, fidelity, fidelity_mean, fidelity_std: ',\n",
    "          state_after_file[index], np.round(states[index].state.fidelity(target),5), np.round(states[index].fidelity_mu,5),\n",
    "          np.round(states[index].fidelity_std,5))"
   ]
  },
  {
   "cell_type": "code",
   "execution_count": null,
   "metadata": {},
   "outputs": [],
   "source": [
    "bell=(np.array([0,1,0,0])-np.array([0,0,1,0]))/np.sqrt(2)\n",
    "bellmatrix=np.array(np.outer(bell, np.conjugate(bell)))\n",
    "target=bellmatrix\n",
    "\n",
    "result=opt.optimize(state_before[2].state, bell, bounds=bounds)\n",
    "\n",
    "t=state_after[2].state.state\n",
    "\n",
    "states[2].calculate_fidelity_error(players, error_runs, opt, t, bounds=bounds)\n",
    "\n",
    "print('index, fidelity, fidelity_mean, fidelity_std: ',\n",
    "        state_after_file[index], np.round(states[2].state.fidelity(target),5), np.round(states[2].fidelity_mu,5),\n",
    "        np.round(states[2].fidelity_std,5))"
   ]
  },
  {
   "cell_type": "code",
   "execution_count": null,
   "metadata": {},
   "outputs": [],
   "source": [
    "##########################################################\n",
    "#------------ WRITING THE DATA IN AN EXCEL ---------------\n",
    "##########################################################\n",
    "\n",
    "import xlsxwriter\n",
    "states=state_before\n",
    "\n",
    "workbook = xlsxwriter.Workbook('fidelities_to_ini_state_errors.xlsx') ### We should write this in another place\n",
    " \n",
    "worksheet = workbook.add_worksheet()\n",
    "\n",
    "worksheet.write('A1', 'Number')\n",
    "worksheet.write('B1', 'Folder')\n",
    "worksheet.write('C1', 'Fidelity')\n",
    "worksheet.write('D1', 'Fidelity_mean')\n",
    "worksheet.write('E1', 'Fidelity_uncertainty')\n",
    "\n",
    "counter=0\n",
    "for index in range(len(state_before)):\n",
    "    \n",
    "    worksheet.write('A'+str(counter+2), counter)\n",
    "    worksheet.write('B'+str(counter+2), state_before_file[index])\n",
    "    worksheet.write('C'+str(counter+2), np.real(np.round(states_final[index].fidelity(target[index]),5)))#np.round(states[index].fidelity_to_pure(bell),5)))\n",
    "    worksheet.write('D'+str(counter+2), np.real(np.round(states_final[index].mu,5)))\n",
    "    worksheet.write('E'+str(counter+2), np.real(np.round(states_final[index].std,5)))\n",
    "    counter+=1\n",
    "        \n",
    "workbook.close()"
   ]
  },
  {
   "cell_type": "code",
   "execution_count": null,
   "metadata": {},
   "outputs": [],
   "source": []
  },
  {
   "cell_type": "code",
   "execution_count": null,
   "metadata": {},
   "outputs": [],
   "source": []
  },
  {
   "cell_type": "code",
   "execution_count": null,
   "metadata": {},
   "outputs": [],
   "source": []
  },
  {
   "cell_type": "code",
   "execution_count": null,
   "metadata": {},
   "outputs": [],
   "source": [
    "### IF WE WANT TO CHECK THE FIT TO THE UNCERTARTAINTY\n",
    "### Then we need to calculate the statistic on these simulated fidelities and calculate the standart deviation\n",
    "### This will be our uncertainty due to statistical errors\n",
    "def count_elements(seq) -> dict:\n",
    "    hist = {}\n",
    "    for i in seq:\n",
    "        hist[i] = hist.get(i, 0) + 1\n",
    "    return hist\n",
    "\n",
    "counted = count_elements(fidelity_sim)\n",
    "#print(counted)\n",
    "bin_numb = len(counted)\n",
    "errorbar_x=np.array(list(counted))\n",
    "errorbar_y=np.zeros((bin_numb), dtype=int)\n",
    "\n",
    "for i in range(bin_numb):\n",
    "    errorbar_y[i]=counted[errorbar_x[i]]\n",
    "    \n",
    "#print(errorbar_x)\n",
    "#print(errorbar_y)\n",
    "    \n",
    "def Gauss(x, A, mu, sigm):\n",
    "    y = A*np.exp(-((x-mu)/sigm)**2/2)\n",
    "    return y\n",
    "\n",
    "mu, std = norm.fit(fidelity_sim)\n",
    "print(mu, std)\n",
    "parameters, covariance = curve_fit(Gauss, xdata=errorbar_x[-1], ydata=errorbar_y[:-1], bounds=[(0,0.99007,1e-4),(60,0.9903,0.0002)])\n",
    "fit_A = parameters[0]\n",
    "fit_B = parameters[1]\n",
    "fit_C = parameters[2]\n",
    "print(fit_A, fit_B, fit_C)\n",
    "\n",
    "xdata= x = np.linspace(0.989, 0.991, 100)\n",
    "fit_y = Gauss(xdata, fit_A, fit_B, fit_C)\n",
    "plt.plot(errorbar_x[:-1], errorbar_y[:-1], 'o', label='data')\n",
    "plt.plot(xdata, fit_y, '-', label='fit')\n",
    "plt.legend()"
   ]
  },
  {
   "cell_type": "code",
   "execution_count": null,
   "metadata": {},
   "outputs": [],
   "source": []
  },
  {
   "cell_type": "code",
   "execution_count": null,
   "metadata": {},
   "outputs": [],
   "source": [
    "### This was to analyse the quantum channel certification paper\n",
    "# state_after=[]\n",
    "# state_after_file=[]\n",
    "\n",
    "# state_before=[]\n",
    "# state_before_file=[]\n",
    "\n",
    "## The 'e' and 'r' serve to distinguish between tomography before and after, respectively\n",
    "    ## We want to save them in different arrays because we need them for different things\n",
    "#     elif index_to_file[index][-8]=='e':\n",
    "#         state_before.append(statetomo[-1])#.state)\n",
    "#         state_before_file.append(index_to_file[index])\n",
    "#         #print('\\n Fast maximum likelihood estimation: \\n', state_before[-1], '\\n')\n",
    "\n",
    "#     elif index_to_file[index][-8]=='r':\n",
    "#         state_after.append(statetomo[-1])#.state)\n",
    "#         state_after_file.append(index_to_file[index])\n",
    "#         #print('\\n Fast maximum likelihood estimation: \\n', state_after[-1], '\\n')"
   ]
  }
 ],
 "metadata": {
  "kernelspec": {
   "display_name": "Python 3",
   "language": "python",
   "name": "python3"
  },
  "language_info": {
   "codemirror_mode": {
    "name": "ipython",
    "version": 3
   },
   "file_extension": ".py",
   "mimetype": "text/x-python",
   "name": "python",
   "nbconvert_exporter": "python",
   "pygments_lexer": "ipython3",
   "version": "3.8.5"
  }
 },
 "nbformat": 4,
 "nbformat_minor": 4
}
