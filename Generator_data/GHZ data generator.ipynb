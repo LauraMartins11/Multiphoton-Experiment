{
 "cells": [
  {
   "cell_type": "code",
   "execution_count": null,
   "id": "de1aa65d",
   "metadata": {},
   "outputs": [],
   "source": [
    "\"\"\"\n",
    "This notebook generates data files that contain the counts we would measure for:\n",
    "state with 'qubit_number'\n",
    "in the basis 'letters'\n",
    "for a number of 'runs'\n",
    "\n",
    "It writes the simulated data in a file in path \".../Tomography/StateTomoData/Simulated_GHZ\"\n",
    "(that you might need to create)\n",
    "This data is written in a format such that it can be analysed with the 'Quantum State Tomography'\n",
    "jupyter notebook in '.../Tomography'\n",
    "\"\"\"\n"
   ]
  },
  {
   "cell_type": "code",
   "execution_count": 16,
   "id": "04f6489b",
   "metadata": {},
   "outputs": [],
   "source": [
    "import numpy as np\n",
    "import os\n",
    "import glob\n",
    "from pathlib import Path"
   ]
  },
  {
   "cell_type": "code",
   "execution_count": 17,
   "id": "6118ecc6",
   "metadata": {},
   "outputs": [],
   "source": [
    "working_dir = Path(os.getcwd()).parent\n",
    "os.chdir(working_dir)"
   ]
  },
  {
   "cell_type": "code",
   "execution_count": 18,
   "id": "c9de19d8",
   "metadata": {},
   "outputs": [],
   "source": [
    "from tomography import *\n",
    "from NestedForLoop import get_iterator\n",
    "from efficiencies import get_channels_eff, set_raw_counts\n",
    "from optimization import Optimizer, function_fidelity, FidelityResults\n",
    "from constants import *\n",
    "from pauliexpectations import *"
   ]
  },
  {
   "cell_type": "code",
   "execution_count": 19,
   "id": "35ecda90",
   "metadata": {},
   "outputs": [],
   "source": [
    "working_dir_data = os.getcwd()+'\\StateTomoData'\n",
    "os.chdir(working_dir_data)"
   ]
  },
  {
   "cell_type": "code",
   "execution_count": 20,
   "id": "cc003187",
   "metadata": {},
   "outputs": [],
   "source": [
    "### Defining the params\n",
    "qubit_number=4\n",
    "runs=100000\n",
    "\n",
    "### 4 qubit GHZ ###\n",
    "state=(np.array([1,0,0,0,0,0,0,0,0,0,0,0,0,0,0,0])+np.array([0,0,0,0,0,0,0,0,0,0,0,0,0,0,0,1]))/np.sqrt(2)\n",
    "\n",
    "### 2 qubit Bell state ###\n",
    "# state=(np.array([0,1,0,0])+np.array([0,0,1,0]))/np.sqrt(2)\n",
    "\n",
    "Counts_file = np.zeros((3**qubit_number,2**qubit_number))"
   ]
  },
  {
   "cell_type": "code",
   "execution_count": 21,
   "id": "684b3eb7",
   "metadata": {},
   "outputs": [],
   "source": [
    "def get_proj_iterator(N_qubit, basis):\n",
    "    d={\"x\": [[1,1]/np.sqrt(2),\n",
    "             [1,-1]/np.sqrt(2)],\n",
    "       \"y\":[[1,1j]/np.sqrt(2),\n",
    "            [1,-1j]/np.sqrt(2)],\n",
    "       \"z\":[[1,0],[0,1]],\n",
    "       \"a\":[[0,1],[1,0]]}\n",
    "    \n",
    "    basis_order=get_iterator(len(basis), N_qubit)\n",
    "    projectors_order=get_iterator(2, N_qubit)\n",
    "    columns=[]\n",
    "    \n",
    "    character_matrix=[]\n",
    "    for i in basis_order:\n",
    "        string=\"\"\n",
    "        for j in i:\n",
    "            string=string+basis[j]\n",
    "        lines=[]    \n",
    "        for k in projectors_order:\n",
    "            o=0\n",
    "            vect=[]\n",
    "            for n in k:\n",
    "                if o > 0:\n",
    "                    vect=np.kron(vect,d[string[o]][n])\n",
    "                else:\n",
    "                    vect=d[string[o]][n]\n",
    "                o=o+1\n",
    "            lines.append(vect)    \n",
    "        character_matrix.append(lines)         \n",
    "        columns.append(string)   \n",
    "        \n",
    "    return character_matrix"
   ]
  },
  {
   "cell_type": "code",
   "execution_count": 22,
   "id": "58fd1d9e",
   "metadata": {},
   "outputs": [
    {
     "name": "stdout",
     "output_type": "stream",
     "text": [
      "Creating the counts and files\n"
     ]
    }
   ],
   "source": [
    "######################################################\n",
    "#----- CREATING THE FILES FOR AND THE COUNTS -------\n",
    "######################################################\n",
    "print('Creating the counts and files')\n",
    "letters = ['x', 'y', 'z']\n",
    "bases = []\n",
    "\n",
    "projector_matrix = get_proj_iterator(qubit_number, letters)\n",
    "\n",
    "for i in range(3**qubit_number):\n",
    "    for j in range(2**qubit_number):\n",
    "        Counts_file[i][j] = runs*abs(np.trace(np.dot(np.outer(projector_matrix[i][j],projector_matrix[i][j]),np.outer(state,state))))  \n",
    "\n",
    "for i in letters:\n",
    "    if qubit_number == 1:\n",
    "        base = i \n",
    "        bases.append(base)\n",
    "    for j in letters:\n",
    "        if qubit_number == 2:\n",
    "            base = i + j\n",
    "            bases.append(base)\n",
    "        for k in letters:\n",
    "            if qubit_number == 3:\n",
    "                base = i + j + k \n",
    "                bases.append(base)\n",
    "            for l in letters:\n",
    "                if qubit_number == 4:\n",
    "                    base = i + j + k + l\n",
    "                    bases.append(base)\n",
    "\n",
    "                    \n",
    "for i in range(len(bases)):\n",
    "    f = open(working_dir_data+\"/Simulated/GHZ/Bigiteration_0_\" + str(bases[i]) + \".txt\", \"a\")\n",
    "    f.truncate(0)\n",
    "    for j in range(2**qubit_number):\n",
    "        f.write(str(Counts_file[i,j])+' ')\n",
    "        \n",
    "        \n",
    "    ### Considering double emission\n",
    "    p=0.00001\n",
    "    if qubit_number==1:\n",
    "        double_emission=[p*runs]*1\n",
    "    elif qubit_number==2:\n",
    "        double_emission=[p*runs]*5\n",
    "    elif qubit_number==3:\n",
    "        double_emission=[p*runs]*7\n",
    "    elif qubit_number==4:\n",
    "        double_emission=[p*runs]*64\n",
    "        \n",
    "    for j in range(len(double_emission)):\n",
    "        f.write(str(double_emission[j])+' ')\n",
    "    f.close()"
   ]
  },
  {
   "cell_type": "code",
   "execution_count": 23,
   "id": "8f3affff",
   "metadata": {},
   "outputs": [
    {
     "name": "stdout",
     "output_type": "stream",
     "text": [
      "Creating the counts and files for the efficiency\n"
     ]
    }
   ],
   "source": [
    "######################################################\n",
    "#----- CREATING THE FILES FOR THE EFFICIENCIES -------\n",
    "######################################################\n",
    "\n",
    "print('Creating the counts and files for the efficiency')\n",
    "letters = ['z', 'a']\n",
    "bases = []\n",
    "\n",
    "projector_matrix2 = get_proj_iterator(qubit_number, letters)\n",
    "\n",
    "for i in range(2**qubit_number):\n",
    "    for j in range(2**qubit_number):\n",
    "        Counts_file[i][j] = runs*abs(np.trace(np.dot(np.outer(projector_matrix2[i][j],projector_matrix2[i][j]),np.outer(state,state))))  \n",
    "\n",
    "for i in letters:\n",
    "    if qubit_number == 1:\n",
    "        base = i \n",
    "        bases.append(base)\n",
    "    for j in letters:\n",
    "        if qubit_number == 2:\n",
    "            base = i + j\n",
    "            bases.append(base)\n",
    "        for k in letters:\n",
    "            if qubit_number == 3:\n",
    "                base = i + j + k \n",
    "                bases.append(base)\n",
    "            for l in letters:\n",
    "                if qubit_number == 4:\n",
    "                    base = i + j + k + l\n",
    "                    bases.append(base)\n",
    "                    \n",
    "for i in range(len(bases)):\n",
    "    f = open(working_dir_data+\"/Simulated/GHZ/Bigiteration_0_\" + str(bases[i]) + \".txt\", \"a\")\n",
    "    f.truncate(0)\n",
    "    for j in range(2**qubit_number):\n",
    "        f.write(str(Counts_file[i,j]))\n",
    "        f.write(' ')\n",
    "    f.close()"
   ]
  },
  {
   "cell_type": "code",
   "execution_count": null,
   "id": "fb28e03d",
   "metadata": {},
   "outputs": [],
   "source": []
  },
  {
   "cell_type": "code",
   "execution_count": null,
   "id": "fa46a99c",
   "metadata": {},
   "outputs": [],
   "source": []
  }
 ],
 "metadata": {
  "kernelspec": {
   "display_name": "Python 3 (ipykernel)",
   "language": "python",
   "name": "python3"
  },
  "language_info": {
   "codemirror_mode": {
    "name": "ipython",
    "version": 3
   },
   "file_extension": ".py",
   "mimetype": "text/x-python",
   "name": "python",
   "nbconvert_exporter": "python",
   "pygments_lexer": "ipython3",
   "version": "3.8.12"
  }
 },
 "nbformat": 4,
 "nbformat_minor": 5
}
