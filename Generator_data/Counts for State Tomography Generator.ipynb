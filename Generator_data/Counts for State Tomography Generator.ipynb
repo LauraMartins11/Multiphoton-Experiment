{
 "cells": [
  {
   "cell_type": "code",
   "execution_count": 1,
   "id": "34ffabf0",
   "metadata": {},
   "outputs": [],
   "source": [
    "import numpy as np\n",
    "import os\n",
    "from pathlib import Path"
   ]
  },
  {
   "cell_type": "code",
   "execution_count": 2,
   "id": "eece088c",
   "metadata": {},
   "outputs": [],
   "source": [
    "working_dir = os.getcwd()\n",
    "\n",
    "path = Path(working_dir)\n",
    "os.chdir(str(path.parent.absolute()))"
   ]
  },
  {
   "cell_type": "code",
   "execution_count": 3,
   "id": "dabcc570",
   "metadata": {},
   "outputs": [],
   "source": [
    "from NestedForLoop import get_iterator\n",
    "os.chdir(os.getcwd()+'\\StateTomoData\\StateTomo_2Layers')"
   ]
  },
  {
   "cell_type": "code",
   "execution_count": 4,
   "id": "7aac93c9",
   "metadata": {},
   "outputs": [],
   "source": [
    "d={\"x\": [[1,1]/np.sqrt(2),\n",
    "        [1,-1]/np.sqrt(2)],\n",
    "    \"y\":[[1,1j]/np.sqrt(2),\n",
    "        [1,1j]/np.sqrt(2)],\n",
    "    \"z\":[[1,0],[0,1]],\n",
    "    \"a\":[[0,1],[1,0]],\n",
    "  }\n",
    "\n",
    "def get_proj_iterator(n_qubit, d, basis):\n",
    "    \n",
    "    basis_order=get_iterator(len(basis), n_qubit)\n",
    "    projectors_order=get_iterator(2, n_qubit)\n",
    "    columns=[]\n",
    "    \n",
    "    character_matrix=[]\n",
    "    for i in basis_order:\n",
    "        string=\"\"\n",
    "        for j in i:\n",
    "            string=string+basis[j]\n",
    "        lines=[]    \n",
    "        for k in projectors_order:\n",
    "            o=0\n",
    "            vect=[]\n",
    "            for n in k:\n",
    "                if o > 0:\n",
    "                    vect=np.kron(vect,d[string[o]][n])\n",
    "                else:\n",
    "                    vect=d[string[o]][n]\n",
    "                o=o+1\n",
    "            lines.append(vect)    \n",
    "        character_matrix.append(lines)         \n",
    "        columns.append(string)   \n",
    "        \n",
    "    return character_matrix\n",
    "\n",
    "def write_counts_in_file(qubit_number, projector_matrix, state):\n",
    "    m,n,o=np.shape(projector_matrix)\n",
    "    counts_file = np.zeros((m,n))\n",
    "    bases = []\n",
    "\n",
    "    for i in range(m):\n",
    "        for j in range(n):\n",
    "            counts_file[i][j] = np.round(runs*abs(np.trace(np.dot(np.outer(projector_matrix[i][j],projector_matrix[i][j]),np.outer(state,state)))))  \n",
    "\n",
    "    for i in basis:\n",
    "        if qubit_number == 1:\n",
    "            base = i \n",
    "            bases.append(base)\n",
    "        for j in basis:\n",
    "            if qubit_number == 2:\n",
    "                base = i + j\n",
    "                bases.append(base)\n",
    "            for k in basis:\n",
    "                if qubit_number == 3:\n",
    "                    base = i + j + k \n",
    "                    bases.append(base)\n",
    "                for l in basis:\n",
    "                    if qubit_number == 4:\n",
    "                        base = i + j + k + l\n",
    "                        bases.append(base)\n",
    "\n",
    "    for i in range(len(bases)):\n",
    "        f = open(os.getcwd()+\"\\Simulated_Bell\\Bigiteration_0_\" + str(bases[i]) + \".txt\", \"a\")    \n",
    "        f.truncate(0)\n",
    "        for j in range(2**qubit_number):\n",
    "            f.write(str(counts_file[i,j])+\"  \")\n",
    "        f.close()"
   ]
  },
  {
   "cell_type": "code",
   "execution_count": 5,
   "id": "43015b79",
   "metadata": {},
   "outputs": [
    {
     "name": "stdout",
     "output_type": "stream",
     "text": [
      "Creating the counts and files\n"
     ]
    }
   ],
   "source": [
    "######################################################\n",
    "#----- CREATING THE FILES FOR AND THE COUNTS -------\n",
    "######################################################\n",
    "\n",
    "print('Creating the counts and files')\n",
    "qubit_number=2\n",
    "runs = 100000\n",
    "\n",
    "# counts_file = np.zeros((3**qubit_number,2**qubit_number))\n",
    "# bases = []\n",
    "basis=[\"x\",\"y\",\"z\"]\n",
    "\n",
    "# state=(np.array([1,0,0,0,0,0,0,0,0,0,0,0,0,0,0,0])+np.array([0,0,0,0,0,0,0,0,0,0,0,0,0,0,0,1]))/np.sqrt(2)\n",
    "state=(np.array([1,0,0,0])+np.array([0,0,0,1]))/np.sqrt(2)\n",
    "\n",
    "projector_matrix=get_proj_iterator(qubit_number, d, basis)\n",
    "write_counts_in_file(qubit_number, projector_matrix, state)"
   ]
  },
  {
   "cell_type": "code",
   "execution_count": 6,
   "id": "d758ca36",
   "metadata": {},
   "outputs": [
    {
     "name": "stdout",
     "output_type": "stream",
     "text": [
      "Creating the counts and files for the efficiency\n"
     ]
    }
   ],
   "source": [
    "######################################################\n",
    "#----- CREATING THE FILES FOR THE EFFICIENCIES -------\n",
    "######################################################\n",
    "\n",
    "print('Creating the counts and files for the efficiency')\n",
    "basis=[\"z\",\"a\"]\n",
    "bases = []\n",
    "\n",
    "projector_matrix=get_proj_iterator(qubit_number, d, basis)\n",
    "write_counts_in_file(qubit_number, projector_matrix, state)"
   ]
  },
  {
   "cell_type": "code",
   "execution_count": null,
   "id": "5eed71e7",
   "metadata": {},
   "outputs": [],
   "source": []
  },
  {
   "cell_type": "code",
   "execution_count": null,
   "id": "dff6c930",
   "metadata": {},
   "outputs": [],
   "source": []
  }
 ],
 "metadata": {
  "kernelspec": {
   "display_name": "Python 3 (ipykernel)",
   "language": "python",
   "name": "python3"
  },
  "language_info": {
   "codemirror_mode": {
    "name": "ipython",
    "version": 3
   },
   "file_extension": ".py",
   "mimetype": "text/x-python",
   "name": "python",
   "nbconvert_exporter": "python",
   "pygments_lexer": "ipython3",
   "version": "3.8.12"
  }
 },
 "nbformat": 4,
 "nbformat_minor": 5
}
