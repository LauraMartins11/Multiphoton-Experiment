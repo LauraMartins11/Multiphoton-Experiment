{
 "cells": [
  {
   "cell_type": "code",
   "execution_count": 1,
   "metadata": {},
   "outputs": [],
   "source": [
    "import numpy as np\n",
    "import scipy\n",
    "import time\n",
    "import math\n",
    "from scipy.stats import norm\n",
    "\n",
    "import mystic\n",
    "from mystic.solvers import DifferentialEvolutionSolver, diffev2\n",
    "from mystic.strategy import Best1Bin\n",
    "from mystic.monitors import Monitor,VerboseMonitor\n",
    "\n",
    "from copy import deepcopy\n",
    "\n",
    "from Tomography import *\n",
    "\n",
    "from NestedForLoop import get_iterator\n",
    "from pathlib import Path\n",
    "from scipy.linalg import sqrtm\n",
    "\n",
    "import matplotlib.pyplot as plt\n",
    "from scipy.optimize import curve_fit\n",
    "\n",
    "import os\n",
    "import glob\n",
    "\n",
    "import pandas as pd\n",
    "\n",
    "from scipy.optimize import least_squares\n",
    "\n",
    "import fnmatch"
   ]
  },
  {
   "cell_type": "code",
   "execution_count": 2,
   "metadata": {},
   "outputs": [],
   "source": [
    "# Order and names in the pseudocode\n",
    "# x=(22.5,0) y=(0,-45) z=(0,0) a=(45,0)\n",
    "# Channels: 1 2 3 4 13 14 23 24\n",
    "\n",
    "## Matching the datafile name with the respective input and measurement basis\n",
    "MBasisList=['x','y','z'] #in order: D L H\n",
    "\n",
    "BasesO=['DD','DL','DH','LD','LL','LH', 'HD','HL', 'HH']"
   ]
  },
  {
   "cell_type": "code",
   "execution_count": 4,
   "metadata": {},
   "outputs": [],
   "source": [
    "### RUN IF WE WANT THE PLOT FIDELITY VS POWER ####\n",
    "working_dir=r\"C:\\Users\\LauraMartins\\Documents\\PhD\\Lab\\Code\\Tomographies\"\n",
    "os.chdir(working_dir+'\\FidvsPower\\Pulsed')\n",
    "\n",
    "folders = [i for i in glob.glob(\"StateTomography*\")]\n",
    "\n",
    "for iteracao in range(len(folders)):\n",
    "    os.chdir(working_dir+'\\FidvsPower\\Pulsed\\\\'+folders[iteracao])\n",
    "    info=open('info.txt')\n",
    "    for line in info:\n",
    "        fields = line.split()\n",
    "        #print(fields)\n",
    "        \n",
    "powers=np.array([875,803,732,650,565,485,408,330,252,174,98])\n",
    "powers2=np.array([889,823,742,661,580,500,420,340,260,179,100])"
   ]
  },
  {
   "cell_type": "code",
   "execution_count": 5,
   "metadata": {
    "scrolled": true
   },
   "outputs": [
    {
     "name": "stdout",
     "output_type": "stream",
     "text": [
      "[0.78018815 0.83549277 0.97672449 1.         0.10124171 0.10403539\n",
      " 0.10810884 0.11152305]\n",
      "Output:  DD Sum of counts normalized:  1.0\n",
      "Output:  DL Sum of counts normalized:  0.994513686263207\n",
      "Output:  DH Sum of counts normalized:  0.9952982802490369\n",
      "Output:  LD Sum of counts normalized:  0.9917253220952585\n",
      "Output:  LL Sum of counts normalized:  0.998737711591075\n",
      "Output:  LH Sum of counts normalized:  0.9934273465185378\n",
      "Output:  HD Sum of counts normalized:  0.990661153057391\n",
      "Output:  HL Sum of counts normalized:  0.9934188406137919\n",
      "Output:  HH Sum of counts normalized:  0.9978347572003662\n",
      "Fast maximum likelihood estimation: \n",
      " [[ 5.13601145e-03+4.20445691e-19j  4.00495611e-03+4.28133239e-03j\n",
      "   5.80186877e-03-9.93282382e-04j  1.13732440e-04+1.80209211e-03j]\n",
      " [ 4.00495611e-03-4.28133239e-03j  4.99959755e-01+2.80265670e-17j\n",
      "   4.93858647e-01+6.02135223e-03j  1.36106453e-03-7.90758092e-03j]\n",
      " [ 5.80186877e-03+9.93282382e-04j  4.93858647e-01-6.02135223e-03j\n",
      "   4.94097038e-01-2.74877619e-17j -6.65801630e-04-7.09683653e-03j]\n",
      " [ 1.13732440e-04-1.80209211e-03j  1.36106453e-03+7.90758092e-03j\n",
      "  -6.65801630e-04+7.09683653e-03j  8.07195343e-04-9.59250808e-19j]] \n",
      "\n",
      "[0.78018815 0.83549277 0.97672449 1.         0.10124171 0.10403539\n",
      " 0.10810884 0.11152305]\n",
      "Output:  DD Sum of counts normalized:  1.0\n",
      "Output:  DL Sum of counts normalized:  0.9953378624510627\n",
      "Output:  DH Sum of counts normalized:  0.9955351393553236\n",
      "Output:  LD Sum of counts normalized:  0.9926187975316063\n",
      "Output:  LL Sum of counts normalized:  0.993222375104161\n",
      "Output:  LH Sum of counts normalized:  0.989369774109888\n",
      "Output:  HD Sum of counts normalized:  0.9936537991311293\n",
      "Output:  HL Sum of counts normalized:  0.9924980850890909\n",
      "Output:  HH Sum of counts normalized:  0.9965315642833243\n",
      "Fast maximum likelihood estimation: \n",
      " [[ 4.82543778e-03+6.71510520e-19j  3.88916374e-03+6.16029898e-03j\n",
      "   5.42915450e-03+4.02749272e-04j -4.02684962e-05+8.57166344e-04j]\n",
      " [ 3.88916374e-03-6.16029898e-03j  5.00919217e-01-1.11017552e-16j\n",
      "   4.93407745e-01+1.18165375e-02j  8.45989990e-05-7.73100086e-03j]\n",
      " [ 5.42915450e-03-4.02749272e-04j  4.93407745e-01-1.18165375e-02j\n",
      "   4.93954251e-01+1.10641063e-16j -1.26682534e-03-7.44448921e-03j]\n",
      " [-4.02684962e-05-8.57166344e-04j  8.45989990e-05+7.73100086e-03j\n",
      "  -1.26682534e-03+7.44448921e-03j  3.01094572e-04-2.95021834e-19j]] \n",
      "\n",
      "[0.78018815 0.83549277 0.97672449 1.         0.10124171 0.10403539\n",
      " 0.10810884 0.11152305]\n",
      "Output:  DD Sum of counts normalized:  0.998135283525863\n",
      "Output:  DL Sum of counts normalized:  0.9920837246813793\n",
      "Output:  DH Sum of counts normalized:  0.9900388097339496\n",
      "Output:  LD Sum of counts normalized:  0.9920638444065493\n",
      "Output:  LL Sum of counts normalized:  0.9909256007469955\n",
      "Output:  LH Sum of counts normalized:  0.9902432872629866\n",
      "Output:  HD Sum of counts normalized:  0.9996308145093185\n",
      "Output:  HL Sum of counts normalized:  0.9916120134008869\n",
      "Output:  HH Sum of counts normalized:  1.0\n",
      "Fast maximum likelihood estimation: \n",
      " [[ 0.00189948+1.45639927e-19j -0.00175515+1.20447635e-02j\n",
      "   0.00184371-1.05092361e-02j -0.00067231+1.39695903e-03j]\n",
      " [-0.00175515-1.20447635e-02j  0.50515442+6.67056344e-18j\n",
      "  -0.4946902 +2.22393528e-03j  0.00493108+3.71329844e-03j]\n",
      " [ 0.00184371+1.05092361e-02j -0.4946902 -2.22393528e-03j\n",
      "   0.4905519 -6.99888487e-18j -0.00569062-4.46947812e-03j]\n",
      " [-0.00067231-1.39695903e-03j  0.00493108-3.71329844e-03j\n",
      "  -0.00569062+4.46947812e-03j  0.0023942 +1.82681510e-19j]] \n",
      "\n",
      "[0.78018815 0.83549277 0.97672449 1.         0.10124171 0.10403539\n",
      " 0.10810884 0.11152305]\n",
      "Output:  DD Sum of counts normalized:  0.9977337622309345\n",
      "Output:  DL Sum of counts normalized:  0.9895096911388616\n",
      "Output:  DH Sum of counts normalized:  0.9926174738448534\n",
      "Output:  LD Sum of counts normalized:  0.9837899223037065\n",
      "Output:  LL Sum of counts normalized:  0.9932177716354531\n",
      "Output:  LH Sum of counts normalized:  0.9921723000338513\n",
      "Output:  HD Sum of counts normalized:  0.9959714686523978\n",
      "Output:  HL Sum of counts normalized:  0.9966529025044781\n",
      "Output:  HH Sum of counts normalized:  1.0\n",
      "Fast maximum likelihood estimation: \n",
      " [[ 0.00214768+1.48303184e-20j  0.00498955+1.28871634e-03j\n",
      "   0.00560143-2.79750115e-03j -0.00187322-1.28686871e-03j]\n",
      " [ 0.00498955-1.28871634e-03j  0.49502916+2.06475529e-17j\n",
      "   0.49250805+2.87213630e-03j -0.00466123+1.84634955e-03j]\n",
      " [ 0.00560143+2.79750115e-03j  0.49250805-2.87213630e-03j\n",
      "   0.4997782 -2.09208651e-17j -0.00275422-3.06029788e-03j]\n",
      " [-0.00187322+1.28686871e-03j -0.00466123-1.84634955e-03j\n",
      "  -0.00275422+3.06029788e-03j  0.00304497+2.58481848e-19j]] \n",
      "\n",
      "[0.78018815 0.83549277 0.97672449 1.         0.10124171 0.10403539\n",
      " 0.10810884 0.11152305]\n",
      "Output:  DD Sum of counts normalized:  0.9971130352931411\n",
      "Output:  DL Sum of counts normalized:  0.9934823249309611\n",
      "Output:  DH Sum of counts normalized:  0.9943111726712921\n",
      "Output:  LD Sum of counts normalized:  0.9971529717932905\n",
      "Output:  LL Sum of counts normalized:  1.0\n",
      "Output:  LH Sum of counts normalized:  0.9960017040608261\n",
      "Output:  HD Sum of counts normalized:  0.996990991936939\n",
      "Output:  HL Sum of counts normalized:  0.9941759146457924\n",
      "Output:  HH Sum of counts normalized:  0.9953895520612112\n",
      "Fast maximum likelihood estimation: \n",
      " [[ 2.27302136e-03+1.94406984e-19j  6.50089434e-03+7.84388555e-05j\n",
      "   6.18250332e-03-1.48234472e-03j -1.00831015e-04-1.30008127e-03j]\n",
      " [ 6.50089434e-03-7.84388555e-05j  4.96707976e-01+1.03535363e-17j\n",
      "   4.94543216e-01-3.98078031e-03j -5.56126099e-03+1.10922043e-03j]\n",
      " [ 6.18250332e-03+1.48234472e-03j  4.94543216e-01+3.98078031e-03j\n",
      "   4.98893213e-01-1.04786502e-17j -5.51152711e-03-1.25389316e-03j]\n",
      " [-1.00831015e-04+1.30008127e-03j -5.56126099e-03-1.10922043e-03j\n",
      "  -5.51152711e-03+1.25389316e-03j  2.12578993e-03-6.92930524e-20j]] \n",
      "\n",
      "[0.78018815 0.83549277 0.97672449 1.         0.10124171 0.10403539\n",
      " 0.10810884 0.11152305]\n",
      "Output:  DD Sum of counts normalized:  1.0\n",
      "Output:  DL Sum of counts normalized:  0.993848195646062\n",
      "Output:  DH Sum of counts normalized:  0.992880875373376\n",
      "Output:  LD Sum of counts normalized:  0.9852949006199875\n",
      "Output:  LL Sum of counts normalized:  0.9881404251120449\n",
      "Output:  LH Sum of counts normalized:  0.987132418113634\n",
      "Output:  HD Sum of counts normalized:  0.9949281761032708\n",
      "Output:  HL Sum of counts normalized:  0.9918974464031662\n",
      "Output:  HH Sum of counts normalized:  0.995424737489534\n",
      "Fast maximum likelihood estimation: \n",
      " [[ 3.41569227e-03-2.06682536e-22j -1.99911452e-03-2.81004855e-03j\n",
      "  -1.57023142e-03-3.60605046e-03j  2.29228276e-04-2.93630280e-03j]\n",
      " [-1.99911452e-03+2.81004855e-03j  4.97385986e-01-4.19831668e-17j\n",
      "   4.95011877e-01+3.17034774e-03j  2.25362944e-03+2.24767388e-03j]\n",
      " [-1.57023142e-03+3.60605046e-03j  4.95011877e-01-3.17034774e-03j\n",
      "   4.96418674e-01+4.12572509e-17j  2.22211665e-03+1.39592985e-03j]\n",
      " [ 2.29228276e-04+2.93630280e-03j  2.25362944e-03-2.24767388e-03j\n",
      "   2.22211665e-03-1.39592985e-03j  2.77964697e-03+7.26122591e-19j]] \n",
      "\n",
      "[0.78018815 0.83549277 0.97672449 1.         0.10124171 0.10403539\n",
      " 0.10810884 0.11152305]\n",
      "Output:  DD Sum of counts normalized:  0.9991117789751065\n",
      "Output:  DL Sum of counts normalized:  0.9937711441674586\n",
      "Output:  DH Sum of counts normalized:  0.9936893057862602\n",
      "Output:  LD Sum of counts normalized:  0.9939369108258457\n",
      "Output:  LL Sum of counts normalized:  0.9949714257998838\n",
      "Output:  LH Sum of counts normalized:  0.9955143545652679\n",
      "Output:  HD Sum of counts normalized:  0.995236946868304\n",
      "Output:  HL Sum of counts normalized:  0.9954935966038564\n",
      "Output:  HH Sum of counts normalized:  1.0\n",
      "Fast maximum likelihood estimation: \n",
      " [[ 3.87057994e-03-9.38294700e-20j -1.64813817e-04-9.15514040e-03j\n",
      "   2.58444531e-04-1.02764938e-02j  3.18268360e-04-3.20129769e-03j]\n",
      " [-1.64813817e-04+9.15514040e-03j  4.96315272e-01-1.22968539e-16j\n",
      "   4.94858891e-01-3.09350892e-03j  3.30835431e-04+9.28472011e-03j]\n",
      " [ 2.58444531e-04+1.02764938e-02j  4.94858891e-01+3.09350892e-03j\n",
      "   4.96701871e-01+1.21952547e-16j  6.77505544e-04+8.50656656e-03j]\n",
      " [ 3.18268360e-04+3.20129769e-03j  3.30835431e-04-9.28472011e-03j\n",
      "   6.77505544e-04-8.50656656e-03j  3.11227753e-03+1.10982197e-18j]] \n",
      "\n",
      "[0.78018815 0.83549277 0.97672449 1.         0.10124171 0.10403539\n",
      " 0.10810884 0.11152305]\n",
      "Output:  DD Sum of counts normalized:  0.9983505317750512\n",
      "Output:  DL Sum of counts normalized:  0.9892508105001664\n",
      "Output:  DH Sum of counts normalized:  0.9930893969763934\n",
      "Output:  LD Sum of counts normalized:  0.9983390492522672\n",
      "Output:  LL Sum of counts normalized:  1.0\n",
      "Output:  LH Sum of counts normalized:  0.9987342332985832\n",
      "Output:  HD Sum of counts normalized:  0.9944218829685055\n",
      "Output:  HL Sum of counts normalized:  0.9916986786981307\n",
      "Output:  HH Sum of counts normalized:  0.9947881686669247\n",
      "Fast maximum likelihood estimation: \n",
      " [[ 3.93989355e-03+7.19249582e-19j  5.54894947e-03-4.81604947e-03j\n",
      "   5.65721342e-03-6.11918786e-03j  3.64716036e-04-2.71415327e-03j]\n",
      " [ 5.54894947e-03+4.81604947e-03j  4.98387870e-01+1.24318815e-16j\n",
      "   4.94616034e-01-9.13229565e-03j -4.39344211e-03+4.43210635e-03j]\n",
      " [ 5.65721342e-03+6.11918786e-03j  4.94616034e-01+9.13229565e-03j\n",
      "   4.95133517e-01-1.25930663e-16j -4.64161895e-03+4.55283179e-03j]\n",
      " [ 3.64716036e-04+2.71415327e-03j -4.39344211e-03-4.43210635e-03j\n",
      "  -4.64161895e-03-4.55283179e-03j  2.53871879e-03+8.92597798e-19j]] \n",
      "\n",
      "[0.78018815 0.83549277 0.97672449 1.         0.10124171 0.10403539\n",
      " 0.10810884 0.11152305]\n",
      "Output:  DD Sum of counts normalized:  0.9953964362542328\n",
      "Output:  DL Sum of counts normalized:  0.99349604108454\n",
      "Output:  DH Sum of counts normalized:  0.9934718493837656\n",
      "Output:  LD Sum of counts normalized:  0.9922590811992494\n",
      "Output:  LL Sum of counts normalized:  0.997459198676374\n",
      "Output:  LH Sum of counts normalized:  0.994365704571362\n",
      "Output:  HD Sum of counts normalized:  0.9987131695848004\n",
      "Output:  HL Sum of counts normalized:  0.9992555220272633\n",
      "Output:  HH Sum of counts normalized:  1.0\n",
      "Fast maximum likelihood estimation: \n",
      " [[ 3.52291579e-03-3.27901776e-19j  3.80353958e-03+2.33395700e-03j\n",
      "   4.08953367e-03+1.08839009e-03j  2.61968345e-04-2.34385757e-03j]\n",
      " [ 3.80353958e-03-2.33395700e-03j  4.97966123e-01-5.50866715e-17j\n",
      "   4.94889888e-01+1.49451466e-02j -2.18227287e-03-3.40031333e-03j]\n",
      " [ 4.08953367e-03-1.08839009e-03j  4.94889888e-01-1.49451466e-02j\n",
      "   4.96694689e-01+5.60762813e-17j -2.28583027e-03-3.63718384e-03j]\n",
      " [ 2.61968345e-04+2.34385757e-03j -2.18227287e-03+3.40031333e-03j\n",
      "  -2.28583027e-03+3.63718384e-03j  1.81627211e-03-6.61707995e-19j]] \n",
      "\n",
      "[0.78018815 0.83549277 0.97672449 1.         0.10124171 0.10403539\n",
      " 0.10810884 0.11152305]\n",
      "Output:  DD Sum of counts normalized:  1.0\n",
      "Output:  DL Sum of counts normalized:  0.995858450282009\n",
      "Output:  DH Sum of counts normalized:  0.99501115790322\n",
      "Output:  LD Sum of counts normalized:  0.9930438634676113\n",
      "Output:  LL Sum of counts normalized:  0.995965947785099\n",
      "Output:  LH Sum of counts normalized:  0.9945018414653864\n",
      "Output:  HD Sum of counts normalized:  0.995286721182076\n",
      "Output:  HL Sum of counts normalized:  0.9918618308508557\n",
      "Output:  HH Sum of counts normalized:  0.9945215821099168\n",
      "Fast maximum likelihood estimation: \n",
      " [[ 3.26841887e-03+1.05623858e-19j -3.54851542e-04+3.52868752e-03j\n",
      "   1.11738334e-04+8.98935705e-04j  2.78750005e-04-1.37650089e-03j]\n",
      " [-3.54851542e-04-3.52868752e-03j  4.99701621e-01+1.91645328e-17j\n",
      "   4.94250328e-01+1.89406517e-02j  2.17849065e-03-4.12001121e-03j]\n",
      " [ 1.11738334e-04-8.98935705e-04j  4.94250328e-01-1.89406517e-02j\n",
      "   4.95700412e-01-1.89583741e-17j  1.52825183e-03-4.16045067e-03j]\n",
      " [ 2.78750005e-04+1.37650089e-03j  2.17849065e-03+4.12001121e-03j\n",
      "   1.52825183e-03+4.16045067e-03j  1.32954904e-03-3.11782555e-19j]] \n",
      "\n",
      "[0.78018815 0.83549277 0.97672449 1.         0.10124171 0.10403539\n",
      " 0.10810884 0.11152305]\n",
      "Output:  DD Sum of counts normalized:  1.0\n",
      "Output:  DL Sum of counts normalized:  0.9890866382366497\n",
      "Output:  DH Sum of counts normalized:  0.9930962833601614\n",
      "Output:  LD Sum of counts normalized:  0.9900054047764708\n",
      "Output:  LL Sum of counts normalized:  0.9933260824707109\n",
      "Output:  LH Sum of counts normalized:  0.9927769908038641\n",
      "Output:  HD Sum of counts normalized:  0.9928675679173048\n",
      "Output:  HL Sum of counts normalized:  0.9937921393583817\n",
      "Output:  HH Sum of counts normalized:  0.9982238263940096\n",
      "Fast maximum likelihood estimation: \n",
      " [[ 2.50084259e-03+4.45234082e-19j  9.67860931e-04+7.79131479e-03j\n",
      "   1.60115694e-03+6.18834609e-03j  4.43456234e-04-1.67790974e-03j]\n",
      " [ 9.67860931e-04-7.79131479e-03j  5.00624613e-01+1.45850370e-16j\n",
      "   4.94224683e-01-3.09130911e-03j -8.68037854e-04-7.45809092e-03j]\n",
      " [ 1.60115694e-03-6.18834609e-03j  4.94224683e-01+3.09130911e-03j\n",
      "   4.94153077e-01-1.45315806e-16j -2.10120728e-03-6.36567107e-03j]\n",
      " [ 4.43456234e-04+1.67790974e-03j -8.68037854e-04+7.45809092e-03j\n",
      "  -2.10120728e-03+6.36567107e-03j  2.72146776e-03-9.79797973e-19j]] \n",
      "\n"
     ]
    }
   ],
   "source": [
    "#working_dir=r\"C:\\Users\\LauraMartins\\Documents\\PhD\\Lab\\Code\\Tomographies\"\n",
    "os.chdir(working_dir+'\\Estabilidade')\n",
    "\n",
    "folders = [i for i in glob.glob(\"StateTomography*\")]\n",
    "\n",
    "for iteracao in range(len(folders)):\n",
    "    os.chdir(working_dir+'\\Estabilidade\\\\'+folders[iteracao]+'\\\\StateTomo')\n",
    "    \n",
    "    filenames = [i for i in glob.glob(\"Bigiteration_0_*\")]\n",
    "\n",
    "    mbasis_number=6\n",
    "\n",
    "    qubit_number=2\n",
    "    numberofchannels=8\n",
    "    counts=np.zeros((numberofchannels,3**qubit_number), dtype=int)\n",
    "    counts_aux=np.zeros((2**qubit_number,3**qubit_number), dtype=float)\n",
    "    heralding_single=np.zeros((3**qubit_number), dtype=int)\n",
    "    sigma_counts=np.zeros((2**qubit_number,3**qubit_number), dtype=float)\n",
    "    xp_counts=np.zeros((3**qubit_number,2**qubit_number), dtype=int)\n",
    "    dirinv=np.zeros((len(folders), 2**qubit_number, 2**qubit_number), dtype=complex)\n",
    "    efficiencies=np.zeros(8, dtype=float)\n",
    "    expectations=np.zeros(3, dtype=float)\n",
    "\n",
    "\n",
    "    qubit_number=2\n",
    "\n",
    "    Pauli=np.asarray([\n",
    "        [[1,0],\n",
    "        [0,1]],\n",
    "\n",
    "\n",
    "        [[0,1],\n",
    "        [1,0]],\n",
    "\n",
    "\n",
    "        [[0,-1j],\n",
    "        [1j,0]],\n",
    "\n",
    "\n",
    "        [[1,0],\n",
    "        [0,-1]]])\n",
    "\n",
    "    def FindingFile(containing, filenames):\n",
    "        for file in filenames:\n",
    "             if fnmatch.fnmatch(file, 'Bigiteration_0_'+containing+'_*'):\n",
    "                return file\n",
    "        print('No file containing: Bigiteration_0_', containing, '...')\n",
    "        pass\n",
    "\n",
    "    ### State tomography ###\n",
    "    ##Calculating the efficiencies of each detector\n",
    "    eff=np.array(['zz', 'za', 'az', 'aa'])\n",
    "    for w in range(4):\n",
    "        file=FindingFile(eff[w], filenames)\n",
    "        with open(file) as file: \n",
    "            for line in file:\n",
    "                fields = line.split()\n",
    "                for iter in range (len(fields)-7):\n",
    "                    efficiencies[iter]+=float(fields[iter])\n",
    "        #print('Base, counts', w, fields)\n",
    "\n",
    "        ######## Simulated counts using Simon's tomography functions ##########\n",
    "        ### data is saved as \"Bigiteration_0_xy\" with x(y) being the measurement(input) basis\n",
    "        ## H is channels 2 and 3\n",
    "    bases=np.array(['xx', 'xy', 'xz', 'yx', 'yy', 'yz', 'zx', 'zy', 'zz'])#, ## order: D, L, H\n",
    "    \n",
    "for iteracao in range(len(folders)):\n",
    "    os.chdir(working_dir+'\\Estabilidade\\\\'+folders[iteracao]+'\\\\StateTomo')\n",
    "    filenames = [i for i in glob.glob(\"Bigiteration_0_*\")]\n",
    "    \n",
    "    for w in range(3**qubit_number):\n",
    "        file=FindingFile(bases[w], filenames)\n",
    "        with open(file) as file: \n",
    "            for line in file:\n",
    "                fields = line.split()\n",
    "                for iter in range (len(fields)-7):\n",
    "                    # In counts[a][b][c][d], 'a' corresponds to the channel (in order): 1 2 3 4 13 14 23 24 (defined in pseudo)\n",
    "                    counts[iter][w]=fields[iter]\n",
    "\n",
    "        counts_aux[0][w]=counts[-2][w]\n",
    "        counts_aux[1][w]=counts[-1][w]\n",
    "        counts_aux[2][w]=counts[-4][w]\n",
    "        counts_aux[3][w]=counts[-3][w]\n",
    "\n",
    "    ### Normalizing the counts with the detectors efficiencies ###\n",
    "    efficiencies=efficiencies/np.max(efficiencies)\n",
    "    print(efficiencies)\n",
    "    aux=0\n",
    "    for w in range(3**qubit_number):\n",
    "        #heralding_single[w]=heralding_single[w]/efficiencies[3]\n",
    "        counts_aux[0][w]=counts_aux[0][w]/float(efficiencies[-2])#*heralding_single[w]*1e-6)\n",
    "        counts_aux[1][w]=counts_aux[1][w]/float(efficiencies[-1])#*heralding_single[w]*1e-6)\n",
    "        counts_aux[2][w]=counts_aux[2][w]/float(efficiencies[-4])#*heralding_single[w]*1e-6)\n",
    "        counts_aux[3][w]=counts_aux[3][w]/float(efficiencies[-3])#*heralding_single[w]*1e-6)\n",
    "\n",
    "        if w==0: ## XX expectation value\n",
    "            expectations[0]=(counts_aux[0][w]+counts_aux[3][w]-counts_aux[1][w]-counts_aux[2][w])/(counts_aux[0][w]+counts_aux[1][w]+counts_aux[2][w]+counts_aux[3][w])\n",
    "\n",
    "        if w==4: ## YY expectation value\n",
    "            expectations[1]=(counts_aux[0][w]+counts_aux[3][w]-counts_aux[1][w]-counts_aux[2][w])/(counts_aux[0][w]+counts_aux[1][w]+counts_aux[2][w]+counts_aux[3][w])\n",
    "\n",
    "        if w==8: ## ZZ expectation value\n",
    "            expectations[2]=(counts_aux[1][w]+counts_aux[2][w]-counts_aux[0][w]-counts_aux[3][w])/(counts_aux[0][w]+counts_aux[1][w]+counts_aux[2][w]+counts_aux[3][w])\n",
    "\n",
    "        if (aux<(counts_aux[0][w]+counts_aux[1][w]+counts_aux[2][w]+counts_aux[3][w])):\n",
    "            aux=(counts_aux[0][w]+counts_aux[1][w]+counts_aux[2][w]+counts_aux[3][w])\n",
    "\n",
    "    for w in range(3**qubit_number):\n",
    "        print('Output: ', BasesO[w], 'Sum of counts normalized: ', (counts_aux[0][w]+counts_aux[1][w]+counts_aux[2][w]+counts_aux[3][w])/aux)\n",
    "\n",
    "    xp_counts[:][:]=np.array(np.transpose(counts_aux[:][:])) # get the experimental counts\n",
    "    ### Here we are turning real numbers into integers, I don't know if that is ok\n",
    "\n",
    "    statetomo=LRETomography(int(qubit_number), xp_counts[:][:], working_dir)\n",
    "    statetomo.run() ### Runs fast maximum likelihood estimation\n",
    "    statetomo.quantum_state.get_density_matrix()\n",
    "    dirinv[iteracao]=statetomo.quantum_state.get_density_matrix()\n",
    "    print('Fast maximum likelihood estimation: \\n', dirinv[iteracao], '\\n')"
   ]
  },
  {
   "cell_type": "code",
   "execution_count": 6,
   "metadata": {},
   "outputs": [
    {
     "data": {
      "text/plain": [
       "['StateTomography202205241843AfterChannel',\n",
       " 'StateTomography202205242247AfterChannel',\n",
       " 'StateTomography202205251816AfterChannel',\n",
       " 'StateTomography202205261141AfterChannel',\n",
       " 'StateTomography202205261508AfterChannel',\n",
       " 'StateTomography202205261814AfterChannel',\n",
       " 'StateTomography202205262046AfterChannel',\n",
       " 'StateTomography202205271336AfterChannel',\n",
       " 'StateTomography202205271614AfterChannel',\n",
       " 'StateTomography202205271855AfterChannel',\n",
       " 'StateTomography202205280818AfterChannel']"
      ]
     },
     "execution_count": 6,
     "metadata": {},
     "output_type": "execute_result"
    }
   ],
   "source": [
    "folders"
   ]
  },
  {
   "cell_type": "code",
   "execution_count": 7,
   "metadata": {},
   "outputs": [],
   "source": [
    "tempo=np.array([0, 4.07, 23.4, 40.9, 44.4, 47.2, 49.7, 56.5, 59.2, 61.8, 75.3])"
   ]
  },
  {
   "cell_type": "code",
   "execution_count": 8,
   "metadata": {},
   "outputs": [
    {
     "name": "stdout",
     "output_type": "stream",
     "text": [
      "Fidelity is:  0.9936851108539182\n"
     ]
    }
   ],
   "source": [
    "### Fidelity with expectation values\n",
    "print(\"Fidelity is: \", (1+np.sum(np.abs(expectations)))/4)"
   ]
  },
  {
   "cell_type": "code",
   "execution_count": 8,
   "metadata": {},
   "outputs": [
    {
     "name": "stdout",
     "output_type": "stream",
     "text": [
      "[0.99088704 0.99084448 0.00316296 0.98991173 0.99234381 0.99191421\n",
      " 0.99136746 0.99137673 0.99222029 0.99195134 0.99161353]\n"
     ]
    }
   ],
   "source": [
    "def fidelity(ideal, real):\n",
    "    return (ideal@real@np.transpose(np.conjugate(ideal)))\n",
    "\n",
    "#bell=(np.array([1,0,0,0])+np.array([0,0,0,1]))/np.sqrt(2)\n",
    "#bell=(np.array([1,0,0,0])-np.array([0,0,0,1]))/np.sqrt(2)\n",
    "bell=(np.array([0,1,0,0])+np.array([0,0,1,0]))/np.sqrt(2)\n",
    "#bell=(np.array([0,1,0,0])-np.array([0,0,1,0]))/np.sqrt(2)\n",
    "#bellmatrix=np.array(np.outer(bell, np.conjugate(bell)))\n",
    "\n",
    "fidelity_plot=np.zeros(len(tempo))\n",
    "for i in range(len(folders)):\n",
    "    fidelity_plot[i]=np.real(fidelity(bell, dirinv[i]))\n",
    "print(fidelity_plot)"
   ]
  },
  {
   "cell_type": "code",
   "execution_count": 9,
   "metadata": {},
   "outputs": [
    {
     "data": {
      "text/plain": [
       "(0.988, 0.995)"
      ]
     },
     "execution_count": 9,
     "metadata": {},
     "output_type": "execute_result"
    },
    {
     "data": {
      "image/png": "[encoded data removed]",
      "text/plain": [
       "<Figure size 432x288 with 1 Axes>"
      ]
     },
     "metadata": {
      "needs_background": "light"
     },
     "output_type": "display_data"
    }
   ],
   "source": [
    "plt.errorbar(tempo, fidelity_plot, fmt='o')\n",
    "plt.xlabel(\"time (hours)\")\n",
    "plt.ylabel(\"Fidelity\")\n",
    "plt.ylim((0.988,0.995))\n",
    "#plt.savefig('PF.png')"
   ]
  },
  {
   "cell_type": "code",
   "execution_count": 14,
   "metadata": {
    "scrolled": false
   },
   "outputs": [
    {
     "ename": "ValueError",
     "evalue": "The truth value of an array with more than one element is ambiguous. Use a.any() or a.all()",
     "output_type": "error",
     "traceback": [
      "\u001b[1;31m---------------------------------------------------------------------------\u001b[0m",
      "\u001b[1;31mValueError\u001b[0m                                Traceback (most recent call last)",
      "\u001b[1;32mC:\\Users\\LAURAM~1\\AppData\\Local\\Temp/ipykernel_8028/1680662536.py\u001b[0m in \u001b[0;36m<module>\u001b[1;34m\u001b[0m\n\u001b[0;32m     15\u001b[0m \u001b[0mmonitor\u001b[0m \u001b[1;33m=\u001b[0m \u001b[0mVerboseMonitor\u001b[0m\u001b[1;33m(\u001b[0m\u001b[1;36m50\u001b[0m\u001b[1;33m)\u001b[0m\u001b[1;33m\u001b[0m\u001b[1;33m\u001b[0m\u001b[0m\n\u001b[0;32m     16\u001b[0m \u001b[0mnpop\u001b[0m \u001b[1;33m=\u001b[0m \u001b[1;36m50\u001b[0m\u001b[1;33m\u001b[0m\u001b[1;33m\u001b[0m\u001b[0m\n\u001b[1;32m---> 17\u001b[1;33m \u001b[0mresult_w\u001b[0m\u001b[1;33m=\u001b[0m\u001b[0mdiffev2\u001b[0m\u001b[1;33m(\u001b[0m\u001b[0mfUnitary\u001b[0m\u001b[1;33m,\u001b[0m \u001b[0mx0\u001b[0m\u001b[1;33m=\u001b[0m\u001b[0mnp\u001b[0m\u001b[1;33m.\u001b[0m\u001b[0marray\u001b[0m\u001b[1;33m(\u001b[0m\u001b[1;33m[\u001b[0m\u001b[1;36m0\u001b[0m\u001b[1;33m,\u001b[0m \u001b[1;36m0.4\u001b[0m\u001b[1;33m,\u001b[0m \u001b[1;36m0\u001b[0m\u001b[1;33m,\u001b[0m \u001b[1;36m0\u001b[0m\u001b[1;33m,\u001b[0m \u001b[1;36m0.3\u001b[0m\u001b[1;33m,\u001b[0m \u001b[1;36m1.5\u001b[0m\u001b[1;33m]\u001b[0m\u001b[1;33m)\u001b[0m\u001b[1;33m,\u001b[0m \u001b[0margs\u001b[0m\u001b[1;33m=\u001b[0m\u001b[0mdirinv\u001b[0m\u001b[1;33m[\u001b[0m\u001b[1;36m0\u001b[0m\u001b[1;33m]\u001b[0m\u001b[1;33m,\u001b[0m \u001b[0mstrategy\u001b[0m\u001b[1;33m=\u001b[0m\u001b[0mBest1Bin\u001b[0m\u001b[1;33m,\u001b[0m \u001b[0mbounds\u001b[0m\u001b[1;33m=\u001b[0m\u001b[1;33m[\u001b[0m\u001b[1;33m(\u001b[0m\u001b[1;33m-\u001b[0m\u001b[0mnp\u001b[0m\u001b[1;33m.\u001b[0m\u001b[0mpi\u001b[0m\u001b[1;33m,\u001b[0m\u001b[0mnp\u001b[0m\u001b[1;33m.\u001b[0m\u001b[0mpi\u001b[0m\u001b[1;33m)\u001b[0m\u001b[1;33m]\u001b[0m\u001b[1;33m*\u001b[0m\u001b[1;36m6\u001b[0m\u001b[1;33m,\u001b[0m \u001b[0mnpop\u001b[0m\u001b[1;33m=\u001b[0m\u001b[0mnpop\u001b[0m\u001b[1;33m,\u001b[0m \u001b[0mgtol\u001b[0m\u001b[1;33m=\u001b[0m\u001b[1;36m100\u001b[0m\u001b[1;33m,\u001b[0m \u001b[0mdisp\u001b[0m\u001b[1;33m=\u001b[0m\u001b[1;32mTrue\u001b[0m\u001b[1;33m,\u001b[0m \u001b[0mftol\u001b[0m\u001b[1;33m=\u001b[0m\u001b[1;36m1e-20\u001b[0m\u001b[1;33m,\u001b[0m \u001b[0mitermon\u001b[0m\u001b[1;33m=\u001b[0m\u001b[0mmonitor\u001b[0m\u001b[1;33m,\u001b[0m \u001b[0mhandler\u001b[0m\u001b[1;33m=\u001b[0m\u001b[1;32mFalse\u001b[0m\u001b[1;33m)\u001b[0m\u001b[1;33m\u001b[0m\u001b[1;33m\u001b[0m\u001b[0m\n\u001b[0m\u001b[0;32m     18\u001b[0m \u001b[0mprint\u001b[0m\u001b[1;33m(\u001b[0m\u001b[1;34m'\\n The parameters are: '\u001b[0m\u001b[1;33m,\u001b[0m \u001b[0mresult_w\u001b[0m\u001b[1;33m)\u001b[0m\u001b[1;33m\u001b[0m\u001b[1;33m\u001b[0m\u001b[0m\n\u001b[0;32m     19\u001b[0m \u001b[1;31m#print('\\n The closest unitary to our process matrix is: \\n', GeneralUnitary(result_w))\u001b[0m\u001b[1;33m\u001b[0m\u001b[1;33m\u001b[0m\u001b[1;33m\u001b[0m\u001b[0m\n",
      "\u001b[1;32m~\\anaconda3\\envs\\tomography\\lib\\site-packages\\mystic\\differential_evolution.py\u001b[0m in \u001b[0;36mdiffev2\u001b[1;34m(cost, x0, npop, args, bounds, ftol, gtol, maxiter, maxfun, cross, scale, full_output, disp, retall, callback, **kwds)\u001b[0m\n\u001b[0;32m    605\u001b[0m     \u001b[0minvariant_current\u001b[0m \u001b[1;33m=\u001b[0m \u001b[0mkwds\u001b[0m\u001b[1;33m[\u001b[0m\u001b[1;34m'invariant_current'\u001b[0m\u001b[1;33m]\u001b[0m \u001b[1;32mif\u001b[0m \u001b[1;34m'invariant_current'\u001b[0m \u001b[1;32min\u001b[0m \u001b[0mkwds\u001b[0m \u001b[1;32melse\u001b[0m \u001b[1;32mTrue\u001b[0m\u001b[1;33m\u001b[0m\u001b[1;33m\u001b[0m\u001b[0m\n\u001b[0;32m    606\u001b[0m     \u001b[0mkwds\u001b[0m\u001b[1;33m[\u001b[0m\u001b[1;34m'invariant_current'\u001b[0m\u001b[1;33m]\u001b[0m \u001b[1;33m=\u001b[0m \u001b[0minvariant_current\u001b[0m\u001b[1;33m\u001b[0m\u001b[1;33m\u001b[0m\u001b[0m\n\u001b[1;32m--> 607\u001b[1;33m     return diffev(cost,x0,npop,args=args,bounds=bounds,ftol=ftol,gtol=gtol,\n\u001b[0m\u001b[0;32m    608\u001b[0m                   \u001b[0mmaxiter\u001b[0m\u001b[1;33m=\u001b[0m\u001b[0mmaxiter\u001b[0m\u001b[1;33m,\u001b[0m\u001b[0mmaxfun\u001b[0m\u001b[1;33m=\u001b[0m\u001b[0mmaxfun\u001b[0m\u001b[1;33m,\u001b[0m\u001b[0mcross\u001b[0m\u001b[1;33m=\u001b[0m\u001b[0mcross\u001b[0m\u001b[1;33m,\u001b[0m\u001b[0mscale\u001b[0m\u001b[1;33m=\u001b[0m\u001b[0mscale\u001b[0m\u001b[1;33m,\u001b[0m\u001b[1;33m\u001b[0m\u001b[1;33m\u001b[0m\u001b[0m\n\u001b[0;32m    609\u001b[0m                   \u001b[0mfull_output\u001b[0m\u001b[1;33m=\u001b[0m\u001b[0mfull_output\u001b[0m\u001b[1;33m,\u001b[0m\u001b[0mdisp\u001b[0m\u001b[1;33m=\u001b[0m\u001b[0mdisp\u001b[0m\u001b[1;33m,\u001b[0m\u001b[0mretall\u001b[0m\u001b[1;33m=\u001b[0m\u001b[0mretall\u001b[0m\u001b[1;33m,\u001b[0m\u001b[1;33m\u001b[0m\u001b[1;33m\u001b[0m\u001b[0m\n",
      "\u001b[1;32m~\\anaconda3\\envs\\tomography\\lib\\site-packages\\mystic\\differential_evolution.py\u001b[0m in \u001b[0;36mdiffev\u001b[1;34m(cost, x0, npop, args, bounds, ftol, gtol, maxiter, maxfun, cross, scale, full_output, disp, retall, callback, **kwds)\u001b[0m\n\u001b[0;32m    708\u001b[0m     \u001b[1;32mif\u001b[0m \u001b[0mhandler\u001b[0m\u001b[1;33m:\u001b[0m \u001b[0msolver\u001b[0m\u001b[1;33m.\u001b[0m\u001b[0menable_signal_handler\u001b[0m\u001b[1;33m(\u001b[0m\u001b[1;33m)\u001b[0m\u001b[1;33m\u001b[0m\u001b[1;33m\u001b[0m\u001b[0m\n\u001b[0;32m    709\u001b[0m     \u001b[1;31m#TODO: allow sigint_callbacks for all minimal interfaces ?\u001b[0m\u001b[1;33m\u001b[0m\u001b[1;33m\u001b[0m\u001b[1;33m\u001b[0m\u001b[0m\n\u001b[1;32m--> 710\u001b[1;33m     solver.Solve(cost, termination=termination, strategy=strategy, \\\n\u001b[0m\u001b[0;32m    711\u001b[0m                 \u001b[1;31m#sigint_callback=other_callback,\\\u001b[0m\u001b[1;33m\u001b[0m\u001b[1;33m\u001b[0m\u001b[1;33m\u001b[0m\u001b[0m\n\u001b[0;32m    712\u001b[0m                  \u001b[0mCrossProbability\u001b[0m\u001b[1;33m=\u001b[0m\u001b[0mcross\u001b[0m\u001b[1;33m,\u001b[0m \u001b[0mScalingFactor\u001b[0m\u001b[1;33m=\u001b[0m\u001b[0mscale\u001b[0m\u001b[1;33m,\u001b[0m\u001b[0;31m \u001b[0m\u001b[0;31m\\\u001b[0m\u001b[1;33m\u001b[0m\u001b[1;33m\u001b[0m\u001b[0m\n",
      "\u001b[1;32m~\\anaconda3\\envs\\tomography\\lib\\site-packages\\mystic\\differential_evolution.py\u001b[0m in \u001b[0;36mSolve\u001b[1;34m(self, cost, termination, ExtraArgs, **kwds)\u001b[0m\n\u001b[0;32m    544\u001b[0m     \u001b[1;32mNone\u001b[0m\u001b[1;33m\u001b[0m\u001b[1;33m\u001b[0m\u001b[0m\n\u001b[0;32m    545\u001b[0m         \"\"\"\n\u001b[1;32m--> 546\u001b[1;33m         super(DifferentialEvolutionSolver2, self).Solve(cost, termination,\\\n\u001b[0m\u001b[0;32m    547\u001b[0m                                                         ExtraArgs, **kwds)\n\u001b[0;32m    548\u001b[0m         \u001b[1;32mreturn\u001b[0m\u001b[1;33m\u001b[0m\u001b[1;33m\u001b[0m\u001b[0m\n",
      "\u001b[1;32m~\\anaconda3\\envs\\tomography\\lib\\site-packages\\mystic\\abstract_solver.py\u001b[0m in \u001b[0;36mSolve\u001b[1;34m(self, cost, termination, ExtraArgs, **kwds)\u001b[0m\n\u001b[0;32m    935\u001b[0m \u001b[1;33m\u001b[0m\u001b[0m\n\u001b[0;32m    936\u001b[0m         \u001b[1;31m# run the optimizer to termination\u001b[0m\u001b[1;33m\u001b[0m\u001b[1;33m\u001b[0m\u001b[1;33m\u001b[0m\u001b[0m\n\u001b[1;32m--> 937\u001b[1;33m         \u001b[0mself\u001b[0m\u001b[1;33m.\u001b[0m\u001b[0m_Solve\u001b[0m\u001b[1;33m(\u001b[0m\u001b[0mcost\u001b[0m\u001b[1;33m,\u001b[0m \u001b[0mExtraArgs\u001b[0m\u001b[1;33m,\u001b[0m \u001b[1;33m**\u001b[0m\u001b[0msettings\u001b[0m\u001b[1;33m)\u001b[0m\u001b[1;33m\u001b[0m\u001b[1;33m\u001b[0m\u001b[0m\n\u001b[0m\u001b[0;32m    938\u001b[0m \u001b[1;33m\u001b[0m\u001b[0m\n\u001b[0;32m    939\u001b[0m         \u001b[1;31m# restore default handler for signal interrupts\u001b[0m\u001b[1;33m\u001b[0m\u001b[1;33m\u001b[0m\u001b[1;33m\u001b[0m\u001b[0m\n",
      "\u001b[1;32m~\\anaconda3\\envs\\tomography\\lib\\site-packages\\mystic\\abstract_solver.py\u001b[0m in \u001b[0;36m_Solve\u001b[1;34m(self, cost, ExtraArgs, **settings)\u001b[0m\n\u001b[0;32m    878\u001b[0m         \u001b[0mstop\u001b[0m \u001b[1;33m=\u001b[0m \u001b[1;32mFalse\u001b[0m\u001b[1;33m\u001b[0m\u001b[1;33m\u001b[0m\u001b[0m\n\u001b[0;32m    879\u001b[0m         \u001b[1;32mwhile\u001b[0m \u001b[1;32mnot\u001b[0m \u001b[0mstop\u001b[0m\u001b[1;33m:\u001b[0m\u001b[1;33m\u001b[0m\u001b[1;33m\u001b[0m\u001b[0m\n\u001b[1;32m--> 880\u001b[1;33m             \u001b[0mstop\u001b[0m \u001b[1;33m=\u001b[0m \u001b[0mself\u001b[0m\u001b[1;33m.\u001b[0m\u001b[0mStep\u001b[0m\u001b[1;33m(\u001b[0m\u001b[1;33m**\u001b[0m\u001b[0msettings\u001b[0m\u001b[1;33m)\u001b[0m \u001b[1;31m#XXX: remove need to pass settings?\u001b[0m\u001b[1;33m\u001b[0m\u001b[1;33m\u001b[0m\u001b[0m\n\u001b[0m\u001b[0;32m    881\u001b[0m             \u001b[1;32mcontinue\u001b[0m\u001b[1;33m\u001b[0m\u001b[1;33m\u001b[0m\u001b[0m\n\u001b[0;32m    882\u001b[0m \u001b[1;33m\u001b[0m\u001b[0m\n",
      "\u001b[1;32m~\\anaconda3\\envs\\tomography\\lib\\site-packages\\mystic\\abstract_solver.py\u001b[0m in \u001b[0;36mStep\u001b[1;34m(self, cost, termination, ExtraArgs, **kwds)\u001b[0m\n\u001b[0;32m    851\u001b[0m         \u001b[1;31m# if not terminated, then take a step\u001b[0m\u001b[1;33m\u001b[0m\u001b[1;33m\u001b[0m\u001b[1;33m\u001b[0m\u001b[0m\n\u001b[0;32m    852\u001b[0m         \u001b[1;32mif\u001b[0m \u001b[0mmsg\u001b[0m \u001b[1;32mis\u001b[0m \u001b[1;32mNone\u001b[0m\u001b[1;33m:\u001b[0m\u001b[1;33m\u001b[0m\u001b[1;33m\u001b[0m\u001b[0m\n\u001b[1;32m--> 853\u001b[1;33m             \u001b[0mself\u001b[0m\u001b[1;33m.\u001b[0m\u001b[0m_Step\u001b[0m\u001b[1;33m(\u001b[0m\u001b[1;33m**\u001b[0m\u001b[0mkwds\u001b[0m\u001b[1;33m)\u001b[0m \u001b[1;31m#FIXME: not all kwds are given in __doc__\u001b[0m\u001b[1;33m\u001b[0m\u001b[1;33m\u001b[0m\u001b[0m\n\u001b[0m\u001b[0;32m    854\u001b[0m             \u001b[1;32mif\u001b[0m \u001b[0mself\u001b[0m\u001b[1;33m.\u001b[0m\u001b[0mTerminated\u001b[0m\u001b[1;33m(\u001b[0m\u001b[1;33m)\u001b[0m\u001b[1;33m:\u001b[0m \u001b[1;31m# then cleanup/finalize\u001b[0m\u001b[1;33m\u001b[0m\u001b[1;33m\u001b[0m\u001b[0m\n\u001b[0;32m    855\u001b[0m                 \u001b[0mself\u001b[0m\u001b[1;33m.\u001b[0m\u001b[0mFinalize\u001b[0m\u001b[1;33m(\u001b[0m\u001b[1;33m)\u001b[0m\u001b[1;33m\u001b[0m\u001b[1;33m\u001b[0m\u001b[0m\n",
      "\u001b[1;32m~\\anaconda3\\envs\\tomography\\lib\\site-packages\\mystic\\differential_evolution.py\u001b[0m in \u001b[0;36m_Step\u001b[1;34m(self, cost, ExtraArgs, **kwds)\u001b[0m\n\u001b[0;32m    476\u001b[0m \u001b[1;33m\u001b[0m\u001b[0m\n\u001b[0;32m    477\u001b[0m         \u001b[1;32mfor\u001b[0m \u001b[0mcandidate\u001b[0m \u001b[1;32min\u001b[0m \u001b[0mrange\u001b[0m\u001b[1;33m(\u001b[0m\u001b[0mself\u001b[0m\u001b[1;33m.\u001b[0m\u001b[0mnPop\u001b[0m\u001b[1;33m)\u001b[0m\u001b[1;33m:\u001b[0m\u001b[1;33m\u001b[0m\u001b[1;33m\u001b[0m\u001b[0m\n\u001b[1;32m--> 478\u001b[1;33m             \u001b[1;32mif\u001b[0m \u001b[0mtrialEnergy\u001b[0m\u001b[1;33m[\u001b[0m\u001b[0mcandidate\u001b[0m\u001b[1;33m]\u001b[0m \u001b[1;33m<\u001b[0m \u001b[0mself\u001b[0m\u001b[1;33m.\u001b[0m\u001b[0mpopEnergy\u001b[0m\u001b[1;33m[\u001b[0m\u001b[0mcandidate\u001b[0m\u001b[1;33m]\u001b[0m\u001b[1;33m:\u001b[0m\u001b[1;33m\u001b[0m\u001b[1;33m\u001b[0m\u001b[0m\n\u001b[0m\u001b[0;32m    479\u001b[0m                 \u001b[1;31m# New low for this candidate\u001b[0m\u001b[1;33m\u001b[0m\u001b[1;33m\u001b[0m\u001b[1;33m\u001b[0m\u001b[0m\n\u001b[0;32m    480\u001b[0m                 \u001b[0mself\u001b[0m\u001b[1;33m.\u001b[0m\u001b[0mpopEnergy\u001b[0m\u001b[1;33m[\u001b[0m\u001b[0mcandidate\u001b[0m\u001b[1;33m]\u001b[0m \u001b[1;33m=\u001b[0m \u001b[0mtrialEnergy\u001b[0m\u001b[1;33m[\u001b[0m\u001b[0mcandidate\u001b[0m\u001b[1;33m]\u001b[0m\u001b[1;33m\u001b[0m\u001b[1;33m\u001b[0m\u001b[0m\n",
      "\u001b[1;31mValueError\u001b[0m: The truth value of an array with more than one element is ambiguous. Use a.any() or a.all()"
     ]
    }
   ],
   "source": [
    "#bell=(np.array([1,0,0,0])+np.array([0,0,0,1]))/np.sqrt(2)\n",
    "#bellmatrix=np.array(np.outer(bell, np.conjugate(bell)))\n",
    "\n",
    "def ApplyUnitaryToBell(U, dm):\n",
    "    return U@dm@np.transpose(np.conjugate(U))\n",
    "\n",
    "def GeneralUnitary(x):\n",
    "    return np.array([[np.exp(1j*x[0])*np.cos(x[2]), np.exp(1j*x[1])*np.sin(x[2])],[-np.exp(-1j*x[1])*np.sin(x[2]), np.exp(-1j*x[0])*np.cos(x[2])]])\n",
    "\n",
    "def fUnitary(x, *args):\n",
    "    U1=GeneralUnitary(x[:3])\n",
    "    U2=GeneralUnitary(x[3:])\n",
    "    return -np.abs(fidelity(bell, ApplyUnitaryToBell(np.kron(U1,U2), dirinv)))\n",
    "\n",
    "monitor = VerboseMonitor(50)\n",
    "npop = 50\n",
    "result_w=diffev2(fUnitary, x0=np.array([0, 0.4, 0, 0, 0.3, 1.5]), args=dirinv, strategy=Best1Bin, bounds=[(-np.pi,np.pi)]*6, npop=npop, gtol=100, disp=True, ftol=1e-20, itermon=monitor, handler=False)\n",
    "print('\\n The parameters are: ', result_w)\n",
    "#print('\\n The closest unitary to our process matrix is: \\n', GeneralUnitary(result_w))\n",
    "print('\\n with a fidelity of: ', -fUnitary(result_w, bellmatrix))"
   ]
  },
  {
   "cell_type": "code",
   "execution_count": 135,
   "metadata": {},
   "outputs": [
    {
     "name": "stdout",
     "output_type": "stream",
     "text": [
      "Unitaries: \n",
      " U1= [[ 0.93755127+0.25304569j  0.20156509+0.12781632j]\n",
      " [-0.20156509+0.12781632j  0.93755127-0.25304569j]] \n",
      " U2= [[ 0.73910397+0.63613187j  0.18719392+0.11840605j]\n",
      " [-0.18719392+0.11840605j  0.73910397-0.63613187j]]\n",
      "\n",
      " State after unitaries: \n",
      " [[ 4.94063586e-01+0.00000000e+00j -9.68156924e-04-1.69672726e-03j\n",
      "  -1.21436453e-03+2.37097056e-03j  4.95858766e-01+2.84823255e-09j]\n",
      " [-9.68156924e-04+1.69672726e-03j  7.30117283e-04+5.36680075e-18j\n",
      "  -2.16124986e-05+9.30050476e-04j -2.81807682e-03+6.30625725e-04j]\n",
      " [-1.21436453e-03-2.37097056e-03j -2.16124986e-05-9.30050476e-04j\n",
      "   1.23492046e-03+5.20417043e-18j -2.57185010e-03+4.36393805e-05j]\n",
      " [ 4.95858766e-01-2.84823255e-09j -2.81807682e-03-6.30625725e-04j\n",
      "  -2.57185010e-03-4.36393805e-05j  5.03971377e-01-4.85722573e-17j]]\n"
     ]
    }
   ],
   "source": [
    "Unit1=GeneralUnitary(result_w[:3])\n",
    "Unit2=GeneralUnitary(result_w[3:])\n",
    "print('Unitaries: \\n U1=', Unit1, '\\n U2=', Unit2)\n",
    "Optimized_matrix=ApplyUnitaryToBell(np.kron(Unit1,Unit2), dirinv)\n",
    "print('\\n State after unitaries: \\n', Optimized_matrix)"
   ]
  },
  {
   "cell_type": "code",
   "execution_count": 205,
   "metadata": {},
   "outputs": [],
   "source": [
    "def WP_rotation(t, n):\n",
    "    R=np.exp(-1j*n/2)*np.array([[np.cos(t)**2+np.exp(1j*n)*np.sin(t)**2,(1-np.exp(1j*n))*np.cos(t)*np.sin(t)],\n",
    "                                    (1-np.exp(1j*n))*np.cos(t)*np.sin(t),np.sin(t)**2+np.exp(1j*n)*np.cos(t)**2])\n",
    "    return(R)"
   ]
  },
  {
   "cell_type": "code",
   "execution_count": 207,
   "metadata": {},
   "outputs": [],
   "source": []
  },
  {
   "cell_type": "code",
   "execution_count": null,
   "metadata": {},
   "outputs": [],
   "source": [
    "### HWP angles of photon 1\n",
    "HWP1=np.transpose(np.array([[np.pi/8,np.pi/8,np.pi/8,0,0,0,0,0,0],\n",
    "[np.pi/8,np.pi/8,np.pi/8,0,0,0,0,0,0],\n",
    "[-np.pi/8,-np.pi/8,-np.pi/8,0,0,0,0,0,0],\n",
    "[-np.pi/8,-np.pi/8,-np.pi/8,0,0,0,0,0,0]]))\n",
    "\n",
    "### QWP angles of photon 1\n",
    "QWP1=np.transpose(np.array([[np.pi/2,np.pi/2,np.pi/2,3*np.pi/4,3*np.pi/4,3*np.pi/4,np.pi/2,np.pi/2,np.pi/2],\n",
    "[np.pi/2,np.pi/2,np.pi/2,3*np.pi/4,3*np.pi/4,3*np.pi/4,np.pi/2,np.pi/2,np.pi/2],\n",
    "[np.pi/2,np.pi/2,np.pi/2,-3*np.pi/4,-3*np.pi/4,-3*np.pi/4,np.pi/2,np.pi/2,np.pi/2],\n",
    "[np.pi/2,np.pi/2,np.pi/2,-3*np.pi/4,-3*np.pi/4,-3*np.pi/4,np.pi/2,np.pi/2,np.pi/2]]))\n",
    "\n",
    "### HWP angles of photon 2\n",
    "HWP2=np.transpose(np.array([[np.pi/8,0,0,np.pi/8,0,0,np.pi/8,0,0],\n",
    "[-np.pi/8,0,0,-np.pi/8,0,0,-np.pi/8,0,0],\n",
    "[np.pi/8,0,0,np.pi/8,0,0,np.pi/8,0,0],\n",
    "[-np.pi/8,0,0,-np.pi/8,0,0,-np.pi/8,0,0]]))\n",
    "\n",
    "### QWP angles of photon 2\n",
    "QWP2=np.transpose(np.array([[np.pi/2,3*np.pi/4,np.pi/2,np.pi/2,3*np.pi/4,np.pi/2,np.pi/2,3*np.pi/4,np.pi/2],\n",
    "[np.pi/2,-3*np.pi/4,np.pi/2,np.pi/2,-3*np.pi/4,np.pi/2,np.pi/2,-3*np.pi/4,np.pi/2],\n",
    "[np.pi/2,3*np.pi/4,np.pi/2,np.pi/2,3*np.pi/4,np.pi/2,np.pi/2,3*np.pi/4,np.pi/2],\n",
    "[np.pi/2,-3*np.pi/4,np.pi/2,np.pi/2,-3*np.pi/4,np.pi/2,np.pi/2,-3*np.pi/4,np.pi/2]]))"
   ]
  },
  {
   "cell_type": "code",
   "execution_count": null,
   "metadata": {},
   "outputs": [],
   "source": [
    "r1=WP_rotation(QWP1[][],np.pi/2)@WP_rotation(HWP1[][],np.pi)\n",
    "r2=WP_rotation(QWP2[][],np.pi/2)@WP_rotation(HWP2[][],np.pi)\n",
    "\n",
    "MB_change=np.kron(r1,r2)\n",
    "sim_rho_i=MB_change@Optimized_matrix@np.transpose(np.conjugate(MB_change))\n",
    "\n"
   ]
  },
  {
   "cell_type": "code",
   "execution_count": 206,
   "metadata": {},
   "outputs": [
    {
     "data": {
      "text/plain": [
       "0.5"
      ]
     },
     "execution_count": 206,
     "metadata": {},
     "output_type": "execute_result"
    }
   ],
   "source": [
    "np.array([0,1])@np.array([[0.5,0.5],[0.5,0.5]])@np.transpose(np.array([0,1]))"
   ]
  },
  {
   "cell_type": "code",
   "execution_count": 11,
   "metadata": {
    "scrolled": true
   },
   "outputs": [
    {
     "ename": "NameError",
     "evalue": "name 'Unit1' is not defined",
     "output_type": "error",
     "traceback": [
      "\u001b[1;31m---------------------------------------------------------------------------\u001b[0m",
      "\u001b[1;31mNameError\u001b[0m                                 Traceback (most recent call last)",
      "\u001b[1;32mC:\\Users\\LAURAM~1\\AppData\\Local\\Temp/ipykernel_8028/2316415259.py\u001b[0m in \u001b[0;36m<module>\u001b[1;34m\u001b[0m\n\u001b[0;32m     17\u001b[0m     \u001b[0mdm_err\u001b[0m\u001b[1;33m[\u001b[0m\u001b[0mi\u001b[0m\u001b[1;33m]\u001b[0m\u001b[1;33m=\u001b[0m\u001b[0mstatetomo_err\u001b[0m\u001b[1;33m.\u001b[0m\u001b[0mquantum_state\u001b[0m\u001b[1;33m.\u001b[0m\u001b[0mget_density_matrix\u001b[0m\u001b[1;33m(\u001b[0m\u001b[1;33m)\u001b[0m\u001b[1;33m\u001b[0m\u001b[1;33m\u001b[0m\u001b[0m\n\u001b[0;32m     18\u001b[0m \u001b[1;33m\u001b[0m\u001b[0m\n\u001b[1;32m---> 19\u001b[1;33m     \u001b[0mfidelity_err\u001b[0m\u001b[1;33m[\u001b[0m\u001b[0mi\u001b[0m\u001b[1;33m]\u001b[0m\u001b[1;33m=\u001b[0m\u001b[0mround\u001b[0m\u001b[1;33m(\u001b[0m\u001b[0mfidelity\u001b[0m\u001b[1;33m(\u001b[0m\u001b[0mbell\u001b[0m\u001b[1;33m,\u001b[0m \u001b[0mApplyUnitaryToBell\u001b[0m\u001b[1;33m(\u001b[0m\u001b[0mnp\u001b[0m\u001b[1;33m.\u001b[0m\u001b[0mkron\u001b[0m\u001b[1;33m(\u001b[0m\u001b[0mUnit1\u001b[0m\u001b[1;33m,\u001b[0m\u001b[0mUnit2\u001b[0m\u001b[1;33m)\u001b[0m\u001b[1;33m,\u001b[0m \u001b[0mdm_err\u001b[0m\u001b[1;33m[\u001b[0m\u001b[0mi\u001b[0m\u001b[1;33m]\u001b[0m\u001b[1;33m)\u001b[0m\u001b[1;33m)\u001b[0m\u001b[1;33m,\u001b[0m \u001b[1;36m5\u001b[0m\u001b[1;33m)\u001b[0m\u001b[1;33m\u001b[0m\u001b[1;33m\u001b[0m\u001b[0m\n\u001b[0m",
      "\u001b[1;31mNameError\u001b[0m: name 'Unit1' is not defined"
     ]
    }
   ],
   "source": [
    "### ERRORS ####\n",
    "### Calculating the errors for the poissonian noise ###\n",
    "def ApplyUnitaryToBell(U, dm):\n",
    "    return U@dm@np.transpose(np.conjugate(U))\n",
    "\n",
    "error_runs=8000\n",
    "xp_counts_err=np.zeros((3**qubit_number,2**qubit_number), dtype=int)\n",
    "dm_err=np.zeros((error_runs, 2**qubit_number,2**qubit_number), dtype=complex)\n",
    "fidelity_err=np.zeros((error_runs), dtype=float)\n",
    "\n",
    "\n",
    "for i in range(error_runs):\n",
    "    xp_counts_err=np.random.poisson(lam=xp_counts)\n",
    "    statetomo_err=LRETomography(int(qubit_number), xp_counts_err, working_dir)\n",
    "    statetomo_err.run() ### Runs fast maximum likelihood estimation\n",
    "    statetomo_err.quantum_state.get_density_matrix()\n",
    "    dm_err[i]=statetomo_err.quantum_state.get_density_matrix()\n",
    "    \n",
    "    fidelity_err[i]=round(fidelity(bell, ApplyUnitaryToBell(np.kron(Unit1,Unit2), dm_err[i])), 5)"
   ]
  },
  {
   "cell_type": "code",
   "execution_count": null,
   "metadata": {},
   "outputs": [],
   "source": [
    "HWP_dict={\"d\": np.pi/8,\n",
    "          \"l\": 0,\n",
    "          \"v\": 0,\n",
    "          \"a\": -np.pi/8,\n",
    "          \"r\": 0,\n",
    "          \"h\": np.pi/4}\n",
    "\n",
    "QWP_dict={\"d\": np.pi/2,\n",
    "          \"l\": 3*np.pi/4,\n",
    "          \"v\": np.pi/2,\n",
    "          \"a\": np.pi/2,\n",
    "          \"r\": np.pi/4,\n",
    "          \"h\": np.pi/2}\n",
    "\n",
    "projector_dict={\"d\": 0,\n",
    "                \"l\": 1,\n",
    "                \"v\": 2,\n",
    "                \"a\": 3,\n",
    "                \"r\": 4,\n",
    "                \"h\": 5}\n",
    "\n",
    "bases=np.array([['dd', 'dl', 'dv', 'ld', 'll', 'lv', 'vd', 'vl', 'vv'],\n",
    "               ['da', 'dr', 'dh', 'la', 'lr', 'lh', 'va', 'vr', 'vh'],\n",
    "               ['ad', 'al', 'av', 'rd', 'rl', 'rv', 'hd', 'hl', 'hv'],\n",
    "               ['aa', 'ar', 'ah', 'ra', 'rr', 'rh', 'ha', 'hr', 'hh']])"
   ]
  },
  {
   "cell_type": "code",
   "execution_count": null,
   "metadata": {},
   "outputs": [],
   "source": [
    "### ERRORS ####\n",
    "### Calculating the errors for the poissonian noise\n",
    "error_runs=8000\n",
    "xp_counts_err=np.zeros((3**qubit_number,2**qubit_number), dtype=int)\n",
    "dm_err=np.zeros((error_runs, 2**qubit_number,2**qubit_number), dtype=complex)\n",
    "fidelity_err=np.zeros((error_runs), dtype=float)\n",
    "\n",
    "\n",
    "for i in range(error_runs):\n",
    "    xp_counts_err=np.random.poisson(lam=xp_counts)\n",
    "    statetomo_err=LRETomography(int(qubit_number), xp_counts_err, working_dir)\n",
    "    statetomo_err.run() ### Runs fast maximum likelihood estimation\n",
    "    statetomo_err.quantum_state.get_density_matrix()\n",
    "    dm_err[i]=statetomo_err.quantum_state.get_density_matrix()\n",
    "    \n",
    "    fidelity_err[i]=round(fidelity(bell, ApplyUnitaryToBell(np.kron(Unit1,Unit2), dm_err[i])), 5)"
   ]
  },
  {
   "cell_type": "code",
   "execution_count": null,
   "metadata": {},
   "outputs": [],
   "source": [
    "### Calculating the fidelity of the several run of simulated data\n",
    "# Define the Gaussian function\n",
    "def count_elements(seq) -> dict:\n",
    "    hist = {}\n",
    "    for i in seq:\n",
    "        hist[i] = hist.get(i, 0) + 1\n",
    "    return hist\n",
    "\n",
    "counted = count_elements(fidelity_err)\n",
    "errorbar_x=np.array(list(counted))\n",
    "errorbar_y=np.zeros((len(errorbar_x)), dtype=int)\n",
    "\n",
    "for i in range(len(error_x)):\n",
    "    errorbar_y[i]=counted[errorbar_x[i]]"
   ]
  },
  {
   "cell_type": "code",
   "execution_count": 193,
   "metadata": {},
   "outputs": [],
   "source": [
    "mu, std = norm.fit(fidelity_err)"
   ]
  },
  {
   "cell_type": "code",
   "execution_count": 194,
   "metadata": {},
   "outputs": [
    {
     "name": "stdout",
     "output_type": "stream",
     "text": [
      "944.1425940836268 0.9948771424604329 3.295243973484837e-05\n"
     ]
    },
    {
     "data": {
      "text/plain": [
       "<matplotlib.legend.Legend at 0x21bae82d280>"
      ]
     },
     "execution_count": 194,
     "metadata": {},
     "output_type": "execute_result"
    },
    {
     "data": {
      "image/png": "[encoded data removed]",
      "text/plain": [
       "<Figure size 432x288 with 1 Axes>"
      ]
     },
     "metadata": {
      "needs_background": "light"
     },
     "output_type": "display_data"
    }
   ],
   "source": [
    "def Gauss(x, A, mu, sigm):\n",
    "    y = A*np.exp(-((x-mu)/sigm)**2/2)\n",
    "    return y\n",
    "\n",
    "parameters, covariance = curve_fit(Gauss, errorbar_x, errorbar_y, bounds=[(800,0.99485,1e-10),(1200,0.9949,0.1)])\n",
    "  \n",
    "fit_A = parameters[0]\n",
    "fit_B = parameters[1]\n",
    "fit_C = parameters[2]\n",
    "print(fit_A, fit_B, fit_C)\n",
    "\n",
    "xdata=x = np.linspace(0.99475, 0.995, 100)\n",
    "fit_y = Gauss(xdata, fit_A, fit_B, fit_C)\n",
    "plt.plot(errorbar_x, errorbar_y, 'o', label='data')\n",
    "plt.plot(xdata, fit_y, '-', label='fit')\n",
    "plt.legend()"
   ]
  },
  {
   "cell_type": "code",
   "execution_count": 203,
   "metadata": {},
   "outputs": [],
   "source": []
  },
  {
   "cell_type": "code",
   "execution_count": 204,
   "metadata": {},
   "outputs": [],
   "source": []
  },
  {
   "cell_type": "code",
   "execution_count": null,
   "metadata": {},
   "outputs": [],
   "source": []
  },
  {
   "cell_type": "code",
   "execution_count": 202,
   "metadata": {},
   "outputs": [
    {
     "data": {
      "text/plain": [
       "-1.0"
      ]
     },
     "execution_count": 202,
     "metadata": {},
     "output_type": "execute_result"
    }
   ],
   "source": []
  }
 ],
 "metadata": {
  "kernelspec": {
   "display_name": "Python 3 (ipykernel)",
   "language": "python",
   "name": "python3"
  },
  "language_info": {
   "codemirror_mode": {
    "name": "ipython",
    "version": 3
   },
   "file_extension": ".py",
   "mimetype": "text/x-python",
   "name": "python",
   "nbconvert_exporter": "python",
   "pygments_lexer": "ipython3",
   "version": "3.8.12"
  }
 },
 "nbformat": 4,
 "nbformat_minor": 4
}
