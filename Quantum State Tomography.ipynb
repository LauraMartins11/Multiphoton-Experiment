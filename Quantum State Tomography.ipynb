{
 "cells": [
  {
   "cell_type": "code",
   "execution_count": 1,
   "metadata": {},
   "outputs": [],
   "source": [
    "import numpy as np\n",
    "import scipy\n",
    "import time\n",
    "import math\n",
    "from scipy.stats import norm\n",
    "\n",
    "import mystic\n",
    "from mystic.solvers import DifferentialEvolutionSolver, diffev2\n",
    "from mystic.strategy import Best1Bin\n",
    "from mystic.monitors import Monitor,VerboseMonitor\n",
    "\n",
    "from copy import deepcopy\n",
    "\n",
    "from tomography import *\n",
    "\n",
    "from NestedForLoop import get_iterator\n",
    "from pathlib import Path\n",
    "from scipy.linalg import sqrtm\n",
    "\n",
    "import matplotlib.pyplot as plt\n",
    "from scipy.optimize import curve_fit\n",
    "\n",
    "import os\n",
    "import glob\n",
    "\n",
    "import pandas as pd\n",
    "\n",
    "from scipy.optimize import least_squares\n",
    "\n",
    "import fnmatch\n",
    "from efficiencies import finding_file, get_channels_eff, set_raw_counts\n",
    "from optimization import Optimizer, function_fidelity, FidelityResults\n",
    "from constants import *\n",
    "\n",
    "from densitymatrix import DensityMatrix, apply_unitary_to_dm\n",
    "\n",
    "from pathlib import Path\n",
    "import fnmatch"
   ]
  },
  {
   "cell_type": "code",
   "execution_count": 2,
   "metadata": {
    "scrolled": true
   },
   "outputs": [],
   "source": [
    "######################################################################################################\n",
    "#----- COUNTING THE FILES AND SAVING THEM IN AN ARRAY TO MAKES THE REST OF THE ANALYSIS EASIER -------\n",
    "######################################################################################################\n",
    "\n",
    "n_files=0\n",
    "working_dir=r\"G:\\Other computers\\Mon ordinateur\\ChannelCertification\\SteeringHonest\"\n",
    "os.chdir(working_dir)\n",
    "\n",
    "filenames = [i for i in glob.glob(\"Channel*\")]\n",
    "filenames.sort(key=os.path.getmtime)\n",
    "\n",
    "index_to_file = {}\n",
    "\n",
    "for index, filename in enumerate(filenames):\n",
    "    os.chdir(f\"{working_dir}\\\\{filename}\")\n",
    "    filenames_aux=[i for i in glob.glob(\"StateTomography*\")]\n",
    "    for index_second, filenames_aux_second in enumerate(filenames_aux):\n",
    "        index_to_file[n_files] = f\"{filename}\\\\{filenames_aux_second}\"\n",
    "        n_files+=1\n",
    "os.chdir(working_dir)"
   ]
  },
  {
   "cell_type": "code",
   "execution_count": 3,
   "metadata": {},
   "outputs": [],
   "source": [
    "os.chdir(working_dir)\n",
    "qubit_number=2\n",
    "\n",
    "state_after=[]\n",
    "state_after_file=[]\n",
    "\n",
    "state_before=[]\n",
    "state_before_file=[]\n",
    "\n",
    "state = []\n",
    "xp_counts_corrected_with_eff=[]\n",
    "\n",
    "statetomo = []\n",
    "\n",
    "#####################################################################\n",
    "#---------------------- STATE TOMOGRAPHY ----------------------------\n",
    "#####################################################################\n",
    "for index in range(len(index_to_file)):\n",
    "    os.chdir(f\"{working_dir}\\\\{index_to_file[index]}\\\\StateTomo\")\n",
    "    datafiles=[i for i in glob.glob(\"*\")]\n",
    "                \n",
    "    ### Calculating the efficiencies of each detector\n",
    "    efficiencies=get_channels_eff(datafiles, os.getcwd())\n",
    "\n",
    "    ### Opening the data files and writing the data in counts_aux array\n",
    "    counts_aux=set_raw_counts(datafiles, qubit_number, os.getcwd())\n",
    "    xp_counts=np.array(np.transpose(counts_aux))\n",
    "\n",
    "    statetomo.append(LRETomography(int(qubit_number), xp_counts))\n",
    "    statetomo[-1].run(correct_eff=efficiencies, print_nc=False)\n",
    "    xp_counts_corrected_with_eff.append(statetomo[-1].xp_counts)\n",
    "\n",
    "    ## The 'e' and 'r' serve to distinguish between tomography before and after, respectively\n",
    "    ## We want to save them in different arrays because we need them for different things\n",
    "    if index_to_file[index][-8]=='e':\n",
    "        state_before.append(statetomo[-1])#.state)\n",
    "        state_before_file.append(index_to_file[index])\n",
    "        #print('\\n Fast maximum likelihood estimation: \\n', state_before[-1], '\\n')\n",
    "\n",
    "    elif index_to_file[index][-8]=='r':\n",
    "        state_after.append(statetomo[-1])#.state)\n",
    "        state_after_file.append(index_to_file[index])\n",
    "        #print('\\n Fast maximum likelihood estimation: \\n', state_after[-1], '\\n')\n",
    "        "
   ]
  },
  {
   "cell_type": "code",
   "execution_count": 4,
   "metadata": {},
   "outputs": [],
   "source": [
    "######################################\n",
    "#-- DEFINING THE TARGET BELL STATE ---\n",
    "######################################\n",
    "\n",
    "#bell=(np.array([1,0,0,0])+np.array([0,0,0,1]))/np.sqrt(2)\n",
    "#bell=(np.array([1,0,0,0])-np.array([0,0,0,1]))/np.sqrt(2)\n",
    "bell=(np.array([0,1,0,0])+np.array([0,0,1,0]))/np.sqrt(2)\n",
    "#bell=(np.array([0,1,0,0])-np.array([0,0,1,0]))/np.sqrt(2)\n",
    "bellmatrix=np.array(np.outer(bell, np.conjugate(bell)))"
   ]
  },
  {
   "cell_type": "code",
   "execution_count": 5,
   "metadata": {},
   "outputs": [],
   "source": [
    "# states=state_after\n",
    "# for index in range(len(states)):\n",
    "#     print(np.real(np.round(states[index].fidelity(bell),5)))"
   ]
  },
  {
   "cell_type": "code",
   "execution_count": 6,
   "metadata": {
    "scrolled": true
   },
   "outputs": [],
   "source": [
    "##########################################################\n",
    "#----- OPTIMIZATION OF MAX FIDELITY UP TO UNITARIES ------\n",
    "##########################################################\n",
    "bell=(np.array([0,1,0,0])+np.array([0,0,1,0]))/np.sqrt(2)\n",
    "fid=np.zeros((n_files))\n",
    "optimized_matrix=np.zeros((n_files,2**qubit_number,2**qubit_number), dtype='complex')\n",
    "\n",
    "guess=np.array([0, 0, 0])\n",
    "bounds=[(-np.pi,np.pi)]*3\n",
    "results = []\n",
    "\n",
    "opt=Optimizer(guess, function_fidelity, results=FidelityResults)\n",
    "\n",
    "for index in range(len(state_before)):\n",
    "    result=opt.optimize(state_before[index].state, bell, bounds=bounds)\n",
    "    results.append(result)"
   ]
  },
  {
   "cell_type": "code",
   "execution_count": 7,
   "metadata": {},
   "outputs": [
    {
     "name": "stdout",
     "output_type": "stream",
     "text": [
      "index, fidelity, fidelity_mean, fidelity_std:  ChannelSTSteeringHonest202205241718\\StateTomography202205241900BeforeChannel (0.99434-0j) -0.99431 0.0\n",
      "index, fidelity, fidelity_mean, fidelity_std:  ChannelSTSteeringHonest202205241947\\StateTomography202205250806BeforeChannel (0.99192+0j) -0.99185 0.0\n",
      "index, fidelity, fidelity_mean, fidelity_std:  ChannelSTSteeringHonest202205252200\\StateTomography202205260806BeforeChannel (0.99097-0j) -0.99092 0.0\n",
      "index, fidelity, fidelity_mean, fidelity_std:  ChannelSTSteeringHonest202205261311\\StateTomography202205261526BeforeChannel (0.99279+0j) -0.99269 0.0\n",
      "index, fidelity, fidelity_mean, fidelity_std:  ChannelSTSteeringHonest202205261554\\StateTomography202205261838BeforeChannel (0.9924-0j) -0.9923 0.0\n",
      "index, fidelity, fidelity_mean, fidelity_std:  ChannelSTSteeringHonest202205261859\\StateTomography202205262104BeforeChannel (0.99198-0j) -0.99194 0.0\n",
      "index, fidelity, fidelity_mean, fidelity_std:  ChannelSTSteeringHonest202205270908\\StateTomography202205271118BeforeChannel (0.99339+0j) -0.99327 0.0\n",
      "index, fidelity, fidelity_mean, fidelity_std:  ChannelSTSteeringHonest202205271143\\StateTomography202205271351BeforeChannel (0.99353-0j) -0.99334 0.0\n",
      "index, fidelity, fidelity_mean, fidelity_std:  ChannelSTSteeringHonest202205271427\\StateTomography202205261630BeforeChannel (0.99281+0j) -0.99284 0.0\n",
      "index, fidelity, fidelity_mean, fidelity_std:  ChannelSTSteeringHonest202205271705\\StateTomography202205271928BeforeChannel (0.99304+0j) -0.99303 0.0\n",
      "index, fidelity, fidelity_mean, fidelity_std:  ChannelSTSteeringHonest202205272011\\StateTomography202205280838BeforeChannel (0.99092-0j) -0.991 0.0\n",
      "index, fidelity, fidelity_mean, fidelity_std:  ChannelSTSteeringHonest202205260905\\StateTomography202205261159BeforeChannel (0.98367-0j) -0.98297 0.0\n"
     ]
    }
   ],
   "source": [
    "##########################################################\n",
    "#------------ ERRORS Input with BELL STATE---------------#\n",
    "##########################################################\n",
    "bell=(np.array([0,1,0,0])+np.array([0,0,1,0]))/np.sqrt(2)\n",
    "bellmatrix=np.array(np.outer(bell, np.conjugate(bell)))\n",
    "error_runs=1000\n",
    "\n",
    "U=[]\n",
    "bell_aux=[]\n",
    "target_ini=[]\n",
    "\n",
    "states=state_before\n",
    "players=[\"Arya\", \"Cersei\"]\n",
    "\n",
    "for index in range(len(states)):\n",
    "    target=bellmatrix\n",
    "    U.append(results[index].u)\n",
    "    target_ini.append(np.transpose(np.conjugate(U[-1]))@bellmatrix@U[-1])    \n",
    "    \n",
    "    states[index].calculate_fidelity_error(players, error_runs, opt, target, bounds=bounds)\n",
    "    \n",
    "    print('index, fidelity, fidelity_mean, fidelity_std: ',\n",
    "          state_before_file[index], np.round(states[index].state.fidelity(target_ini[-1]),5), np.round(states[index].fidelity_mu,5),\n",
    "          np.round(states[index].fidelity_std,5))"
   ]
  },
  {
   "cell_type": "code",
   "execution_count": 8,
   "metadata": {},
   "outputs": [
    {
     "name": "stdout",
     "output_type": "stream",
     "text": [
      "index, fidelity, fidelity_mean, fidelity_std:  ChannelSTSteeringHonest202205241718\\StateTomography202205241843AfterChannel (0.99707+0j) -0.9971 0.00037\n",
      "index, fidelity, fidelity_mean, fidelity_std:  ChannelSTSteeringHonest202205241947\\StateTomography202205242247AfterChannel (0.99902+0j) -0.99922 0.00017\n",
      "index, fidelity, fidelity_mean, fidelity_std:  ChannelSTSteeringHonest202205252200\\StateTomography202205251816AfterChannel (0.01309+0j) -0.99621 0.00022\n",
      "index, fidelity, fidelity_mean, fidelity_std:  ChannelSTSteeringHonest202205261311\\StateTomography202205261508AfterChannel (0.99797+0j) -0.99776 0.00037\n",
      "index, fidelity, fidelity_mean, fidelity_std:  ChannelSTSteeringHonest202205261554\\StateTomography202205261814AfterChannel (0.99637+0j) -0.99665 0.00073\n",
      "index, fidelity, fidelity_mean, fidelity_std:  ChannelSTSteeringHonest202205261859\\StateTomography202205262046AfterChannel (0.99636+0j) -0.99677 3e-05\n",
      "index, fidelity, fidelity_mean, fidelity_std:  ChannelSTSteeringHonest202205270908\\StateTomography202205261102AfterChannel (0.99674-0j) -0.99736 0.0005\n",
      "index, fidelity, fidelity_mean, fidelity_std:  ChannelSTSteeringHonest202205271143\\StateTomography202205271336AfterChannel (0.99772+0j) -0.99784 0.00038\n",
      "index, fidelity, fidelity_mean, fidelity_std:  ChannelSTSteeringHonest202205271427\\StateTomography202205271614AfterChannel (0.9981+0j) -0.99858 0.0003\n",
      "index, fidelity, fidelity_mean, fidelity_std:  ChannelSTSteeringHonest202205271705\\StateTomography202205271855AfterChannel (0.99738-0j) -0.99731 0.00024\n",
      "index, fidelity, fidelity_mean, fidelity_std:  ChannelSTSteeringHonest202205272011\\StateTomography202205280818AfterChannel (0.99502-0j) -0.99567 0.00042\n",
      "index, fidelity, fidelity_mean, fidelity_std:  ChannelSTSteeringHonest202205260905\\StateTomography202205261102AfterChannel (0.98574-0j) -0.98661 0.0011\n"
     ]
    }
   ],
   "source": [
    "##########################################################\n",
    "#--------------- ERRORS OUTPUT TO INTPUT ----------------#\n",
    "##########################################################\n",
    "error_runs=1000\n",
    "\n",
    "U=[]\n",
    "bell_aux=[]\n",
    "target_ini=[]\n",
    "\n",
    "states=state_before\n",
    "\n",
    "for index in range(len(states)):\n",
    "    target=state_after[index]\n",
    "    U.append(np.kron(results[index].u1,results[index].u2))\n",
    "    target_ini.append(np.transpose(np.conjugate(U[-1]))@state_after[index].state.state@U[-1])\n",
    "    \n",
    "    states[index].calculate_fidelity_error_with_experimental_target(players, error_runs, opt, target, bounds=bounds)\n",
    "    \n",
    "    print('index, fidelity, fidelity_mean, fidelity_std: ',\n",
    "          state_after_file[index], np.round(states[index].state.fidelity(target_ini[-1]),5), np.round(states[index].fidelity_mu,5),\n",
    "          np.round(states[index].fidelity_std,5))"
   ]
  },
  {
   "cell_type": "code",
   "execution_count": 9,
   "metadata": {},
   "outputs": [
    {
     "name": "stdout",
     "output_type": "stream",
     "text": [
      "index, fidelity, fidelity_mean, fidelity_std:  ChannelSTSteeringHonest202205260905\\StateTomography202205261159BeforeChannel (0.99634+0j) -0.99667 0.00013\n"
     ]
    }
   ],
   "source": [
    "bell=(np.array([0,1,0,0])-np.array([0,0,1,0]))/np.sqrt(2)\n",
    "bellmatrix=np.array(np.outer(bell, np.conjugate(bell)))\n",
    "\n",
    "result=opt.optimize(state_before[2].state, bell, bounds=bounds)\n",
    "U[2]=np.kron(result.u1,result.u2)\n",
    "\n",
    "t=state_after[2].state.state\n",
    "\n",
    "t_ini=np.linalg.inv(U[2])@state_after[2].state.state@np.linalg.inv(np.transpose(np.conjugate(U[2])))\n",
    "\n",
    "states[2].calculate_fidelity_error(players, error_runs, opt, t, bounds=bounds)\n",
    "\n",
    "print('index, fidelity, fidelity_mean, fidelity_std: ',\n",
    "        state_before_file[index], np.round(states[2].state.fidelity(t_ini),5), np.round(states[2].fidelity_mu,5),\n",
    "        np.round(states[2].fidelity_std,5))"
   ]
  },
  {
   "cell_type": "code",
   "execution_count": null,
   "metadata": {},
   "outputs": [],
   "source": []
  },
  {
   "cell_type": "code",
   "execution_count": null,
   "metadata": {},
   "outputs": [],
   "source": []
  },
  {
   "cell_type": "code",
   "execution_count": 36,
   "metadata": {},
   "outputs": [
    {
     "name": "stdout",
     "output_type": "stream",
     "text": [
      "index, fidelity, fidelity_mean, fidelity_std:  ChannelSTSteeringHonest202205241718\\StateTomography202205241843AfterChannel (0.9907-0j) -0.99055 0.0\n",
      "index, fidelity, fidelity_mean, fidelity_std:  ChannelSTSteeringHonest202205241947\\StateTomography202205242247AfterChannel (0.99083+0j) -0.99098 0.0\n",
      "index, fidelity, fidelity_mean, fidelity_std:  ChannelSTSteeringHonest202205252200\\StateTomography202205251816AfterChannel (0.00334-0j) -0.99294 0.0\n",
      "index, fidelity, fidelity_mean, fidelity_std:  ChannelSTSteeringHonest202205261311\\StateTomography202205261508AfterChannel (0.99254-0j) -0.99237 0.0\n",
      "index, fidelity, fidelity_mean, fidelity_std:  ChannelSTSteeringHonest202205261554\\StateTomography202205261814AfterChannel (0.99217-0j) -0.99218 0.0\n",
      "index, fidelity, fidelity_mean, fidelity_std:  ChannelSTSteeringHonest202205261859\\StateTomography202205262046AfterChannel (0.99141-0j) -0.99175 0.0\n",
      "index, fidelity, fidelity_mean, fidelity_std:  ChannelSTSteeringHonest202205270908\\StateTomography202205261102AfterChannel (0.99226-0j) -0.99217 0.0\n",
      "index, fidelity, fidelity_mean, fidelity_std:  ChannelSTSteeringHonest202205271143\\StateTomography202205271336AfterChannel (0.99146-0j) -0.9915 0.0\n",
      "index, fidelity, fidelity_mean, fidelity_std:  ChannelSTSteeringHonest202205271427\\StateTomography202205271614AfterChannel (0.99221-0j) -0.99251 0.0\n",
      "index, fidelity, fidelity_mean, fidelity_std:  ChannelSTSteeringHonest202205271705\\StateTomography202205271855AfterChannel (0.99211-0j) -0.99235 0.0\n",
      "index, fidelity, fidelity_mean, fidelity_std:  ChannelSTSteeringHonest202205272011\\StateTomography202205280818AfterChannel (0.99161-0j) -0.99176 0.0\n",
      "index, fidelity, fidelity_mean, fidelity_std:  ChannelSTSteeringHonest202205260905\\StateTomography202205261102AfterChannel (0.99226-0j) -0.99235 0.0\n"
     ]
    }
   ],
   "source": [
    "##########################################################\n",
    "#------------ ERRORS OUTPUT with BELL STATE--------------#\n",
    "##########################################################\n",
    "bell=(np.array([0,1,0,0])+np.array([0,0,1,0]))/np.sqrt(2)\n",
    "bellmatrix=np.array(np.outer(bell, np.conjugate(bell)))\n",
    "error_runs=30\n",
    "\n",
    "U=[]\n",
    "bell_aux=[]\n",
    "target_ini=[]\n",
    "\n",
    "states=state_after\n",
    "players=[\"Arya\", \"Cersei\"]\n",
    "\n",
    "guess=np.array([0, 0, 0])\n",
    "bounds=[(-np.pi,np.pi)]*3\n",
    "opt=Optimizer(guess, function_fidelity, results=FidelityResults)\n",
    "\n",
    "for index in range(len(states)):\n",
    "    target=bellmatrix\n",
    "    #U.append(results[index].u)\n",
    "    #target_ini.append(np.transpose(np.conjugate(U[-1]))@bellmatrix@U[-1])    \n",
    "    \n",
    "    states[index].calculate_fidelity_error(players, error_runs, opt, target, bounds=bounds)\n",
    "    \n",
    "    print('index, fidelity, fidelity_mean, fidelity_std: ',\n",
    "          state_after_file[index], np.round(states[index].state.fidelity(target),5), np.round(states[index].fidelity_mu,5),\n",
    "          np.round(states[index].fidelity_std,5))"
   ]
  },
  {
   "cell_type": "code",
   "execution_count": 37,
   "metadata": {},
   "outputs": [
    {
     "name": "stdout",
     "output_type": "stream",
     "text": [
      "index, fidelity, fidelity_mean, fidelity_std:  ChannelSTSteeringHonest202205260905\\StateTomography202205261102AfterChannel (0.99285-0j) -0.99999 0.0\n"
     ]
    }
   ],
   "source": [
    "bell=(np.array([0,1,0,0])-np.array([0,0,1,0]))/np.sqrt(2)\n",
    "bellmatrix=np.array(np.outer(bell, np.conjugate(bell)))\n",
    "target=bellmatrix\n",
    "\n",
    "result=opt.optimize(state_before[2].state, bell, bounds=bounds)\n",
    "\n",
    "t=state_after[2].state.state\n",
    "\n",
    "states[2].calculate_fidelity_error(players, error_runs, opt, t, bounds=bounds)\n",
    "\n",
    "print('index, fidelity, fidelity_mean, fidelity_std: ',\n",
    "        state_after_file[index], np.round(states[2].state.fidelity(target),5), np.round(states[2].fidelity_mu,5),\n",
    "        np.round(states[2].fidelity_std,5))"
   ]
  },
  {
   "cell_type": "code",
   "execution_count": null,
   "metadata": {},
   "outputs": [],
   "source": [
    "##########################################################\n",
    "#------------ WRITING THE DATA IN AN EXCEL ---------------\n",
    "##########################################################\n",
    "\n",
    "import xlsxwriter\n",
    "states=state_before\n",
    "\n",
    "workbook = xlsxwriter.Workbook('fidelities_to_ini_state_errors.xlsx') ### We should write this in another place\n",
    " \n",
    "worksheet = workbook.add_worksheet()\n",
    "\n",
    "worksheet.write('A1', 'Number')\n",
    "worksheet.write('B1', 'Folder')\n",
    "worksheet.write('C1', 'Fidelity')\n",
    "worksheet.write('D1', 'Fidelity_mean')\n",
    "worksheet.write('E1', 'Fidelity_uncertainty')\n",
    "\n",
    "counter=0\n",
    "for index in range(len(state_before)):\n",
    "    \n",
    "    worksheet.write('A'+str(counter+2), counter)\n",
    "    worksheet.write('B'+str(counter+2), state_before_file[index])\n",
    "    worksheet.write('C'+str(counter+2), np.real(np.round(states_final[index].fidelity(target[index]),5)))#np.round(states[index].fidelity_to_pure(bell),5)))\n",
    "    worksheet.write('D'+str(counter+2), np.real(np.round(states_final[index].mu,5)))\n",
    "    worksheet.write('E'+str(counter+2), np.real(np.round(states_final[index].std,5)))\n",
    "    counter+=1\n",
    "        \n",
    "workbook.close()"
   ]
  },
  {
   "cell_type": "code",
   "execution_count": null,
   "metadata": {},
   "outputs": [],
   "source": []
  },
  {
   "cell_type": "code",
   "execution_count": null,
   "metadata": {},
   "outputs": [],
   "source": []
  },
  {
   "cell_type": "code",
   "execution_count": null,
   "metadata": {},
   "outputs": [],
   "source": []
  },
  {
   "cell_type": "code",
   "execution_count": null,
   "metadata": {},
   "outputs": [],
   "source": [
    "### IF WE WANT TO CHECK THE FIT TO THE UNCERTARTAINTY\n",
    "### Then we need to calculate the statistic on these simulated fidelities and calculate the standart deviation\n",
    "### This will be our uncertainty due to statistical errors\n",
    "def count_elements(seq) -> dict:\n",
    "    hist = {}\n",
    "    for i in seq:\n",
    "        hist[i] = hist.get(i, 0) + 1\n",
    "    return hist\n",
    "\n",
    "counted = count_elements(fidelity_sim)\n",
    "#print(counted)\n",
    "bin_numb = len(counted)\n",
    "errorbar_x=np.array(list(counted))\n",
    "errorbar_y=np.zeros((bin_numb), dtype=int)\n",
    "\n",
    "for i in range(bin_numb):\n",
    "    errorbar_y[i]=counted[errorbar_x[i]]\n",
    "    \n",
    "#print(errorbar_x)\n",
    "#print(errorbar_y)\n",
    "    \n",
    "def Gauss(x, A, mu, sigm):\n",
    "    y = A*np.exp(-((x-mu)/sigm)**2/2)\n",
    "    return y\n",
    "\n",
    "mu, std = norm.fit(fidelity_sim)\n",
    "print(mu, std)\n",
    "parameters, covariance = curve_fit(Gauss, xdata=errorbar_x[-1], ydata=errorbar_y[:-1], bounds=[(0,0.99007,1e-4),(60,0.9903,0.0002)])\n",
    "fit_A = parameters[0]\n",
    "fit_B = parameters[1]\n",
    "fit_C = parameters[2]\n",
    "print(fit_A, fit_B, fit_C)\n",
    "\n",
    "xdata= x = np.linspace(0.989, 0.991, 100)\n",
    "fit_y = Gauss(xdata, fit_A, fit_B, fit_C)\n",
    "plt.plot(errorbar_x[:-1], errorbar_y[:-1], 'o', label='data')\n",
    "plt.plot(xdata, fit_y, '-', label='fit')\n",
    "plt.legend()"
   ]
  }
 ],
 "metadata": {
  "kernelspec": {
   "display_name": "Python 3 (ipykernel)",
   "language": "python",
   "name": "python3"
  },
  "language_info": {
   "codemirror_mode": {
    "name": "ipython",
    "version": 3
   },
   "file_extension": ".py",
   "mimetype": "text/x-python",
   "name": "python",
   "nbconvert_exporter": "python",
   "pygments_lexer": "ipython3",
   "version": "3.8.12"
  }
 },
 "nbformat": 4,
 "nbformat_minor": 4
}
